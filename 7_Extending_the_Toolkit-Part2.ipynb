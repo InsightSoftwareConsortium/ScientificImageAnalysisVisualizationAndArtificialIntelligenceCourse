{
 "cells": [
  {
   "cell_type": "markdown",
   "metadata": {
    "slideshow": {
     "slide_type": "slide"
    }
   },
   "source": [
    "# Extend ITK with your own module - Part 2"
   ]
  },
  {
   "cell_type": "markdown",
   "metadata": {
    "slideshow": {
     "slide_type": "slide"
    }
   },
   "source": [
    "## Creation of a remote module: Overview\n",
    "\n",
    "1. The developer creates a new module containing new ITK filters.\n",
    "    * The new module is its own independent GitHub project.\n",
    "    * The new module can be easily be compiled and used in combination with ITK.\n",
    "2. The developer writes an Insight Journal article\n",
    "    * The module is more visible to the community.\n",
    "    * An option can be added to ITK to compile the remote module as part of ITK."
   ]
  },
  {
   "cell_type": "markdown",
   "metadata": {
    "slideshow": {
     "slide_type": "slide"
    }
   },
   "source": [
    "## Creation of a remote module: details\n",
    "\n",
    "* The template project source code is here: [https://github.com/InsightSoftwareConsortium/ITKModuleTemplate](https://github.com/InsightSoftwareConsortium/ITKModuleTemplate)"
   ]
  },
  {
   "cell_type": "markdown",
   "metadata": {
    "slideshow": {
     "slide_type": "subslide"
    }
   },
   "source": [
    "* Run the following commands:\n",
    "        python -m pip install cookiecutter\n",
    "        python -m cookiecutter gh:InsightSoftwareConsortium/ITKModuleTemplate"
   ]
  },
  {
   "cell_type": "markdown",
   "metadata": {
    "slideshow": {
     "slide_type": "subslide"
    }
   },
   "source": [
    "* Provide requested information.\n",
    "        Answer the following questions (Pressing \"Enter\" will use the default option):\n",
    "        full_name [Insight Software Consortium]:\n",
    "        email [itk+community@discourse.itk.org]:\n",
    "        github_username [itkrobot]:\n",
    "        project_name [ITKModuleTemplate]: \n",
    "        module_name [ModuleTemplate]: \n",
    "        python_package_name [itk-moduletemplate]: \n",
    "        download_url [https://github.com/InsightSoftwareConsortium/ITKModuleTemplate]: \n",
    "        project_short_description [This is a template that serves as a starting point for a new module.]: \n",
    "        project_long_description [ITK is an open-source, cross-platform library that provides developers with an extensive suite of software tools for image analysis. Developed through extreme programming methodologies, ITK employs leading-edge algorithms for registering and segmenting multidimensional scientific images.]: "
   ]
  },
  {
   "cell_type": "markdown",
   "metadata": {
    "slideshow": {
     "slide_type": "slide"
    }
   },
   "source": [
    "##  New Module Content\n",
    "<pre>\n",
    "        (itk) fbudin:ITKModuleTemplate/ $ tree -a\n",
    "        .\n",
    "        ├── appveyor.yml\n",
    "        ├── .circleci\n",
    "        │   └── config.yml\n",
    "        ├── CMakeLists.txt\n",
    "        ├── CTestConfig.cmake\n",
    "        ├── include\n",
    "        │   ├── itkMinimalStandardRandomVariateGenerator.h\n",
    "        │   ├── itkMyFilter.h\n",
    "        │   ├── itkMyFilter.hxx\n",
    "        │   ├── itkNormalDistributionImageSource.h\n",
    "        │   └── itkNormalDistributionImageSource.hxx\n",
    "        ├── itk-module.cmake\n",
    "        ├── LICENSE\n",
    "        ├── README.rst\n",
    "        ├── setup.py\n",
    "</pre>"
   ]
  },
  {
   "cell_type": "markdown",
   "metadata": {
    "slideshow": {
     "slide_type": "subslide"
    }
   },
   "source": [
    "<pre>\n",
    "        ├── src\n",
    "        │   ├── CMakeLists.txt\n",
    "        │   └── itkMinimalStandardRandomVariateGenerator.cxx\n",
    "        ├── test\n",
    "        │   ├── Baseline\n",
    "        │   │   ├── itkMyFilterTestOutput.mha.sha512\n",
    "        │   │   └── itkNormalDistributionImageSourceTestOutput.mha.sha512\n",
    "        │   ├── CMakeLists.txt\n",
    "        │   ├── itkMinimalStandardRandomVariateGeneratorTest.cxx\n",
    "        │   ├── itkMyFilterTest.cxx\n",
    "        │   └── itkNormalDistributionImageSourceTest.cxx\n",
    "        ├── .travis.yml\n",
    "        └── wrapping\n",
    "            ├── CMakeLists.txt\n",
    "            ├── itkMinimalStandardRandomVariateGenerator.wrap\n",
    "            └── itkNormalDistributionImageSource.wrap\n",
    "</pre>"
   ]
  },
  {
   "cell_type": "markdown",
   "metadata": {
    "slideshow": {
     "slide_type": "slide"
    }
   },
   "source": [
    "##  Directory structure\n",
    "\n",
    "* `src`  and `include`: header files and source code\n",
    "* `test`: unit tests\n",
    "* `wrapping`: Required files to automatically create Python bindings."
   ]
  },
  {
   "cell_type": "markdown",
   "metadata": {
    "slideshow": {
     "slide_type": "slide"
    }
   },
   "source": [
    "## Filter code\n",
    "\n",
    "<pre>\n",
    "template< typename TInputImage, typename TOutputImage >\n",
    "void\n",
    "MyFilter< TInputImage, TOutputImage >\n",
    "::DynamicThreadedGenerateData( const OutputRegionType & outputRegion)\n",
    "{\n",
    "  OutputImageType * output = this->GetOutput();\n",
    "  const InputImageType * input = this->GetInput();\n",
    "  using InputRegionType = typename InputImageType::RegionType;\n",
    "  InputRegionType inputRegion = InputRegionType(outputRegion.GetSize());\n",
    "\n",
    "  itk::ImageRegionConstIterator<InputImageType> in(input, inputRegion);\n",
    "  itk::ImageRegionIterator<OutputImageType> out(output, outputRegion);\n",
    "\n",
    "  for (in.GoToBegin(), out.GoToBegin(); !in.IsAtEnd() && !out.IsAtEnd(); ++in, ++out)\n",
    "  {\n",
    "    out.Set( in.Get() );\n",
    "  }\n",
    "}\n",
    "</pre>"
   ]
  },
  {
   "cell_type": "markdown",
   "metadata": {
    "slideshow": {
     "slide_type": "slide"
    }
   },
   "source": [
    "## Continuous integration\n",
    "\n",
    "* Appveyor (Windows)\n",
    "* Travis (MacOS)\n",
    "* CircleCI (Linux)\n",
    "* Azure pipeline (Windows, Linux, MacOS)"
   ]
  },
  {
   "cell_type": "markdown",
   "metadata": {
    "slideshow": {
     "slide_type": "slide"
    }
   },
   "source": [
    "## Python packages\n",
    "\n",
    "* Automatically generated with Azure Pipeline\n",
    "* Python Wheels automatically uploaded to [PyPI.org](https://pypi.org/search/?q=itk)"
   ]
  },
  {
   "cell_type": "markdown",
   "metadata": {
    "slideshow": {
     "slide_type": "slide"
    }
   },
   "source": [
    "## Where to find more information:\n",
    "\n",
    "* ITK Software Guide\n",
    "    * [Configuring and building ITK](https://itk.org/ITKSoftwareGuide/html/Book1/ITKSoftwareGuide-Book1ch2.html#x22-130002)\n",
    "    * [Create a remote module](https://itk.org/ITKSoftwareGuide/html/Book1/ITKSoftwareGuide-Book1ch9.html#x55-1640009.7)\n",
    "    * [How to write a filter](https://itk.org/ITKSoftwareGuide/html/Book1/ITKSoftwareGuide-Book1ch8.html#x54-1330008)\n",
    "    * [Iterators](https://itk.org/ITKSoftwareGuide/html/Book1/ITKSoftwareGuide-Book1ch6.html#x44-1020006)\n",
    "    * [Modules](https://itk.org/ITKSoftwareGuide/html/Book1/ITKSoftwareGuide-Book1ch9.html#x48-1480009)\n",
    "* [Discourse forum](https://discourse.itk.org/)"
   ]
  },
  {
   "cell_type": "markdown",
   "metadata": {
    "slideshow": {
     "slide_type": "slide"
    }
   },
   "source": [
    "## Exercises"
   ]
  },
  {
   "cell_type": "markdown",
   "metadata": {
    "slideshow": {
     "slide_type": "subslide"
    }
   },
   "source": [
    "### Exercise 1: Create the skeleton of a remote module\n",
    "\n",
    "* Hint1: Open a Notebook terminal (File->Open, New->Terminal)\n",
    "* Hint2: You will need to add the argument '--no-input' to the command you are using. This is a limitation due to this notebook environment."
   ]
  },
  {
   "cell_type": "code",
   "execution_count": null,
   "metadata": {
    "slideshow": {
     "slide_type": "-"
    }
   },
   "outputs": [],
   "source": [
    "# %load solutions/6_Extending_the_toolkit_exercise1.py"
   ]
  },
  {
   "cell_type": "markdown",
   "metadata": {
    "slideshow": {
     "slide_type": "subslide"
    }
   },
   "source": [
    "### Exercise 2: Modify the filter\n",
    "\n",
    "* Add a constant value\n",
    "* Multiply by a constant factor\n"
   ]
  },
  {
   "cell_type": "code",
   "execution_count": null,
   "metadata": {
    "slideshow": {
     "slide_type": "-"
    }
   },
   "outputs": [],
   "source": [
    "# %load solutions/6_Extending_the_toolkit_exercise2.py"
   ]
  },
  {
   "cell_type": "markdown",
   "metadata": {
    "slideshow": {
     "slide_type": "slide"
    }
   },
   "source": [
    "## Github and Continuous Integration (CI)"
   ]
  },
  {
   "cell_type": "markdown",
   "metadata": {
    "slideshow": {
     "slide_type": "subslide"
    }
   },
   "source": [
    "Taking a look at an existing remote module: [ITKSplitComponents](https://github.com/InsightSoftwareConsortium/ITKSplitComponents)"
   ]
  },
  {
   "cell_type": "markdown",
   "metadata": {
    "slideshow": {
     "slide_type": "subslide"
    }
   },
   "source": [
    "* It is very similar to the module we created on our computer.\n",
    "* You can modify it directly in your browser."
   ]
  },
  {
   "cell_type": "markdown",
   "metadata": {
    "slideshow": {
     "slide_type": "subslide"
    }
   },
   "source": [
    "[![Kitware](data/6_Extend_0_Github-SplitComponents.png)](https://github.com/InsightSoftwareConsortium/ITKSplitComponents)"
   ]
  },
  {
   "cell_type": "markdown",
   "metadata": {
    "slideshow": {
     "slide_type": "subslide"
    }
   },
   "source": [
    "[![Kitware](data/6_Extend_1_GitHub-SplitComponents-README.png)](https://github.com/InsightSoftwareConsortium/ITKSplitComponents/blob/master/README.rst)"
   ]
  },
  {
   "cell_type": "markdown",
   "metadata": {
    "slideshow": {
     "slide_type": "subslide"
    }
   },
   "source": [
    "[![Kitware](data/6_Extend_2_Github-SplitComponents-Edit_and_create_branch.png)](https://github.com/InsightSoftwareConsortium/ITKSplitComponents/edit/master/README.rst)"
   ]
  },
  {
   "cell_type": "markdown",
   "metadata": {
    "slideshow": {
     "slide_type": "subslide"
    }
   },
   "source": [
    "[![Kitware](data/6_Extend_3_Github-SplitComponents-CreatePR.png)](https://github.com/InsightSoftwareConsortium/ITKSplitComponents)"
   ]
  },
  {
   "cell_type": "markdown",
   "metadata": {
    "slideshow": {
     "slide_type": "subslide"
    }
   },
   "source": [
    "![Kitware](data/6_Extend_4_Github-SplitComponents-PR-created.png)"
   ]
  },
  {
   "cell_type": "markdown",
   "metadata": {
    "slideshow": {
     "slide_type": "subslide"
    }
   },
   "source": [
    "[![Kitware](data/6_Extend_4.5_Github-TwoProjectionRegistration-PR-checks.png)](https://github.com/InsightSoftwareConsortium/ITKTwoProjectionRegistration/pull/11/checks?check_run_id=77068613)"
   ]
  },
  {
   "cell_type": "markdown",
   "metadata": {
    "slideshow": {
     "slide_type": "subslide"
    }
   },
   "source": [
    "[![Kitware](data/6_Extend_5_AzurePipeline-SplitComponents-Builds.png)](https://dev.azure.com/InsightSoftwareConsortium/ITKModules/_build/results?buildId=217)"
   ]
  },
  {
   "cell_type": "markdown",
   "metadata": {
    "slideshow": {
     "slide_type": "subslide"
    }
   },
   "source": [
    "[![Kitware](data/6_Extend_6_AzurePipeline-SplitComponents-Release.png)](https://dev.azure.com/InsightSoftwareConsortium/ITKModules/_release?view=mine&definitionId=6)"
   ]
  },
  {
   "cell_type": "markdown",
   "metadata": {
    "slideshow": {
     "slide_type": "subslide"
    }
   },
   "source": [
    "[![Kitware](data/6_Extend_7.5_AzurePipeline-TwoProjectionRegistration-ApproveDeploy.png)](https://dev.azure.com/InsightSoftwareConsortium/ITKModules/_releaseProgress?_a=release-pipeline-progress&releaseId=39)"
   ]
  },
  {
   "cell_type": "markdown",
   "metadata": {
    "slideshow": {
     "slide_type": "subslide"
    }
   },
   "source": [
    "[![Kitware](data/6_Extend_7_AzurePipeline-SplitComponents-ReleasePipeline.png)](https://dev.azure.com/InsightSoftwareConsortium/ITKModules/_releaseProgress?_a=release-pipeline-progress&releaseId=33)"
   ]
  },
  {
   "cell_type": "markdown",
   "metadata": {
    "slideshow": {
     "slide_type": "subslide"
    }
   },
   "source": [
    "[![Kitware](data/6_Extend_8_Pypi-split-components.png)](https://pypi.org/project/itk-splitcomponents/#files)"
   ]
  },
  {
   "cell_type": "markdown",
   "metadata": {
    "slideshow": {
     "slide_type": "slide"
    }
   },
   "source": [
    "### Enjoy ITK!"
   ]
  }
 ],
 "metadata": {
  "celltoolbar": "Slideshow",
  "kernelspec": {
   "display_name": "Python 3 (ipykernel)",
   "language": "python",
   "name": "python3"
  },
  "language_info": {
   "codemirror_mode": {
    "name": "ipython",
    "version": 3
   },
   "file_extension": ".py",
   "mimetype": "text/x-python",
   "name": "python",
   "nbconvert_exporter": "python",
   "pygments_lexer": "ipython3",
   "version": "3.9.16"
  }
 },
 "nbformat": 4,
 "nbformat_minor": 4
}
