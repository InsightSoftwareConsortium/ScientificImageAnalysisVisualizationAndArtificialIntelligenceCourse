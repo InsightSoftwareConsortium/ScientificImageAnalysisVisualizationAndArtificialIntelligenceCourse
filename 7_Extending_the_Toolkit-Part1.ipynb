{
 "cells": [
  {
   "cell_type": "markdown",
   "metadata": {
    "slideshow": {
     "slide_type": "slide"
    }
   },
   "source": [
    "# Extend ITK with your own module"
   ]
  },
  {
   "cell_type": "markdown",
   "metadata": {
    "slideshow": {
     "slide_type": "slide"
    }
   },
   "source": [
    "## Why?\n",
    "\n",
    "* New algorithm\n",
    "* Easy integration in ITK\n",
    "* Reproducible science\n",
    "* Easy Python wrapping"
   ]
  },
  {
   "cell_type": "markdown",
   "metadata": {
    "slideshow": {
     "slide_type": "subslide"
    }
   },
   "source": [
    "## Requirements\n",
    "\n",
    "* [CMake](https://cmake.org/download/)\n",
    "* C++ development environment\n",
    "  * Linux: `apt install build-essential cmake-curses-gui`\n",
    "  * macOS: XCode (through App Store)\n",
    "  * Windows: [Visual Studio](https://visualstudio.microsoft.com/vs/community/)\n",
    "* More details in the *Configuring and Building ITK* chapter of the [ITK Software Guide](https://itk.org/ItkSoftwareGuide.pdf)"
   ]
  },
  {
   "cell_type": "markdown",
   "metadata": {
    "slideshow": {
     "slide_type": "slide"
    }
   },
   "source": [
    "## Why use C++\n",
    "\n",
    "* C++ allows the developer to have full access to ITK\n",
    "    * Memory management\n",
    "    * Thread management\n",
    "* Any dimension and pixel type supported.\n",
    "* Key element missing in Python: Iterators."
   ]
  },
  {
   "cell_type": "markdown",
   "metadata": {
    "slideshow": {
     "slide_type": "subslide"
    }
   },
   "source": [
    "## Iterators\n",
    "\n",
    "* An iterator is a fast and safe way to access an entire range of memory.\n",
    "* It can be used to process an entire image."
   ]
  },
  {
   "cell_type": "markdown",
   "metadata": {
    "slideshow": {
     "slide_type": "slide"
    }
   },
   "source": [
    "## ITK Modules\n",
    "\n",
    "* ITK is organized in modules\n",
    "* Each module typically contains filters that are related (e.g. Segmentation, Registration, Filtering)\n",
    "* [Modules in Doxygen](https://itk.org/Doxygen/html/modules.html)\n",
    "* [Module Python packages](https://pypi.org/search/?q=itk-)"
   ]
  },
  {
   "cell_type": "markdown",
   "metadata": {
    "slideshow": {
     "slide_type": "slide"
    }
   },
   "source": [
    "## What are remote modules?\n",
    "\n",
    "* Remote modules are an easy way to develop new ITK filters and integrate them in ITK.\n",
    "* Allows the developer to easily publish and share their new algorithms.\n",
    "* ITK continuously contains the best available algorithms.\n",
    "* Remote modules are developed in separate repository from ITK. The developer(s) is (are) responsible of maintaining the project.\n",
    "* Remote modules integrate one or more filters implemented in C++ and their corresponding Python bindings."
   ]
  },
  {
   "cell_type": "markdown",
   "metadata": {
    "slideshow": {
     "slide_type": "slide"
    }
   },
   "source": [
    "## Examples\n",
    "\n",
    "* ITKTextureFeatures\n",
    "* ITKUltrasound\n",
    "* ITKIsotropicWavelets"
   ]
  },
  {
   "cell_type": "markdown",
   "metadata": {
    "slideshow": {
     "slide_type": "subslide"
    }
   },
   "source": [
    "## ITKTextureFeatures\n",
    "\n",
    "### Two filters:\n",
    "* itkCoocurrenceTextureFeaturesImageFilter: computes textural features based on intensity-based co-occurrence matrices in the image.\n",
    "* itkRunLengthTextureFeaturesImageFilter: computes textural features based on equally valued intensity clusters of different sizes or run lengths in the image.\n",
    "\n",
    "<div style=\"width: 100%; display: table;\">\n",
    "    <div style=\"display: table-row\">\n",
    "        <div style=\"width: 350px; display: table-cell;\">\n",
    "            <figure>\n",
    "                <img src=\"data/CBCT-TextureInput.png\">\n",
    "                <figcaption>Fig1. - CBCT of the test condyle</figcaption>\n",
    "            </figure> \n",
    "        </div>\n",
    "        <div style=\"width: 350px; display: table-cell;\">\n",
    "            <figure>\n",
    "                <img src=\"data/CBCT-TextureRunLengthNonUniformity.png\">\n",
    "                <figcaption>Fig2. - texture’s run length non uniformity</figcaption>\n",
    "            </figure> \n",
    "        </div>\n",
    "    </div>\n",
    "</div>\n",
    "\n",
    "- https://github.com/InsightSoftwareConsortium/ITKTextureFeatures\n",
    "- http://www.insight-journal.org/browse/publication/985\n",
    "\n",
    "```\n",
    "python -m pip install itk-texturefeatures\n",
    "```"
   ]
  },
  {
   "cell_type": "markdown",
   "metadata": {
    "slideshow": {
     "slide_type": "subslide"
    }
   },
   "source": [
    "##  ITKUltrasound\n",
    "\n",
    "* High performance ultrasound image formation and analysis based on the Insight Toolkit (ITK).\n",
    "* Introduction of an itk::StreamingResampleImageFilter.\n",
    "<figure>\n",
    "    <img src=\"data/Ultrasound-B-mode.png\" width=600>\n",
    "    <figcaption>Fig1. Large, scan converted B-Mode image of anechoic spheres in a tissue mimicking ultrasound phantom. The image was processed without swapping to disk.</figcaption>\n",
    "</figure>\n",
    "\n",
    "- https://github.com/KitwareMedical/ITKUltrasound\n",
    "- http://www.insight-journal.org/browse/publication/722\n",
    "\n",
    "```\n",
    "python -m pip install itk-ultrasound\n",
    "```"
   ]
  },
  {
   "cell_type": "markdown",
   "metadata": {
    "slideshow": {
     "slide_type": "subslide"
    }
   },
   "source": [
    "##  ITKIsotropicWavelets\n",
    "\n",
    "* Multiresolution (MRA) analysis framework using isotropic and steerable wavelets in the frequency domain.\n",
    "* Provides the backbone for state of the art filters for denoising, feature detection or phase analysis in N-dimension\n",
    "\n",
    "- https://github.com/InsightSoftwareConsortium/ITKIsotropicWavelets\n",
    "- http://www.insight-journal.org/browse/publication/986\n",
    "\n",
    "```\n",
    "python -m pip install itk-isotropicwavelets\n",
    "```"
   ]
  },
  {
   "cell_type": "code",
   "execution_count": null,
   "metadata": {
    "slideshow": {
     "slide_type": "slide"
    }
   },
   "outputs": [],
   "source": [
    "import itk\n",
    "\n",
    "itkversionmajor: int = int(itk.Version.GetITKMajorVersion())\n",
    "itkversionminor: int = int(itk.Version.GetITKMinorVersion())\n",
    "if itkversionmajor < 5 or (itkversionmajor >= 5 and itkversionminor < 3):\n",
    "    raise ValueError(\"ITK greater than version 5.3.0 is required for this notebook\")\n",
    "\n",
    "from itkwidgets import view"
   ]
  },
  {
   "cell_type": "code",
   "execution_count": null,
   "metadata": {
    "slideshow": {
     "slide_type": "subslide"
    }
   },
   "outputs": [],
   "source": [
    "# Install itk-texturefeatures if not already installed\n",
    "import sys\n",
    "!{sys.executable} -m pip install itk-texturefeatures"
   ]
  },
  {
   "cell_type": "markdown",
   "metadata": {
    "slideshow": {
     "slide_type": "slide"
    }
   },
   "source": [
    "## Exercise: Reproduce a bone texture map\n",
    "\n",
    "Reproduce the condyle texture map from the [*Computing Textural Feature Maps for N-Dimensional Images*](http://insight-journal.org/browse/publication/985) article.\n",
    "\n",
    "<img src=\"data/CondyleTextureMap.jpeg\">"
   ]
  },
  {
   "cell_type": "code",
   "execution_count": null,
   "metadata": {
    "slideshow": {
     "slide_type": "subslide"
    }
   },
   "outputs": [],
   "source": [
    "image = itk.imread('data/Scan_CBCT_13R.nrrd', itk.ctype('signed short'))\n",
    "view(image, mode='z')"
   ]
  },
  {
   "cell_type": "code",
   "execution_count": null,
   "metadata": {
    "slideshow": {
     "slide_type": "subslide"
    }
   },
   "outputs": [],
   "source": [
    "mask = itk.imread('data/SegmC_CBCT_13R.nrrd', itk.ctype('unsigned char'))\n",
    "view(mask, mode='z', ui_collapsed=True, interpolation=False)"
   ]
  },
  {
   "cell_type": "code",
   "execution_count": null,
   "metadata": {
    "slideshow": {
     "slide_type": "subslide"
    }
   },
   "outputs": [],
   "source": [
    "# %load solutions/7_Extending_the_toolkit_exercise.py"
   ]
  },
  {
   "cell_type": "markdown",
   "metadata": {},
   "source": [
    "### Enjoy ITK!"
   ]
  }
 ],
 "metadata": {
  "celltoolbar": "Slideshow",
  "kernelspec": {
   "display_name": "Python 3 (ipykernel)",
   "language": "python",
   "name": "python3"
  },
  "language_info": {
   "codemirror_mode": {
    "name": "ipython",
    "version": 3
   },
   "file_extension": ".py",
   "mimetype": "text/x-python",
   "name": "python",
   "nbconvert_exporter": "python",
   "pygments_lexer": "ipython3",
   "version": "3.9.16"
  }
 },
 "nbformat": 4,
 "nbformat_minor": 4
}
