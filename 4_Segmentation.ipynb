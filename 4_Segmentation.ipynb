{
 "cells": [
  {
   "cell_type": "markdown",
   "metadata": {
    "slideshow": {
     "slide_type": "slide"
    }
   },
   "source": [
    "# Image Segmentation"
   ]
  },
  {
   "cell_type": "markdown",
   "metadata": {
    "slideshow": {
     "slide_type": "slide"
    }
   },
   "source": [
    "## Overview"
   ]
  },
  {
   "cell_type": "markdown",
   "metadata": {
    "slideshow": {
     "slide_type": "subslide"
    }
   },
   "source": [
    "### Learning Objectives\n",
    "\n",
    "* Gain familiarity with the different categories of segmentation methods available in ITK\n",
    "* Understand the difference between region growing methods and how their parameters change their behavior\n",
    "* Understand the influence of terms in level set segmentation methods"
   ]
  },
  {
   "cell_type": "markdown",
   "metadata": {
    "slideshow": {
     "slide_type": "slide"
    }
   },
   "source": [
    "### ITK Segmentation Method Categories\n",
    "\n",
    "![Segmentation categories](data/segmentation-categories.png)"
   ]
  },
  {
   "cell_type": "markdown",
   "metadata": {
    "slideshow": {
     "slide_type": "slide"
    }
   },
   "source": [
    "### Region Growing Methods\n",
    "\n",
    "The basic approach of a *region growing algorithm* is to **start from a seed region (typically one or more\n",
    "pixels)** that are considered to be inside the object to be segmented. The **pixels neighboring this\n",
    "region are evaluated to determine if they should also be considered part of the object**. If so, **they are\n",
    "added to the region and the process continues as long as new pixels are added to the region**. Region\n",
    "growing algorithms vary depending on the criteria used to decide whether a pixel should be included\n",
    "in the region or not, the type connectivity used to determine neighbors, and the strategy used to visit\n",
    "neighboring pixels."
   ]
  },
  {
   "cell_type": "markdown",
   "metadata": {
    "slideshow": {
     "slide_type": "fragment"
    }
   },
   "source": [
    "Example region growing methods available in ITK:\n",
    "\n",
    "- ConfidenceConnected\n",
    "- ConnectedThreshold\n",
    "- IsolatedConnected"
   ]
  },
  {
   "cell_type": "markdown",
   "metadata": {
    "slideshow": {
     "slide_type": "subslide"
    }
   },
   "source": [
    "#### Confidence Connected\n",
    "\n",
    "![Confidence Connected](data/confidence-connected.png)"
   ]
  },
  {
   "cell_type": "markdown",
   "metadata": {
    "slideshow": {
     "slide_type": "subslide"
    }
   },
   "source": [
    "#### Connected Threshold\n",
    "\n",
    "![Connected Threshold](data/connected-threshold.png)"
   ]
  },
  {
   "cell_type": "markdown",
   "metadata": {
    "slideshow": {
     "slide_type": "subslide"
    }
   },
   "source": [
    "#### Isolated Connected\n",
    "\n",
    "![Isolated Connected](data/isolated-connected.png)"
   ]
  },
  {
   "cell_type": "markdown",
   "metadata": {
    "slideshow": {
     "slide_type": "slide"
    }
   },
   "source": [
    "### Level Set Segmentation Methods"
   ]
  },
  {
   "cell_type": "markdown",
   "metadata": {
    "slideshow": {
     "slide_type": "subslide"
    }
   },
   "source": [
    "### Level Set Concept\n",
    "\n",
    "![Level set concept](data/level-set-concept.png)\n",
    "\n"
   ]
  },
  {
   "cell_type": "markdown",
   "metadata": {
    "slideshow": {
     "slide_type": "subslide"
    }
   },
   "source": [
    "#### Level Set Evolution\n",
    "\n",
    "![Level Set evolution](data/level-set-evolution.png)"
   ]
  },
  {
   "cell_type": "markdown",
   "metadata": {
    "slideshow": {
     "slide_type": "subslide"
    }
   },
   "source": [
    "#### Level Set Function\n",
    "\n",
    "$\\phi_{t} = - \\alpha  \\mathbf{A}(\\mathbf{x})\\cdot\\nabla\\phi - \\beta   P(\\mathbf{x})\\mid\\nabla\\phi\\mid + \\gamma Z(\\mathbf{x})\\kappa\\mid\\nabla\\phi\\mid$\n",
    "\n",
    "- $\\mathbf{A}(\\mathbf{x})$: **Advection**\n",
    "- $P(\\mathbf{x})$: **Propagation**\n",
    "- $Z(\\mathbf{x})$: **Spatial modifier for the mean curvature $\\kappa$**\n",
    "- $\\alpha, \\beta, \\gamma$ are scalar constants"
   ]
  },
  {
   "cell_type": "markdown",
   "metadata": {
    "slideshow": {
     "slide_type": "subslide"
    }
   },
   "source": [
    "- Track the evolution of contours and surfaces by computing the update to the solution $\\phi$ of the PDE\n",
    "- Contour (initial solution) is initialized by the user\n",
    "- Evolve $\\phi$ until\n",
    "  - It fits the form of the segment you are trying to fit (shape detection)\n",
    "  - It segments the features you want (segmentation)\n",
    "- Evolution is uni-directional (inwards or outwards)"
   ]
  },
  {
   "cell_type": "markdown",
   "metadata": {
    "slideshow": {
     "slide_type": "subslide"
    }
   },
   "source": [
    "For more information, see:\n",
    "\n",
    "- The [*Segmentation* chapter](https://itk.org/ITKSoftwareGuide/html/Book2/ITKSoftwareGuide-Book2ch4.html#x37-1770004) of Book 2 of the ITK Software Guide, including the sections on [*Region Growing*](https://itk.org/ITKSoftwareGuide/html/Book2/ITKSoftwareGuide-Book2ch4.html#x37-1780004.1) and [*Level Set Segmentation*](https://itk.org/ITKSoftwareGuide/html/Book2/ITKSoftwareGuide-Book2ch4.html#x37-1890004.3)."
   ]
  },
  {
   "cell_type": "markdown",
   "metadata": {
    "slideshow": {
     "slide_type": "slide"
    }
   },
   "source": [
    "## Tutorial"
   ]
  },
  {
   "cell_type": "code",
   "execution_count": 1,
   "metadata": {
    "slideshow": {
     "slide_type": "subslide"
    }
   },
   "outputs": [],
   "source": [
    "import numpy as np\n",
    "import itk\n",
    "from itkwidgets import view\n",
    "from matplotlib import pyplot as plt\n",
    "%matplotlib inline\n",
    "import ipywidgets as widgets\n",
    "from ipywidgets import interactive"
   ]
  },
  {
   "cell_type": "markdown",
   "metadata": {
    "slideshow": {
     "slide_type": "subslide"
    }
   },
   "source": [
    "#### itk.ConfidenceConnectedImageFilter\n",
    "\n",
    "From [itk::ConfidenceConnectedImageFilter documentation](https://itk.org/Doxygen/html/classitk_1_1ConfidenceConnectedImageFilter.html):\n",
    "\n",
    "> Segment pixels with similar statistics using connectivity.\n",
    "\n",
    "> This filter extracts a connected set of pixels whose pixel intensities are consistent with the pixel statistics of a seed point. The mean and variance across a neighborhood (8-connected, 26-connected, etc.) are calculated for a seed point. Then pixels connected to this seed point whose values are within the confidence interval for the seed point are grouped. The width of the confidence interval is controlled by the \"Multiplier\" variable (the confidence interval is the mean plus or minus the \"Multiplier\" times the standard deviation). If the intensity variations across a segment were gaussian, a \"Multiplier\" setting of 2.5 would define a confidence interval wide enough to capture 99% of samples in the segment.\n",
    "\n",
    "> After this initial segmentation is calculated, the mean and variance are re-calculated. All the pixels in the previous segmentation are used to calculate the mean the standard deviation (as opposed to using the pixels in the neighborhood of the seed point). The segmentation is then recalculated using these refined estimates for the mean and variance of the pixel values. This process is repeated for the specified number of iterations. Setting the \"NumberOfIterations\" to zero stops the algorithm after the initial segmentation from the seed point."
   ]
  },
  {
   "cell_type": "code",
   "execution_count": 2,
   "metadata": {
    "slideshow": {
     "slide_type": "subslide"
    }
   },
   "outputs": [
    {
     "name": "stdout",
     "output_type": "stream",
     "text": [
      "Help on itkConfidenceConnectedImageFilterIUC2ISS2 in module itkConfidenceConnectedImageFilterPython object:\n",
      "\n",
      "class itkConfidenceConnectedImageFilterIUC2ISS2(itkImageToImageFilterAPython.itkImageToImageFilterIUC2ISS2)\n",
      " |  Segment pixels with similar statistics using connectivity.\n",
      " |  \n",
      " |  This filter extracts a connected set of pixels whose pixel intensities\n",
      " |  are consistent with the pixel statistics of a seed point. The mean and\n",
      " |  variance across a neighborhood (8-connected, 26-connected, etc.) are\n",
      " |  calculated for a seed point. Then pixels connected to this seed point\n",
      " |  whose values are within the confidence interval for the seed point are\n",
      " |  grouped. The width of the confidence interval is controlled by the\n",
      " |  \"Multiplier\" variable (the confidence interval is the mean plus or\n",
      " |  minus the \"Multiplier\" times the standard deviation). If the\n",
      " |  intensity variations across a segment were gaussian, a \"Multiplier\"\n",
      " |  setting of 2.5 would define a confidence interval wide enough to\n",
      " |  capture 99% of samples in the segment.\n",
      " |  \n",
      " |  After this initial segmentation is calculated, the mean and variance\n",
      " |  are re-calculated. All the pixels in the previous segmentation are\n",
      " |  used to calculate the mean the standard deviation (as opposed to using\n",
      " |  the pixels in the neighborhood of the seed point). The segmentation is\n",
      " |  then recalculated using these refined estimates for the mean and\n",
      " |  variance of the pixel values. This process is repeated for the\n",
      " |  specified number of iterations. Setting the \"NumberOfIterations\" to\n",
      " |  zero stops the algorithm after the initial segmentation from the seed\n",
      " |  point.\n",
      " |  \n",
      " |  NOTE: the lower and upper threshold are restricted to lie within the\n",
      " |  valid numeric limits of the input data pixel type. Also, the limits\n",
      " |  may be adjusted to contain the seed point's intensity.\n",
      " |  \n",
      " |  Wiki Examples:\n",
      " |  \n",
      " |  All Examples\n",
      " |  \n",
      " |  C++ includes: itkConfidenceConnectedImageFilter.h\n",
      " |  \n",
      " |  Method resolution order:\n",
      " |      itkConfidenceConnectedImageFilterIUC2ISS2\n",
      " |      itkImageToImageFilterAPython.itkImageToImageFilterIUC2ISS2\n",
      " |      itkImageSourcePython.itkImageSourceISS2\n",
      " |      ITKCommonBasePython.itkProcessObject\n",
      " |      ITKCommonBasePython.itkObject\n",
      " |      ITKCommonBasePython.itkLightObject\n",
      " |      builtins.object\n",
      " |  \n",
      " |  Methods defined here:\n",
      " |  \n",
      " |  AddSeed = itkConfidenceConnectedImageFilterIUC2ISS2_AddSeed(...)\n",
      " |      itkConfidenceConnectedImageFilterIUC2ISS2_AddSeed(itkConfidenceConnectedImageFilterIUC2ISS2 self, itkIndex2 seed)\n",
      " |      \n",
      " |      Add seed point.\n",
      " |  \n",
      " |  ClearSeeds = itkConfidenceConnectedImageFilterIUC2ISS2_ClearSeeds(...)\n",
      " |      itkConfidenceConnectedImageFilterIUC2ISS2_ClearSeeds(itkConfidenceConnectedImageFilterIUC2ISS2 self)\n",
      " |      \n",
      " |      Clear all the seeds.\n",
      " |  \n",
      " |  Clone = itkConfidenceConnectedImageFilterIUC2ISS2_Clone(...)\n",
      " |      itkConfidenceConnectedImageFilterIUC2ISS2_Clone(itkConfidenceConnectedImageFilterIUC2ISS2 self) -> itkConfidenceConnectedImageFilterIUC2ISS2_Pointer\n",
      " |  \n",
      " |  GetInitialNeighborhoodRadius = itkConfidenceConnectedImageFilterIUC2ISS2_GetInitialNeighborhoodRadius(...)\n",
      " |      itkConfidenceConnectedImageFilterIUC2ISS2_GetInitialNeighborhoodRadius(itkConfidenceConnectedImageFilterIUC2ISS2 self) -> unsigned int const &\n",
      " |  \n",
      " |  GetMean = itkConfidenceConnectedImageFilterIUC2ISS2_GetMean(...)\n",
      " |      itkConfidenceConnectedImageFilterIUC2ISS2_GetMean(itkConfidenceConnectedImageFilterIUC2ISS2 self) -> double const &\n",
      " |      \n",
      " |      Method to get access to the\n",
      " |      mean of the pixels accepted in the output region. This method should\n",
      " |      only be invoked after the filter has been executed using the Update()\n",
      " |      method.\n",
      " |  \n",
      " |  GetMultiplier = itkConfidenceConnectedImageFilterIUC2ISS2_GetMultiplier(...)\n",
      " |      itkConfidenceConnectedImageFilterIUC2ISS2_GetMultiplier(itkConfidenceConnectedImageFilterIUC2ISS2 self) -> double\n",
      " |  \n",
      " |  GetNumberOfIterations = itkConfidenceConnectedImageFilterIUC2ISS2_GetNumberOfIterations(...)\n",
      " |      itkConfidenceConnectedImageFilterIUC2ISS2_GetNumberOfIterations(itkConfidenceConnectedImageFilterIUC2ISS2 self) -> unsigned int\n",
      " |  \n",
      " |  GetReplaceValue = itkConfidenceConnectedImageFilterIUC2ISS2_GetReplaceValue(...)\n",
      " |      itkConfidenceConnectedImageFilterIUC2ISS2_GetReplaceValue(itkConfidenceConnectedImageFilterIUC2ISS2 self) -> short\n",
      " |  \n",
      " |  GetSeeds = itkConfidenceConnectedImageFilterIUC2ISS2_GetSeeds(...)\n",
      " |      itkConfidenceConnectedImageFilterIUC2ISS2_GetSeeds(itkConfidenceConnectedImageFilterIUC2ISS2 self) -> std::vector< itkIndex2,std::allocator< itkIndex2 > > const &\n",
      " |      \n",
      " |      Method to access seed\n",
      " |      container\n",
      " |  \n",
      " |  GetVariance = itkConfidenceConnectedImageFilterIUC2ISS2_GetVariance(...)\n",
      " |      itkConfidenceConnectedImageFilterIUC2ISS2_GetVariance(itkConfidenceConnectedImageFilterIUC2ISS2 self) -> double const &\n",
      " |      \n",
      " |      Method to get access to\n",
      " |      the variance of the pixels accepted in the output region. This method\n",
      " |      should only be invoked after the filter has been executed using the\n",
      " |      Update() method.\n",
      " |  \n",
      " |  PrintSelf = itkConfidenceConnectedImageFilterIUC2ISS2_PrintSelf(...)\n",
      " |      itkConfidenceConnectedImageFilterIUC2ISS2_PrintSelf(itkConfidenceConnectedImageFilterIUC2ISS2 self, ostream os, itkIndent indent)\n",
      " |  \n",
      " |  SetInitialNeighborhoodRadius = itkConfidenceConnectedImageFilterIUC2ISS2_SetInitialNeighborhoodRadius(...)\n",
      " |      itkConfidenceConnectedImageFilterIUC2ISS2_SetInitialNeighborhoodRadius(itkConfidenceConnectedImageFilterIUC2ISS2 self, unsigned int const _arg)\n",
      " |      \n",
      " |      Get/Set the radius of the neighborhood over which the statistics are\n",
      " |      evaluated\n",
      " |  \n",
      " |  SetMultiplier = itkConfidenceConnectedImageFilterIUC2ISS2_SetMultiplier(...)\n",
      " |      itkConfidenceConnectedImageFilterIUC2ISS2_SetMultiplier(itkConfidenceConnectedImageFilterIUC2ISS2 self, double const _arg)\n",
      " |      \n",
      " |      Set/Get the\n",
      " |      multiplier to define the confidence interval. Multiplier can be\n",
      " |      anything greater than zero. A typical value is 2.5\n",
      " |  \n",
      " |  SetNumberOfIterations = itkConfidenceConnectedImageFilterIUC2ISS2_SetNumberOfIterations(...)\n",
      " |      itkConfidenceConnectedImageFilterIUC2ISS2_SetNumberOfIterations(itkConfidenceConnectedImageFilterIUC2ISS2 self, unsigned int const _arg)\n",
      " |      \n",
      " |      Set/Get the\n",
      " |      number of iterations\n",
      " |  \n",
      " |  SetReplaceValue = itkConfidenceConnectedImageFilterIUC2ISS2_SetReplaceValue(...)\n",
      " |      itkConfidenceConnectedImageFilterIUC2ISS2_SetReplaceValue(itkConfidenceConnectedImageFilterIUC2ISS2 self, short const _arg)\n",
      " |      \n",
      " |      Set/Get value to\n",
      " |      replace thresholded pixels\n",
      " |  \n",
      " |  SetSeed = itkConfidenceConnectedImageFilterIUC2ISS2_SetSeed(...)\n",
      " |      itkConfidenceConnectedImageFilterIUC2ISS2_SetSeed(itkConfidenceConnectedImageFilterIUC2ISS2 self, itkIndex2 seed)\n",
      " |      \n",
      " |      Set seed point. This method\n",
      " |      is deprecated, please use AddSeed()\n",
      " |  \n",
      " |  __init__(self, *args, **kwargs)\n",
      " |      Initialize self.  See help(type(self)) for accurate signature.\n",
      " |  \n",
      " |  __repr__ = _swig_repr(self)\n",
      " |  \n",
      " |  __swig_destroy__ = delete_itkConfidenceConnectedImageFilterIUC2ISS2(...)\n",
      " |      delete_itkConfidenceConnectedImageFilterIUC2ISS2(itkConfidenceConnectedImageFilterIUC2ISS2 self)\n",
      " |  \n",
      " |  ----------------------------------------------------------------------\n",
      " |  Static methods defined here:\n",
      " |  \n",
      " |  New(*args, **kargs)\n",
      " |      New() -> itkConfidenceConnectedImageFilterIUC2ISS2\n",
      " |      \n",
      " |      Create a new object of the class itkConfidenceConnectedImageFilterIUC2ISS2 and set the input and the parameters if some\n",
      " |      named or non-named arguments are passed to that method.\n",
      " |      \n",
      " |      New() tries to assign all the non named parameters to the input of the new objects - the\n",
      " |      first non named parameter in the first input, etc.\n",
      " |      \n",
      " |      The named parameters are used by calling the method with the same name prefixed by 'Set'.\n",
      " |      \n",
      " |      Ex:\n",
      " |      \n",
      " |        itkConfidenceConnectedImageFilterIUC2ISS2.New( reader, Threshold=10 )\n",
      " |      \n",
      " |      is (most of the time) equivalent to:\n",
      " |      \n",
      " |        obj = itkConfidenceConnectedImageFilterIUC2ISS2.New()\n",
      " |        obj.SetInput( 0, reader.GetOutput() )\n",
      " |        obj.SetThreshold( 10 )\n",
      " |  \n",
      " |  __New_orig__() -> 'itkConfidenceConnectedImageFilterIUC2ISS2_Pointer'\n",
      " |      __New_orig__() -> itkConfidenceConnectedImageFilterIUC2ISS2_Pointer\n",
      " |  \n",
      " |  cast(obj:'itkLightObject') -> 'itkConfidenceConnectedImageFilterIUC2ISS2 *'\n",
      " |      cast(itkLightObject obj) -> itkConfidenceConnectedImageFilterIUC2ISS2\n",
      " |  \n",
      " |  ----------------------------------------------------------------------\n",
      " |  Data descriptors defined here:\n",
      " |  \n",
      " |  thisown\n",
      " |      The membership flag\n",
      " |  \n",
      " |  ----------------------------------------------------------------------\n",
      " |  Data and other attributes defined here:\n",
      " |  \n",
      " |  InputHasNumericTraitsCheck = 1\n",
      " |  \n",
      " |  OutputHasNumericTraitsCheck = 1\n",
      " |  \n",
      " |  ----------------------------------------------------------------------\n",
      " |  Methods inherited from itkImageToImageFilterAPython.itkImageToImageFilterIUC2ISS2:\n",
      " |  \n",
      " |  GetCoordinateTolerance = itkImageToImageFilterIUC2ISS2_GetCoordinateTolerance(...)\n",
      " |      itkImageToImageFilterIUC2ISS2_GetCoordinateTolerance(itkImageToImageFilterIUC2ISS2 self) -> double\n",
      " |  \n",
      " |  GetDirectionTolerance = itkImageToImageFilterIUC2ISS2_GetDirectionTolerance(...)\n",
      " |      itkImageToImageFilterIUC2ISS2_GetDirectionTolerance(itkImageToImageFilterIUC2ISS2 self) -> double\n",
      " |  \n",
      " |  GetInput = itkImageToImageFilterIUC2ISS2_GetInput(...)\n",
      " |      GetInput() -> itkImageUC2\n",
      " |      itkImageToImageFilterIUC2ISS2_GetInput(itkImageToImageFilterIUC2ISS2 self, unsigned int idx) -> itkImageUC2\n",
      " |  \n",
      " |  PopBackInput = itkImageToImageFilterIUC2ISS2_PopBackInput(...)\n",
      " |      itkImageToImageFilterIUC2ISS2_PopBackInput(itkImageToImageFilterIUC2ISS2 self)\n",
      " |  \n",
      " |  PopFrontInput = itkImageToImageFilterIUC2ISS2_PopFrontInput(...)\n",
      " |      itkImageToImageFilterIUC2ISS2_PopFrontInput(itkImageToImageFilterIUC2ISS2 self)\n",
      " |  \n",
      " |  PushBackInput = itkImageToImageFilterIUC2ISS2_PushBackInput(...)\n",
      " |      itkImageToImageFilterIUC2ISS2_PushBackInput(itkImageToImageFilterIUC2ISS2 self, itkImageUC2 image)\n",
      " |      \n",
      " |      Push/Pop the input of\n",
      " |      this process object. These methods allow a filter to model its input\n",
      " |      vector as a queue or stack. These routines may not be appropriate for\n",
      " |      all filters, especially filters with different types of inputs. These\n",
      " |      routines follow the semantics of STL.\n",
      " |      \n",
      " |      The routines are useful for applications that need to process\n",
      " |      \"rolling\" sets of images. For instance, if an application has 10\n",
      " |      images and they need to run a filter on images 1, 2, 3, 4, then run\n",
      " |      the filter on images 2, 3, 4, 5, then run the filter on images 3, 4,\n",
      " |      5, 6, the application can accomplish this by popping an input off the\n",
      " |      front of the input list and push a new image onto the back of input\n",
      " |      list. Again, this only makes sense for filters that single type of\n",
      " |      input.\n",
      " |      \n",
      " |      Other uses are also possible. For a single input filter, pushing and\n",
      " |      popping inputs allow the application to temporarily replace an input\n",
      " |      to a filter.\n",
      " |  \n",
      " |  PushFrontInput = itkImageToImageFilterIUC2ISS2_PushFrontInput(...)\n",
      " |      itkImageToImageFilterIUC2ISS2_PushFrontInput(itkImageToImageFilterIUC2ISS2 self, itkImageUC2 image)\n",
      " |  \n",
      " |  SetCoordinateTolerance = itkImageToImageFilterIUC2ISS2_SetCoordinateTolerance(...)\n",
      " |      itkImageToImageFilterIUC2ISS2_SetCoordinateTolerance(itkImageToImageFilterIUC2ISS2 self, double const _arg)\n",
      " |      \n",
      " |      get/set the\n",
      " |      Coordinate tolerance This tolerance is used when comparing the space\n",
      " |      defined by the input images. ITK has a requirement that multiple input\n",
      " |      images be congruent in space by default.\n",
      " |  \n",
      " |  SetDirectionTolerance = itkImageToImageFilterIUC2ISS2_SetDirectionTolerance(...)\n",
      " |      itkImageToImageFilterIUC2ISS2_SetDirectionTolerance(itkImageToImageFilterIUC2ISS2 self, double const _arg)\n",
      " |      \n",
      " |      get/set the\n",
      " |      direction tolerance This tolerance is used to make sure that all input\n",
      " |      images are oriented the same before performing the filter's\n",
      " |      transformations.\n",
      " |  \n",
      " |  SetInput = itkImageToImageFilterIUC2ISS2_SetInput(...)\n",
      " |      SetInput(itkImageUC2 image)\n",
      " |      itkImageToImageFilterIUC2ISS2_SetInput(itkImageToImageFilterIUC2ISS2 self, unsigned int arg0, itkImageUC2 image)\n",
      " |  \n",
      " |  ----------------------------------------------------------------------\n",
      " |  Methods inherited from itkImageSourcePython.itkImageSourceISS2:\n",
      " |  \n",
      " |  GetOutput = itkImageSourceISS2_GetOutput(...)\n",
      " |      GetOutput() -> itkImageSS2\n",
      " |      GetOutput() -> itkImageSS2\n",
      " |      itkImageSourceISS2_GetOutput(itkImageSourceISS2 self, unsigned int idx) -> itkImageSS2\n",
      " |      \n",
      " |      Get the output data of\n",
      " |      this process object. The output of this function is not valid until an\n",
      " |      appropriate Update() method has been called, either explicitly or\n",
      " |      implicitly. Both the filter itself and the data object have Update()\n",
      " |      methods, and both methods update the data. Here are three ways to use\n",
      " |      GetOutput() and make sure the data is valid. In these particular\n",
      " |      ProcessObjects involved are filters. The same\n",
      " |      \n",
      " |      In this situation, someFilter and anotherFilter are said to constitute\n",
      " |      a pipeline.\n",
      " |      \n",
      " |      either order.)\n",
      " |      \n",
      " |      Note that Update() is not called automatically except within a\n",
      " |      StreamingImageFilter) is activated, it may be more efficient to use a\n",
      " |      pipeline than to call Update() once for each filter in turn.\n",
      " |      \n",
      " |      For an image, the data generated is for the requested Region, which\n",
      " |      can be set using ImageBase::SetRequestedRegion(). By default, the\n",
      " |      largest possible region is requested.\n",
      " |      \n",
      " |      For Filters which have multiple outputs of different types, the\n",
      " |      GetOutput() method assumes the output is of OutputImageType. For the\n",
      " |      GetOutput(unsigned int) method, a dynamic_cast is performed incase the\n",
      " |      filter has outputs of different types or image types. Derived classes\n",
      " |      should have names get methods for these outputs.\n",
      " |  \n",
      " |  GraftNthOutput = itkImageSourceISS2_GraftNthOutput(...)\n",
      " |      itkImageSourceISS2_GraftNthOutput(itkImageSourceISS2 self, unsigned int idx, itkDataObject output)\n",
      " |      \n",
      " |      Graft the specified\n",
      " |      data object onto this ProcessObject's idx'th output. This is similar\n",
      " |      to the GraftOutput method except it allows you to specify which output\n",
      " |      is affected. The specified index must be a valid output number (less\n",
      " |      than ProcessObject::GetNumberOfIndexedOutputs()). See the GraftOutput\n",
      " |      for general usage information.\n",
      " |  \n",
      " |  GraftOutput = itkImageSourceISS2_GraftOutput(...)\n",
      " |      GraftOutput(itkDataObject output)\n",
      " |      itkImageSourceISS2_GraftOutput(itkImageSourceISS2 self, std::string const & key, itkDataObject output)\n",
      " |      \n",
      " |      Graft the specified\n",
      " |      data object onto this ProcessObject's named output. This is similar to\n",
      " |      the GraftOutput method except it allows you to specify which output is\n",
      " |      affected. See the GraftOutput for general usage information.\n",
      " |  \n",
      " |  MakeOutput = itkImageSourceISS2_MakeOutput(...)\n",
      " |      MakeOutput(unsigned long idx) -> itkDataObject_Pointer\n",
      " |      itkImageSourceISS2_MakeOutput(itkImageSourceISS2 self, std::string const & arg0) -> itkDataObject_Pointer\n",
      " |      \n",
      " |      Make a DataObject of the\n",
      " |      correct type to used as the specified output. Every ProcessObject\n",
      " |      subclass must be able to create a DataObject that can be used as a\n",
      " |      specified output. This method is automatically called when\n",
      " |      DataObject::DisconnectPipeline() is called.\n",
      " |      DataObject::DisconnectPipeline, disconnects a data object from being\n",
      " |      an output of its current source. When the data object is disconnected,\n",
      " |      the ProcessObject needs to construct a replacement output data object\n",
      " |      so that the ProcessObject is in a valid state. So\n",
      " |      DataObject::DisconnectPipeline eventually calls\n",
      " |      ProcessObject::MakeOutput. Note that MakeOutput always returns a\n",
      " |      SmartPointer to a DataObject. If a subclass of ImageSource has\n",
      " |      multiple outputs of different types, then that class must provide an\n",
      " |      implementation of MakeOutput().\n",
      " |  \n",
      " |  ----------------------------------------------------------------------\n",
      " |  Methods inherited from ITKCommonBasePython.itkProcessObject:\n",
      " |  \n",
      " |  AbortGenerateDataOff = itkProcessObject_AbortGenerateDataOff(...)\n",
      " |      itkProcessObject_AbortGenerateDataOff(itkProcessObject self)\n",
      " |  \n",
      " |  AbortGenerateDataOn = itkProcessObject_AbortGenerateDataOn(...)\n",
      " |      itkProcessObject_AbortGenerateDataOn(itkProcessObject self)\n",
      " |      \n",
      " |      Turn on and off\n",
      " |      the AbortGenerateData flag.\n",
      " |  \n",
      " |  EnlargeOutputRequestedRegion = itkProcessObject_EnlargeOutputRequestedRegion(...)\n",
      " |      itkProcessObject_EnlargeOutputRequestedRegion(itkProcessObject self, itkDataObject arg0)\n",
      " |      \n",
      " |      Give\n",
      " |      the process object a chance to indictate that it will produce more\n",
      " |      filters must compute the entire output at once or can only produce\n",
      " |      output in complete slices. Such filters cannot handle smaller\n",
      " |      requested regions. These filters must provide an implementation of\n",
      " |      this method, setting the output requested region to the size they will\n",
      " |      produce. By default, a process object does not modify the size of the\n",
      " |      output requested region.\n",
      " |  \n",
      " |  GetAbortGenerateData = itkProcessObject_GetAbortGenerateData(...)\n",
      " |      itkProcessObject_GetAbortGenerateData(itkProcessObject self) -> bool const &\n",
      " |      \n",
      " |      Get the\n",
      " |      AbortGenerateData flag for the process object.\n",
      " |  \n",
      " |  GetIndexedInputs = itkProcessObject_GetIndexedInputs(...)\n",
      " |      itkProcessObject_GetIndexedInputs(itkProcessObject self) -> vectoritkDataObject\n",
      " |      \n",
      " |      Return an array\n",
      " |      with all the indexed inputs.\n",
      " |  \n",
      " |  GetIndexedOutputs = itkProcessObject_GetIndexedOutputs(...)\n",
      " |      itkProcessObject_GetIndexedOutputs(itkProcessObject self) -> vectoritkDataObject\n",
      " |      \n",
      " |      Return an array\n",
      " |      with the indexed outputs.\n",
      " |  \n",
      " |  GetInputNames = itkProcessObject_GetInputNames(...)\n",
      " |      itkProcessObject_GetInputNames(itkProcessObject self) -> vectorstring\n",
      " |      \n",
      " |      Return an array with\n",
      " |      the names of the inputs defined.\n",
      " |      \n",
      " |      The names are ordered lexicographically, and match the order of the\n",
      " |      data object produced by GetInputs().\n",
      " |  \n",
      " |  GetInputs = itkProcessObject_GetInputs(...)\n",
      " |      itkProcessObject_GetInputs(itkProcessObject self) -> vectoritkDataObject\n",
      " |      \n",
      " |      Return an array of\n",
      " |      DataObjects with the defined named inputs.\n",
      " |      \n",
      " |      The order of the inputs matches the order of the input names produced\n",
      " |      by GetInputNames().\n",
      " |  \n",
      " |  GetMultiThreader = itkProcessObject_GetMultiThreader(...)\n",
      " |      itkProcessObject_GetMultiThreader(itkProcessObject self) -> itkMultiThreaderBase\n",
      " |      \n",
      " |      Return the\n",
      " |      multithreader used by this class.\n",
      " |  \n",
      " |  GetNumberOfIndexedInputs = itkProcessObject_GetNumberOfIndexedInputs(...)\n",
      " |      itkProcessObject_GetNumberOfIndexedInputs(itkProcessObject self) -> unsigned long\n",
      " |      \n",
      " |      Get the\n",
      " |      number of defined Indexed inputs.\n",
      " |      \n",
      " |      This is merely the size of the index input vector, not the number of\n",
      " |      inputs that have valid DataObject's assigned. The Primary inputs is\n",
      " |      handled as a special case. Use GetNumberOfValidRequiredInputs() to\n",
      " |      determine how many indexed inputs are non-null.\n",
      " |      \n",
      " |      All indexed inputs up to this value are defined.\n",
      " |      \n",
      " |      See:   GetNumberOfInputs\n",
      " |      \n",
      " |      See:   GetNumberOfValidRequiredInputs\n",
      " |  \n",
      " |  GetNumberOfIndexedOutputs = itkProcessObject_GetNumberOfIndexedOutputs(...)\n",
      " |      itkProcessObject_GetNumberOfIndexedOutputs(itkProcessObject self) -> unsigned long\n",
      " |      \n",
      " |      The\n",
      " |      number of defined Indexed outputs.\n",
      " |  \n",
      " |  GetNumberOfInputs = itkProcessObject_GetNumberOfInputs(...)\n",
      " |      itkProcessObject_GetNumberOfInputs(itkProcessObject self) -> unsigned long\n",
      " |      \n",
      " |      Get the size of\n",
      " |      the input container.\n",
      " |      \n",
      " |      If the Primary input is nullptr it is not counted. This is not the\n",
      " |      number of inputs that have valid DataObject's assigned. Use\n",
      " |      GetNumberOfValidRequiredInputs() to determine how many inputs are non-\n",
      " |      null.\n",
      " |      \n",
      " |      See:   GetNumberOfValidRequiredInputs\n",
      " |      \n",
      " |      See:   GetNumberOfIndexedInputs\n",
      " |  \n",
      " |  GetNumberOfOutputs = itkProcessObject_GetNumberOfOutputs(...)\n",
      " |      itkProcessObject_GetNumberOfOutputs(itkProcessObject self) -> unsigned long\n",
      " |      \n",
      " |      Get the size of\n",
      " |      the output container.\n",
      " |  \n",
      " |  GetNumberOfThreads = itkProcessObject_GetNumberOfThreads(...)\n",
      " |      itkProcessObject_GetNumberOfThreads(itkProcessObject self) -> unsigned int\n",
      " |  \n",
      " |  GetNumberOfValidRequiredInputs = itkProcessObject_GetNumberOfValidRequiredInputs(...)\n",
      " |      itkProcessObject_GetNumberOfValidRequiredInputs(itkProcessObject self) -> unsigned long\n",
      " |      \n",
      " |      Get\n",
      " |      the number of valid indexed inputs.\n",
      " |      \n",
      " |      Returns the number of non-null indexed inputs. This method is used to\n",
      " |      determine whether the correct number of inputs are set to valid\n",
      " |      values.\n",
      " |      \n",
      " |      See:   GetNumberOfInputs\n",
      " |      \n",
      " |      See:   GetNumberOfIndexedInputs\n",
      " |  \n",
      " |  GetNumberOfWorkUnits = itkProcessObject_GetNumberOfWorkUnits(...)\n",
      " |      itkProcessObject_GetNumberOfWorkUnits(itkProcessObject self) -> unsigned int const &\n",
      " |  \n",
      " |  GetOutputNames = itkProcessObject_GetOutputNames(...)\n",
      " |      itkProcessObject_GetOutputNames(itkProcessObject self) -> vectorstring\n",
      " |      \n",
      " |      Return an array with\n",
      " |      the defined names of the outputs.\n",
      " |      \n",
      " |      The names are ordered lexicographically, and match the order of the\n",
      " |      data object produced by GetOutputs()\n",
      " |  \n",
      " |  GetOutputs = itkProcessObject_GetOutputs(...)\n",
      " |      itkProcessObject_GetOutputs(itkProcessObject self) -> vectoritkDataObject\n",
      " |      \n",
      " |      Return an array with the\n",
      " |      defined named outputs.\n",
      " |      \n",
      " |      The order of the outputs match the order of the input names produced\n",
      " |      by GetOutputNames().\n",
      " |  \n",
      " |  GetProgress = itkProcessObject_GetProgress(...)\n",
      " |      itkProcessObject_GetProgress(itkProcessObject self) -> float const &\n",
      " |      \n",
      " |      Get the execution\n",
      " |      progress of a process object.\n",
      " |      \n",
      " |      The progress is a floating number in [0,1] with 0 meaning no progress\n",
      " |      and 1 meaning the filter has completed execution.\n",
      " |  \n",
      " |  GetReleaseDataBeforeUpdateFlag = itkProcessObject_GetReleaseDataBeforeUpdateFlag(...)\n",
      " |      itkProcessObject_GetReleaseDataBeforeUpdateFlag(itkProcessObject self) -> bool const &\n",
      " |  \n",
      " |  GetReleaseDataFlag = itkProcessObject_GetReleaseDataFlag(...)\n",
      " |      itkProcessObject_GetReleaseDataFlag(itkProcessObject self) -> bool\n",
      " |  \n",
      " |  GetRequiredInputNames = itkProcessObject_GetRequiredInputNames(...)\n",
      " |      itkProcessObject_GetRequiredInputNames(itkProcessObject self) -> vectorstring\n",
      " |      \n",
      " |      Return an\n",
      " |      array with the names of the required inputs.\n",
      " |  \n",
      " |  HasInput = itkProcessObject_HasInput(...)\n",
      " |      itkProcessObject_HasInput(itkProcessObject self, std::string const & key) -> bool\n",
      " |      \n",
      " |      Return true if the input\n",
      " |      with this name is defined\n",
      " |  \n",
      " |  HasOutput = itkProcessObject_HasOutput(...)\n",
      " |      itkProcessObject_HasOutput(itkProcessObject self, std::string const & key) -> bool\n",
      " |      \n",
      " |      Return true if the output\n",
      " |      with this name is defined.\n",
      " |  \n",
      " |  PrepareOutputs = itkProcessObject_PrepareOutputs(...)\n",
      " |      itkProcessObject_PrepareOutputs(itkProcessObject self)\n",
      " |      \n",
      " |      An opportunity to\n",
      " |      deallocate a ProcessObject's bulk data storage. Some filters may wish\n",
      " |      to reuse existing bulk data storage to avoid unnecessary\n",
      " |      deallocation/allocation sequences. The default implementation calls\n",
      " |      Initialize() on each output. DataObject::Initialize() frees its bulk\n",
      " |      data by default.\n",
      " |  \n",
      " |  PropagateRequestedRegion = itkProcessObject_PropagateRequestedRegion(...)\n",
      " |      itkProcessObject_PropagateRequestedRegion(itkProcessObject self, itkDataObject output)\n",
      " |      \n",
      " |      Send the\n",
      " |      requested region information back up the pipeline (to the filters that\n",
      " |      precede this one).\n",
      " |  \n",
      " |  ReleaseDataBeforeUpdateFlagOff = itkProcessObject_ReleaseDataBeforeUpdateFlagOff(...)\n",
      " |      itkProcessObject_ReleaseDataBeforeUpdateFlagOff(itkProcessObject self)\n",
      " |  \n",
      " |  ReleaseDataBeforeUpdateFlagOn = itkProcessObject_ReleaseDataBeforeUpdateFlagOn(...)\n",
      " |      itkProcessObject_ReleaseDataBeforeUpdateFlagOn(itkProcessObject self)\n",
      " |  \n",
      " |  ReleaseDataFlagOff = itkProcessObject_ReleaseDataFlagOff(...)\n",
      " |      itkProcessObject_ReleaseDataFlagOff(itkProcessObject self)\n",
      " |  \n",
      " |  ReleaseDataFlagOn = itkProcessObject_ReleaseDataFlagOn(...)\n",
      " |      itkProcessObject_ReleaseDataFlagOn(itkProcessObject self)\n",
      " |  \n",
      " |  ResetPipeline = itkProcessObject_ResetPipeline(...)\n",
      " |      itkProcessObject_ResetPipeline(itkProcessObject self)\n",
      " |      \n",
      " |      Reset the pipeline.\n",
      " |      \n",
      " |      If an exception is thrown during an Update(), the pipeline may be in\n",
      " |      an inconsistent state. This method clears the internal state of the\n",
      " |      pipeline so Update() can be called.\n",
      " |  \n",
      " |  SetAbortGenerateData = itkProcessObject_SetAbortGenerateData(...)\n",
      " |      itkProcessObject_SetAbortGenerateData(itkProcessObject self, bool const _arg)\n",
      " |      \n",
      " |      Set the\n",
      " |      AbortGenerateData flag for the process object.\n",
      " |      \n",
      " |      Process objects may handle premature termination of execution in\n",
      " |      different ways.\n",
      " |  \n",
      " |  SetMultiThreader = itkProcessObject_SetMultiThreader(...)\n",
      " |      itkProcessObject_SetMultiThreader(itkProcessObject self, itkMultiThreaderBase threader)\n",
      " |      \n",
      " |      Set the\n",
      " |      multithreader used by this class.\n",
      " |  \n",
      " |  SetNumberOfThreads = itkProcessObject_SetNumberOfThreads(...)\n",
      " |      itkProcessObject_SetNumberOfThreads(itkProcessObject self, unsigned int count)\n",
      " |  \n",
      " |  SetNumberOfWorkUnits = itkProcessObject_SetNumberOfWorkUnits(...)\n",
      " |      itkProcessObject_SetNumberOfWorkUnits(itkProcessObject self, unsigned int _arg)\n",
      " |      \n",
      " |      Get/Set the\n",
      " |      number of work units to create when executing.\n",
      " |  \n",
      " |  SetProgress = itkProcessObject_SetProgress(...)\n",
      " |      itkProcessObject_SetProgress(itkProcessObject self, float progress)\n",
      " |      \n",
      " |      Deprecated Set the\n",
      " |      execution progress of a process object. The progress is a floating\n",
      " |      number in [0,1] with 0 meaning no progress and 1 meaning the filter\n",
      " |      has completed execution. The ProgressEvent is NOT invoked. This method\n",
      " |      is deprecated because filters should not be calling SetProgress\n",
      " |      directly but should be using UpdateProgress instead. We avoid the use\n",
      " |      of the itkSetClampMacro because that macro calls Modified on the\n",
      " |      filter, which will cause the filter to rerun even if it doesn't need\n",
      " |      to. Thus, we implement the SetClampMacro directly without the call to\n",
      " |      Modified.\n",
      " |  \n",
      " |  SetReleaseDataBeforeUpdateFlag = itkProcessObject_SetReleaseDataBeforeUpdateFlag(...)\n",
      " |      itkProcessObject_SetReleaseDataBeforeUpdateFlag(itkProcessObject self, bool const _arg)\n",
      " |      \n",
      " |      Turn\n",
      " |      on/off the flags to control whether the bulk data belonging to the\n",
      " |      outputs of this ProcessObject are released/reallocated during an\n",
      " |      Update(). In limited memory scenarios, a user may want to force the\n",
      " |      elements of a pipeline to release any bulk data that is going to be\n",
      " |      regenerated anyway during an Update() in order to control peak memory\n",
      " |      allocation. Note that this flag is different from the ReleaseDataFlag.\n",
      " |      ReleaseDataFlag manages the deallocation of a ProcessObject's bulk\n",
      " |      output data once that data has been consumed by a downstream\n",
      " |      ProcessObject. The ReleaseDataBeforeUpdateFlag manages the\n",
      " |      deallocation/reallocation of bulk data during a pipeline update to\n",
      " |      control peak memory utilization. Default value is on.\n",
      " |  \n",
      " |  SetReleaseDataFlag = itkProcessObject_SetReleaseDataFlag(...)\n",
      " |      itkProcessObject_SetReleaseDataFlag(itkProcessObject self, bool flag)\n",
      " |      \n",
      " |      Turn on/off the\n",
      " |      flags to control whether the bulk data belonging to the outputs of\n",
      " |      this ProcessObject are released after being used by a downstream\n",
      " |      ProcessObject. Default value is off. Another options for controlling\n",
      " |      memory utilization is the ReleaseDataBeforeUpdateFlag.\n",
      " |  \n",
      " |  Update = itkProcessObject_Update(...)\n",
      " |      itkProcessObject_Update(itkProcessObject self)\n",
      " |      \n",
      " |      Bring this filter up-to-\n",
      " |      date.\n",
      " |      \n",
      " |      Update() checks modified times against last execution times, and re-\n",
      " |      executes objects if necessary. A side effect of this method is that\n",
      " |      the whole pipeline may execute in order to bring this filter up-to-\n",
      " |      date. This method updates the currently prescribed requested region.\n",
      " |      If no requested region has been set on the output, then the requested\n",
      " |      region will be set to the largest possible region. Once the requested\n",
      " |      region is set, Update() will make sure the specified requested region\n",
      " |      is up-to-date. This is a confusing side effect to users who are just\n",
      " |      calling Update() on a filter. A first call to Update() will cause the\n",
      " |      largest possible region to be updated. A second call to Update() will\n",
      " |      update that same region. If a modification to the upstream pipeline\n",
      " |      cause a filter to have a different largest possible region, this\n",
      " |      second call to Update() will not cause the output requested region to\n",
      " |      be reset to the new largest possible region. Instead, the output\n",
      " |      requested region will be the same as the last time Update() was\n",
      " |      called. To have a filter always to produce its largest possible\n",
      " |      region, users should call UpdateLargestPossibleRegion() instead.\n",
      " |  \n",
      " |  UpdateLargestPossibleRegion = itkProcessObject_UpdateLargestPossibleRegion(...)\n",
      " |      itkProcessObject_UpdateLargestPossibleRegion(itkProcessObject self)\n",
      " |      \n",
      " |      Sets\n",
      " |      the output requested region to the largest possible region and\n",
      " |      updates.\n",
      " |      \n",
      " |      This is the method users should call if they want the entire dataset\n",
      " |      to be processed. If a user wants to update the same output region as a\n",
      " |      previous call to Update() or a previous call to\n",
      " |      UpdateLargestPossibleRegion(), then they should call the method\n",
      " |      Update().\n",
      " |  \n",
      " |  UpdateOutputData = itkProcessObject_UpdateOutputData(...)\n",
      " |      itkProcessObject_UpdateOutputData(itkProcessObject self, itkDataObject output)\n",
      " |      \n",
      " |      Actually generate\n",
      " |      new output\n",
      " |  \n",
      " |  UpdateOutputInformation = itkProcessObject_UpdateOutputInformation(...)\n",
      " |      itkProcessObject_UpdateOutputInformation(itkProcessObject self)\n",
      " |      \n",
      " |      Update the\n",
      " |      information describing the output data.\n",
      " |      \n",
      " |      This method traverses up the pipeline gathering modified time\n",
      " |      information. On the way back down the pipeline, this method calls\n",
      " |      GenerateOutputInformation() to set any necessary information about the\n",
      " |      output data objects. For instance, a filter that shrinks an image will\n",
      " |      need to provide an implementation for GenerateOutputInformation() that\n",
      " |      changes the spacing of the pixels. Such filters should call their\n",
      " |      superclass' implementation of GenerateOutputInformation prior to\n",
      " |      changing the information values they need (i.e.\n",
      " |      GenerateOutputInformation() should call\n",
      " |      Superclass::GenerateOutputInformation() prior to changing the\n",
      " |      information.\n",
      " |  \n",
      " |  UpdateProgress = itkProcessObject_UpdateProgress(...)\n",
      " |      itkProcessObject_UpdateProgress(itkProcessObject self, float progress)\n",
      " |      \n",
      " |      Update the progress\n",
      " |      of the process object.\n",
      " |      \n",
      " |      Sets the Progress ivar to amount and invokes any observers for the\n",
      " |      ProgressEvent. The parameter amount should be in [0,1] and is the\n",
      " |      cumulative (not incremental) progress.\n",
      " |  \n",
      " |  __call__(self, *args, **kargs)\n",
      " |      Deprecated procedural interface function.\n",
      " |      \n",
      " |      Use snake case function instead. This function is now\n",
      " |      merely a wrapper around the snake case function.\n",
      " |      \n",
      " |      Create a process object, update with the inputs and\n",
      " |      attributes, and return the result.\n",
      " |      \n",
      " |      The syntax is the same as the one used in New().\n",
      " |      UpdateLargestPossibleRegion() is ran once the input are changed, and\n",
      " |      the current output, or tuple of outputs, if there is more than\n",
      " |      one, is returned. Something like 'filter(input_image, threshold=10)[0]' would\n",
      " |      return the first up-to-date output of a filter with multiple\n",
      " |      outputs.\n",
      " |  \n",
      " |  __getitem__(self, item)\n",
      " |      Returns the outputs of that object.\n",
      " |      \n",
      " |      The outputs are casted to their real type.\n",
      " |      Several outputs may be returned by using the slice notation.\n",
      " |  \n",
      " |  __internal_call__(self)\n",
      " |      Create a process object, update with the inputs and\n",
      " |      attributes, and return the result.\n",
      " |      \n",
      " |      The syntax is the same as the one used in New().\n",
      " |      UpdateLargestPossibleRegion() is ran once the input are changed, and\n",
      " |      the current output, or tuple of outputs, if there is more than\n",
      " |      one, is returned. Something like 'filter(input_image, threshold=10)[0]' would\n",
      " |      return the first up-to-date output of a filter with multiple\n",
      " |      outputs.\n",
      " |  \n",
      " |  __len__(self)\n",
      " |      Returns the number of outputs of that object.\n",
      " |  \n",
      " |  ----------------------------------------------------------------------\n",
      " |  Methods inherited from ITKCommonBasePython.itkObject:\n",
      " |  \n",
      " |  AddObserver(self, *args) -> 'unsigned long'\n",
      " |      AddObserver(itkObject self, itkEventObject event, itkCommand arg1) -> unsigned long\n",
      " |      AddObserver(itkObject self, itkEventObject event, itkCommand arg1) -> unsigned long\n",
      " |      \n",
      " |      Allow people to\n",
      " |      add/remove/invoke observers (callbacks) to any ITK object. This is an\n",
      " |      implementation of the subject/observer design pattern. An observer is\n",
      " |      added by specifying an event to respond to and an itk::Command to\n",
      " |      execute. It returns an unsigned long tag which can be used later to\n",
      " |      remove the event or retrieve the command. The memory for the Command\n",
      " |      becomes the responsibility of this object, so don't pass the same\n",
      " |      instance of a command to two different objects\n",
      " |  \n",
      " |  DebugOff = itkObject_DebugOff(...)\n",
      " |      itkObject_DebugOff(itkObject self)\n",
      " |      \n",
      " |      Turn debugging output off.\n",
      " |  \n",
      " |  DebugOn = itkObject_DebugOn(...)\n",
      " |      itkObject_DebugOn(itkObject self)\n",
      " |      \n",
      " |      Turn debugging output on.\n",
      " |  \n",
      " |  GetCommand = itkObject_GetCommand(...)\n",
      " |      itkObject_GetCommand(itkObject self, unsigned long tag) -> itkCommand\n",
      " |      \n",
      " |      Get the command\n",
      " |      associated with the given tag. NOTE: This returns a pointer to a\n",
      " |      Command, but it is safe to assign this to a Command::Pointer. Since\n",
      " |      Command inherits from LightObject, at this point in the code, only a\n",
      " |      pointer or a reference to the Command can be used.\n",
      " |  \n",
      " |  GetDebug = itkObject_GetDebug(...)\n",
      " |      itkObject_GetDebug(itkObject self) -> bool\n",
      " |      \n",
      " |      Get the value of the debug\n",
      " |      flag.\n",
      " |  \n",
      " |  GetMTime = itkObject_GetMTime(...)\n",
      " |      itkObject_GetMTime(itkObject self) -> unsigned long\n",
      " |      \n",
      " |      Return this object's\n",
      " |      modified time.\n",
      " |  \n",
      " |  GetMetaDataDictionary = itkObject_GetMetaDataDictionary(...)\n",
      " |      GetMetaDataDictionary() -> itkMetaDataDictionary\n",
      " |      itkObject_GetMetaDataDictionary(itkObject self) -> itkMetaDataDictionary\n",
      " |      \n",
      " |      \n",
      " |      \n",
      " |      A constant reference to this objects MetaDataDictionary.\n",
      " |  \n",
      " |  GetObjectName = itkObject_GetObjectName(...)\n",
      " |      itkObject_GetObjectName(itkObject self) -> std::string const &\n",
      " |  \n",
      " |  GetTimeStamp = itkObject_GetTimeStamp(...)\n",
      " |      itkObject_GetTimeStamp(itkObject self) -> itkTimeStamp\n",
      " |      \n",
      " |      Return this object's\n",
      " |      time stamp.\n",
      " |  \n",
      " |  HasObserver = itkObject_HasObserver(...)\n",
      " |      itkObject_HasObserver(itkObject self, itkEventObject event) -> bool\n",
      " |      \n",
      " |      Return true if an\n",
      " |      observer is registered for this event.\n",
      " |  \n",
      " |  InvokeEvent = itkObject_InvokeEvent(...)\n",
      " |      InvokeEvent(itkEventObject arg0)\n",
      " |      itkObject_InvokeEvent(itkObject self, itkEventObject arg0)\n",
      " |      \n",
      " |      Call Execute on all the\n",
      " |      Commands observing this event id. The actions triggered by this call\n",
      " |      doesn't modify this object.\n",
      " |  \n",
      " |  Modified = itkObject_Modified(...)\n",
      " |      itkObject_Modified(itkObject self)\n",
      " |      \n",
      " |      Update the modification\n",
      " |      time for this object. Many filters rely on the modification time to\n",
      " |      determine if they need to recompute their data.\n",
      " |  \n",
      " |  RemoveAllObservers = itkObject_RemoveAllObservers(...)\n",
      " |      itkObject_RemoveAllObservers(itkObject self)\n",
      " |      \n",
      " |      Remove all\n",
      " |      observers .\n",
      " |  \n",
      " |  RemoveObserver = itkObject_RemoveObserver(...)\n",
      " |      itkObject_RemoveObserver(itkObject self, unsigned long tag)\n",
      " |      \n",
      " |      Remove the observer\n",
      " |      with this tag value.\n",
      " |  \n",
      " |  SetDebug = itkObject_SetDebug(...)\n",
      " |      itkObject_SetDebug(itkObject self, bool debugFlag)\n",
      " |      \n",
      " |      Set the value of the debug\n",
      " |      flag. A non-zero value turns debugging on.\n",
      " |  \n",
      " |  SetMetaDataDictionary = itkObject_SetMetaDataDictionary(...)\n",
      " |      itkObject_SetMetaDataDictionary(itkObject self, itkMetaDataDictionary rhs)\n",
      " |      \n",
      " |      Set the\n",
      " |      MetaDataDictionary\n",
      " |  \n",
      " |  SetObjectName = itkObject_SetObjectName(...)\n",
      " |      itkObject_SetObjectName(itkObject self, std::string const _arg)\n",
      " |      \n",
      " |      A facility to help\n",
      " |      application programmers set a human identifiable name for a given\n",
      " |      object. This has no inherent use in ITK, but is a convenience to allow\n",
      " |      developers to provide a name for this object.\n",
      " |  \n",
      " |  ----------------------------------------------------------------------\n",
      " |  Static methods inherited from ITKCommonBasePython.itkObject:\n",
      " |  \n",
      " |  GetGlobalWarningDisplay() -> 'bool'\n",
      " |      GetGlobalWarningDisplay() -> bool\n",
      " |  \n",
      " |  GlobalWarningDisplayOff() -> 'void'\n",
      " |      GlobalWarningDisplayOff()\n",
      " |  \n",
      " |  GlobalWarningDisplayOn() -> 'void'\n",
      " |      GlobalWarningDisplayOn()\n",
      " |  \n",
      " |  SetGlobalWarningDisplay(flag:'bool') -> 'void'\n",
      " |      SetGlobalWarningDisplay(bool flag)\n",
      " |  \n",
      " |  ----------------------------------------------------------------------\n",
      " |  Methods inherited from ITKCommonBasePython.itkLightObject:\n",
      " |  \n",
      " |  CreateAnother = itkLightObject_CreateAnother(...)\n",
      " |      itkLightObject_CreateAnother(itkLightObject self) -> itkLightObject_Pointer\n",
      " |      \n",
      " |      Create an object from\n",
      " |      an instance, potentially deferring to a factory. This method allows\n",
      " |      you to create an instance of an object that is exactly the same type\n",
      " |      as the referring object. This is useful in cases where an object has\n",
      " |      been cast back to a base class.\n",
      " |  \n",
      " |  GetNameOfClass = itkLightObject_GetNameOfClass(...)\n",
      " |      itkLightObject_GetNameOfClass(itkLightObject self) -> char const *\n",
      " |      \n",
      " |      Return the name of\n",
      " |      this class as a string. Used by the object factory (implemented in\n",
      " |      New()) to instantiate objects of a named type. Also used for debugging\n",
      " |      and other output information.\n",
      " |  \n",
      " |  GetReferenceCount = itkLightObject_GetReferenceCount(...)\n",
      " |      itkLightObject_GetReferenceCount(itkLightObject self) -> int\n",
      " |      \n",
      " |      Gets the\n",
      " |      reference count on this object.\n",
      " |  \n",
      " |  Print = itkLightObject_Print(...)\n",
      " |      Print(ostream os, itkIndent indent=0)\n",
      " |      itkLightObject_Print(itkLightObject self, ostream os)\n",
      " |      \n",
      " |      Cause the object to print\n",
      " |      itself out.\n",
      " |  \n",
      " |  __eq__ = itkLightObject___eq__(...)\n",
      " |      itkLightObject___eq__(itkLightObject self, itkLightObject obj) -> bool\n",
      " |  \n",
      " |  __hash__ = itkLightObject___hash__(...)\n",
      " |      itkLightObject___hash__(itkLightObject self) -> size_t\n",
      " |  \n",
      " |  __str__ = itkLightObject___str__(...)\n",
      " |      itkLightObject___str__(itkLightObject self) -> std::string\n",
      " |  \n",
      " |  ----------------------------------------------------------------------\n",
      " |  Static methods inherited from ITKCommonBasePython.itkLightObject:\n",
      " |  \n",
      " |  BreakOnError() -> 'void'\n",
      " |      BreakOnError()\n",
      " |  \n",
      " |  ----------------------------------------------------------------------\n",
      " |  Data descriptors inherited from ITKCommonBasePython.itkLightObject:\n",
      " |  \n",
      " |  __dict__\n",
      " |      dictionary for instance variables (if defined)\n",
      " |  \n",
      " |  __weakref__\n",
      " |      list of weak references to the object (if defined)\n",
      "\n"
     ]
    }
   ],
   "source": [
    "# Also observe the help with the Python `help` function\n",
    "input_image = itk.imread('data/BrainProtonDensitySlice.png', itk.ctype('unsigned char'))\n",
    "confidence_connected = itk.ConfidenceConnectedImageFilter.New(input_image)\n",
    "help(confidence_connected)"
   ]
  },
  {
   "cell_type": "code",
   "execution_count": 3,
   "metadata": {
    "slideshow": {
     "slide_type": "subslide"
    }
   },
   "outputs": [],
   "source": [
    "# Or, observe the help with IPython `?` operator\n",
    "confidence_connected?"
   ]
  },
  {
   "cell_type": "code",
   "execution_count": 4,
   "metadata": {
    "slideshow": {
     "slide_type": "subslide"
    }
   },
   "outputs": [],
   "source": [
    "# Set confidence connected filter parameters\n",
    "confidence_connected.SetMultiplier(2.3)\n",
    "confidence_connected.SetNumberOfIterations(5)\n",
    "confidence_connected.SetInitialNeighborhoodRadius(3)\n",
    "confidence_connected.SetReplaceValue(255)"
   ]
  },
  {
   "cell_type": "code",
   "execution_count": 5,
   "metadata": {
    "slideshow": {
     "slide_type": "subslide"
    }
   },
   "outputs": [],
   "source": [
    "# What is the *Multiplier*?\n",
    "confidence_connected.SetMultiplier?"
   ]
  },
  {
   "cell_type": "code",
   "execution_count": 6,
   "metadata": {
    "slideshow": {
     "slide_type": "subslide"
    }
   },
   "outputs": [
    {
     "data": {
      "application/vnd.jupyter.widget-view+json": {
       "model_id": "29b887bef7224e3580a4921780cbb8c1",
       "version_major": 2,
       "version_minor": 0
      },
      "text/plain": [
       "Viewer(geometries=[], gradient_opacity=0.22, point_sets=[], rendered_image=<itkImagePython.itkImageUC2; proxy …"
      ]
     },
     "metadata": {},
     "output_type": "display_data"
    }
   ],
   "source": [
    "# View the input image\n",
    "view(input_image)"
   ]
  },
  {
   "cell_type": "code",
   "execution_count": 7,
   "metadata": {
    "slideshow": {
     "slide_type": "subslide"
    }
   },
   "outputs": [],
   "source": [
    "# Set the seed points\n",
    "confidence_connected.SetSeed([100, 110])"
   ]
  },
  {
   "cell_type": "code",
   "execution_count": 8,
   "metadata": {
    "slideshow": {
     "slide_type": "subslide"
    }
   },
   "outputs": [
    {
     "data": {
      "application/vnd.jupyter.widget-view+json": {
       "model_id": "efb45ebb2d014304a9fb5a695e578329",
       "version_major": 2,
       "version_minor": 0
      },
      "text/plain": [
       "Viewer(geometries=[], gradient_opacity=0.22, point_sets=[], rendered_image=<itkImagePython.itkImageSS2; proxy …"
      ]
     },
     "metadata": {},
     "output_type": "display_data"
    }
   ],
   "source": [
    "confidence_connected.Update()\n",
    "\n",
    "view(confidence_connected)"
   ]
  },
  {
   "cell_type": "code",
   "execution_count": 9,
   "metadata": {
    "slideshow": {
     "slide_type": "subslide"
    }
   },
   "outputs": [
    {
     "data": {
      "application/vnd.jupyter.widget-view+json": {
       "model_id": "21ecebfde2114e79b0c724ea8faa2eb9",
       "version_major": 2,
       "version_minor": 0
      },
      "text/plain": [
       "Viewer(geometries=[], gradient_opacity=0.22, point_sets=[], rendered_image=<itkImagePython.itkImageSS2; proxy …"
      ]
     },
     "metadata": {},
     "output_type": "display_data"
    }
   ],
   "source": [
    "# Pre-process to improve the result\n",
    "median_filtered_image = itk.median_image_filter(input_image, radius=1)\n",
    "\n",
    "confidence_connected_image = itk.confidence_connected_image_filter(median_filtered_image,\n",
    "                                                                   seed=[100,110],\n",
    "                                                                   replace_value=255,\n",
    "                                                                   multiplier=3.0,\n",
    "                                                                   number_of_iterations=5,\n",
    "                                                                   initial_neighborhood_radius=3)\n",
    "\n",
    "view(confidence_connected_image)"
   ]
  },
  {
   "cell_type": "markdown",
   "metadata": {
    "slideshow": {
     "slide_type": "subslide"
    }
   },
   "source": [
    "#### Fast Marching Segmentation\n",
    "\n",
    "When the differential equation governing the level set evolution has a very simple form, a fast evolution algorithm called fast marching can be used."
   ]
  },
  {
   "cell_type": "markdown",
   "metadata": {
    "slideshow": {
     "slide_type": "fragment"
    }
   },
   "source": [
    "Front propagation: $\\Delta x = V \\Delta t$\n",
    "\n",
    "![Fast marching speed image](data/fast-marching-speed-image.png)"
   ]
  },
  {
   "cell_type": "markdown",
   "metadata": {
    "slideshow": {
     "slide_type": "subslide"
    }
   },
   "source": [
    "#### Fast Marching Time Crossing\n",
    "\n",
    "![Fast marching time crossing](data/fast-marching-time-crossing.png)"
   ]
  },
  {
   "cell_type": "markdown",
   "metadata": {
    "slideshow": {
     "slide_type": "subslide"
    }
   },
   "source": [
    "First, let's smooth the input."
   ]
  },
  {
   "cell_type": "code",
   "execution_count": 10,
   "metadata": {
    "slideshow": {
     "slide_type": "subslide"
    }
   },
   "outputs": [
    {
     "name": "stdout",
     "output_type": "stream",
     "text": [
      "<itkTemplate itk::CurvatureAnisotropicDiffusionImageFilter>\n",
      "Options:\n",
      "  [<class 'itkImagePython.itkImageF2'>, <class 'itkImagePython.itkImageF2'>]\n",
      "  [<class 'itkImagePython.itkImageF3'>, <class 'itkImagePython.itkImageF3'>]\n"
     ]
    }
   ],
   "source": [
    "# What image types are supported by our smoothing filter?\n",
    "itk.CurvatureAnisotropicDiffusionImageFilter.GetTypes()"
   ]
  },
  {
   "cell_type": "code",
   "execution_count": 11,
   "metadata": {
    "slideshow": {
     "slide_type": "subslide"
    }
   },
   "outputs": [],
   "source": [
    "# Cast to the supported image type\n",
    "Dimension = input_image.GetImageDimension()\n",
    "FloatImageType = itk.Image[itk.ctype('float'), Dimension]\n",
    "caster = itk.CastImageFilter[input_image, FloatImageType].New()\n",
    "caster.SetInput(input_image)"
   ]
  },
  {
   "cell_type": "code",
   "execution_count": 12,
   "metadata": {
    "slideshow": {
     "slide_type": "subslide"
    }
   },
   "outputs": [
    {
     "data": {
      "application/vnd.jupyter.widget-view+json": {
       "model_id": "04fc266db55445c395b4740bc8ebbfa9",
       "version_major": 2,
       "version_minor": 0
      },
      "text/plain": [
       "Viewer(geometries=[], gradient_opacity=0.22, point_sets=[], rendered_image=<itkImagePython.itkImageF2; proxy o…"
      ]
     },
     "metadata": {},
     "output_type": "display_data"
    }
   ],
   "source": [
    "smoothed_image = itk.curvature_anisotropic_diffusion_image_filter(caster, \n",
    "                                                                  time_step=0.125, \n",
    "                                                                  number_of_iterations=5,\n",
    "                                                                  conductance_parameter=3.0)\n",
    "\n",
    "view(smoothed_image)"
   ]
  },
  {
   "cell_type": "markdown",
   "metadata": {
    "slideshow": {
     "slide_type": "subslide"
    }
   },
   "source": [
    "Our speed image will be based off the local gradient magnitude."
   ]
  },
  {
   "cell_type": "code",
   "execution_count": 13,
   "metadata": {
    "slideshow": {
     "slide_type": "fragment"
    }
   },
   "outputs": [
    {
     "data": {
      "application/vnd.jupyter.widget-view+json": {
       "model_id": "40a3ee3e7a944a9cb1c320fd6164680a",
       "version_major": 2,
       "version_minor": 0
      },
      "text/plain": [
       "Viewer(geometries=[], gradient_opacity=0.22, point_sets=[], rendered_image=<itkImagePython.itkImageF2; proxy o…"
      ]
     },
     "metadata": {},
     "output_type": "display_data"
    }
   ],
   "source": [
    "gradient = itk.gradient_magnitude_recursive_gaussian_image_filter(smoothed_image, sigma=1.0)\n",
    "view(gradient)"
   ]
  },
  {
   "cell_type": "markdown",
   "metadata": {
    "slideshow": {
     "slide_type": "subslide"
    }
   },
   "source": [
    "For more information on the strategy for sigmoid parameter selection, see the [itk::SigmoidImageFilter documentation](https://itk.org/Doxygen/html/classitk_1_1SigmoidImageFilter.html) and the [discussion of the FastMarchingImageFilter in the ITK Software Guide](https://itk.org/ITKSoftwareGuide/html/Book2/ITKSoftwareGuide-Book2ch4.html#x37-1890004.3)."
   ]
  },
  {
   "cell_type": "code",
   "execution_count": 14,
   "metadata": {
    "slideshow": {
     "slide_type": "subslide"
    }
   },
   "outputs": [
    {
     "data": {
      "application/vnd.jupyter.widget-view+json": {
       "model_id": "b816c3618c2b4f76ad13ba8ee87a98e7",
       "version_major": 2,
       "version_minor": 0
      },
      "text/plain": [
       "Viewer(geometries=[], gradient_opacity=0.22, point_sets=[], rendered_image=<itkImagePython.itkImageF2; proxy o…"
      ]
     },
     "metadata": {},
     "output_type": "display_data"
    }
   ],
   "source": [
    "basin_minimum = 2.25\n",
    "border_minimum = 3.75\n",
    "\n",
    "alpha = - (border_minimum - basin_minimum) / 3.0\n",
    "beta = (border_minimum + basin_minimum) / 2.0\n",
    "\n",
    "sigmoid = itk.sigmoid_image_filter(gradient, output_minimum=0.0, output_maximum=1.0, alpha=alpha, beta=beta)\n",
    "view(sigmoid)"
   ]
  },
  {
   "cell_type": "code",
   "execution_count": 15,
   "metadata": {
    "slideshow": {
     "slide_type": "subslide"
    }
   },
   "outputs": [],
   "source": [
    "fast_marching = itk.FastMarchingImageFilter.New(sigmoid)\n",
    "\n",
    "seed_value = 0.0\n",
    "NodeType = itk.LevelSetNode[itk.ctype('float'), Dimension]\n",
    "node = NodeType()\n",
    "node.SetIndex([100,110])\n",
    "node.SetValue(seed_value)\n",
    "\n",
    "NodeContainerType = itk.VectorContainer[itk.ctype('unsigned int'), NodeType]\n",
    "nodes = NodeContainerType.New()\n",
    "nodes.Initialize()\n",
    "nodes.InsertElement(0, node)"
   ]
  },
  {
   "cell_type": "code",
   "execution_count": 32,
   "metadata": {
    "slideshow": {
     "slide_type": "subslide"
    }
   },
   "outputs": [],
   "source": [
    "fast_marching_image = itk.fast_marching_image_filter(sigmoid, trial_points=nodes, stopping_value=400.0)"
   ]
  },
  {
   "cell_type": "code",
   "execution_count": 33,
   "metadata": {
    "slideshow": {
     "slide_type": "subslide"
    }
   },
   "outputs": [],
   "source": [
    "time_threshold = 100\n",
    "thresholded_image = itk.binary_threshold_image_filter(fast_marching_image,\n",
    "                                                      lower_threshold = 0,\n",
    "                                                      upper_threshold=time_threshold,\n",
    "                                                      outside_value=0,\n",
    "                                                      inside_value=255)\n",
    "viewer = view(thresholded_image, ui_collapsed=True)"
   ]
  },
  {
   "cell_type": "code",
   "execution_count": 34,
   "metadata": {
    "slideshow": {
     "slide_type": "subslide"
    }
   },
   "outputs": [
    {
     "data": {
      "application/vnd.jupyter.widget-view+json": {
       "model_id": "b8d3dc5fa58f4a01a12bc231f6b99826",
       "version_major": 2,
       "version_minor": 0
      },
      "text/plain": [
       "VBox(children=(Viewer(geometries=[], gradient_opacity=0.22, point_sets=[], rendered_image=<itkImagePython.itkI…"
      ]
     },
     "metadata": {},
     "output_type": "display_data"
    }
   ],
   "source": [
    "time_threshold = 100\n",
    "def show_thresholded(time_threshold=100.0):\n",
    "    thresholded_image = itk.binary_threshold_image_filter(fast_marching_image,\n",
    "                                                          lower_threshold = 0,\n",
    "                                                          upper_threshold=time_threshold,\n",
    "                                                          outside_value=0,\n",
    "                                                          inside_value=255)\n",
    "    viewer.image = thresholded_image\n",
    "    \n",
    "slider = interactive(show_thresholded, time_threshold=(1.0,400.0,10.0))\n",
    "\n",
    "widgets.VBox([viewer, slider])"
   ]
  },
  {
   "cell_type": "markdown",
   "metadata": {
    "slideshow": {
     "slide_type": "subslide"
    }
   },
   "source": [
    "#### Shape Detection Level Set\n",
    "\n",
    "![Shape detection level set](data/shape-detection-level-set.png)"
   ]
  },
  {
   "cell_type": "markdown",
   "metadata": {
    "slideshow": {
     "slide_type": "subslide"
    }
   },
   "source": [
    "#### Shape Detection Level Set Pipeline\n",
    "\n",
    "\n",
    "![Shape detection level set pipeline](data/shape-detection-pipeline.png)"
   ]
  },
  {
   "cell_type": "code",
   "execution_count": 35,
   "metadata": {
    "slideshow": {
     "slide_type": "subslide"
    }
   },
   "outputs": [
    {
     "data": {
      "application/vnd.jupyter.widget-view+json": {
       "model_id": "9dc5580d8f58480c96ee28dff8f0b88a",
       "version_major": 2,
       "version_minor": 0
      },
      "text/plain": [
       "Viewer(geometries=[], gradient_opacity=0.22, point_sets=[], rendered_image=<itkImagePython.itkImageF2; proxy o…"
      ]
     },
     "metadata": {},
     "output_type": "display_data"
    }
   ],
   "source": [
    "# Prepare the initial level set image\n",
    "binary_mask = itk.imread('data/WhiteMatter.png', itk.ctype('float'))\n",
    "\n",
    "smoothed_image = itk.smoothing_recursive_gaussian_image_filter(binary_mask)\n",
    "\n",
    "rescaler = itk.IntensityWindowingImageFilter[FloatImageType,FloatImageType].New(smoothed_image)\n",
    "rescaler.SetWindowMinimum(0)\n",
    "rescaler.SetWindowMaximum(255)\n",
    "# Invert the input level set to have negative values inside\n",
    "rescaler.SetOutputMinimum(5.0)\n",
    "rescaler.SetOutputMaximum(-5.0)\n",
    "\n",
    "rescaler.Update()\n",
    "view(rescaler)"
   ]
  },
  {
   "cell_type": "code",
   "execution_count": 36,
   "metadata": {
    "slideshow": {
     "slide_type": "subslide"
    }
   },
   "outputs": [
    {
     "data": {
      "application/vnd.jupyter.widget-view+json": {
       "model_id": "2f072c5343904bdf80c3cf081735c045",
       "version_major": 2,
       "version_minor": 0
      },
      "text/plain": [
       "Viewer(geometries=[], gradient_opacity=0.22, point_sets=[], rendered_image=<itkImagePython.itkImageF2; proxy o…"
      ]
     },
     "metadata": {},
     "output_type": "display_data"
    }
   ],
   "source": [
    "# Prepare the speed image\n",
    "gradient = itk.gradient_magnitude_recursive_gaussian_image_filter(caster, sigma=1.0)\n",
    "\n",
    "basin_minimum = 1\n",
    "border_minimum = 5.0\n",
    "\n",
    "alpha = - (border_minimum - basin_minimum) / 3.0\n",
    "beta = (border_minimum + basin_minimum) / 2.0\n",
    "\n",
    "sigmoid = itk.sigmoid_image_filter(gradient, output_minimum=0.0, output_maximum=1.0, alpha=alpha, beta=beta)\n",
    "view(sigmoid)"
   ]
  },
  {
   "cell_type": "code",
   "execution_count": 37,
   "metadata": {
    "slideshow": {
     "slide_type": "subslide"
    }
   },
   "outputs": [],
   "source": [
    "shape_detection_image = itk.shape_detection_level_set_image_filter(rescaler,\n",
    "                                                                   feature_image=sigmoid,\n",
    "                                                                   maximum_r_m_s_error=0.001,\n",
    "                                                                   number_of_iterations=100,\n",
    "                                                                   propagation_scaling=1.0,\n",
    "                                                                   curvature_scaling=2.0)"
   ]
  },
  {
   "cell_type": "code",
   "execution_count": 38,
   "metadata": {
    "slideshow": {
     "slide_type": "fragment"
    }
   },
   "outputs": [
    {
     "data": {
      "application/vnd.jupyter.widget-view+json": {
       "model_id": "46a071f8be164982bd74d3578cb2aa92",
       "version_major": 2,
       "version_minor": 0
      },
      "text/plain": [
       "Viewer(geometries=[], gradient_opacity=0.22, point_sets=[], rendered_image=<itkImagePython.itkImageUS2; proxy …"
      ]
     },
     "metadata": {},
     "output_type": "display_data"
    }
   ],
   "source": [
    "thresholded_image = itk.binary_threshold_image_filter(shape_detection_image,\n",
    "                                                      lower_threshold=-1e7,\n",
    "                                                      # Cut at the zero set\n",
    "                                                      upper_threshold=0.0,\n",
    "                                                      outside_value=0,\n",
    "                                                      inside_value=255)\n",
    "view(thresholded_image)"
   ]
  },
  {
   "cell_type": "markdown",
   "metadata": {
    "slideshow": {
     "slide_type": "slide"
    }
   },
   "source": [
    "## Exercises"
   ]
  },
  {
   "cell_type": "markdown",
   "metadata": {
    "slideshow": {
     "slide_type": "subslide"
    }
   },
   "source": [
    "### Exercise 1: ConnectedThresholdImageFilter vs ConfidenceConnectedmageFilter\n",
    "\n",
    "Use [itk::ConnectedThresholdImageFilter](https://itk.org/Doxygen/html/classitk_1_1ConnectedThresholdImageFilter.html) instead of *itk::ConfidenceConnectedImageFilter*.\n",
    "\n",
    "- Can the brain's ventricle be segmented with this filter?\n",
    "\n",
    "**Hint:** Instead of `SetMultiplier()`, `SetInitialNeighborhoodRadius()`, and `SetNumberOfIterations()`, the new filter has methods `SetLower()` and `SetUpper()`."
   ]
  },
  {
   "cell_type": "code",
   "execution_count": null,
   "metadata": {},
   "outputs": [],
   "source": []
  },
  {
   "cell_type": "code",
   "execution_count": 43,
   "metadata": {
    "scrolled": true,
    "slideshow": {
     "slide_type": "fragment"
    }
   },
   "outputs": [],
   "source": [
    "# %load solutions/4_Segmentation_Exercise1.py"
   ]
  },
  {
   "cell_type": "markdown",
   "metadata": {
    "slideshow": {
     "slide_type": "subslide"
    }
   },
   "source": [
    "### Exercise 2: IsolatedConnectedImageFilter vs ConfidenceConnectedmageFilter\n",
    "\n",
    "Use [itk::IsolatedConnectedImageFilter](https://itk.org/Doxygen/html/classitk_1_1IsolatedConnectedImageFilter.html) instead of *itk::ConfidenceConnectedImageFilter*.\n",
    "\n",
    "- Can the brain's ventricle be segmented with this filter?\n",
    "\n",
    "**Hint:** Instead of `SetMultiplier()`, `SetInitialNeighborhoodRadius()`, `SetSeed()`, and `NumberOfIterations()`, the new filter has methods `SetSeed1()`, `SetSeed2()`, `SetUpperValueLimit()`, `FindUpperThresholdOff()`."
   ]
  },
  {
   "cell_type": "code",
   "execution_count": null,
   "metadata": {},
   "outputs": [],
   "source": []
  },
  {
   "cell_type": "code",
   "execution_count": 46,
   "metadata": {
    "slideshow": {
     "slide_type": "fragment"
    }
   },
   "outputs": [],
   "source": [
    "# %load solutions/4_Segmentation_Exercise2.py"
   ]
  },
  {
   "cell_type": "markdown",
   "metadata": {
    "slideshow": {
     "slide_type": "subslide"
    }
   },
   "source": [
    "### Exercise 3: Level Set Curvature and Propagation Terms\n",
    "\n",
    "Investigate the following parameters for the shape detection level set image filter.\n",
    "\n",
    "| Min Basin | Min Boundary | Propagation Scaling | Curvature Scaling | Number of Iterations |\n",
    "|-----------|--------------|---------------------|-------------------|----------------------|\n",
    "| 1.0       | 5.0          | 1.0                 | 2.0               | 100                  |\n",
    "| 1.0       | 5.0          | 1.0                 | 2.0               | 500                  |\n",
    "| 1.0       | 5.0          | 1.0                 | 4.0               | 100                  |\n",
    "| 1.0       | 20.0         | 1.0                 | 1.0               | 100                  |\n",
    "\n",
    "- What explains the observed behavior?\n",
    "- How could we stop the level set from propagating too far?"
   ]
  },
  {
   "cell_type": "code",
   "execution_count": 56,
   "metadata": {
    "slideshow": {
     "slide_type": "-"
    }
   },
   "outputs": [
    {
     "ename": "NameError",
     "evalue": "name 'XX' is not defined",
     "output_type": "error",
     "traceback": [
      "\u001b[0;31m---------------------------------------------------------------------------\u001b[0m",
      "\u001b[0;31mNameError\u001b[0m                                 Traceback (most recent call last)",
      "\u001b[0;32m<ipython-input-56-26788f507f5e>\u001b[0m in \u001b[0;36m<module>\u001b[0;34m\u001b[0m\n\u001b[1;32m     47\u001b[0m \u001b[0;34m\u001b[0m\u001b[0m\n\u001b[1;32m     48\u001b[0m \u001b[0;34m\u001b[0m\u001b[0m\n\u001b[0;32m---> 49\u001b[0;31m \u001b[0mbasin_minimum\u001b[0m \u001b[0;34m=\u001b[0m \u001b[0mXX\u001b[0m\u001b[0;34m\u001b[0m\u001b[0;34m\u001b[0m\u001b[0m\n\u001b[0m\u001b[1;32m     50\u001b[0m \u001b[0mboundary_minimum\u001b[0m \u001b[0;34m=\u001b[0m \u001b[0mXX\u001b[0m\u001b[0;34m\u001b[0m\u001b[0;34m\u001b[0m\u001b[0m\n\u001b[1;32m     51\u001b[0m \u001b[0mpropagation_scaling\u001b[0m \u001b[0;34m=\u001b[0m \u001b[0mXX\u001b[0m\u001b[0;34m\u001b[0m\u001b[0;34m\u001b[0m\u001b[0m\n",
      "\u001b[0;31mNameError\u001b[0m: name 'XX' is not defined"
     ]
    }
   ],
   "source": [
    "def explore_shape_detection_image_parameters(basin_minimum, boundary_minimum, propagation_scaling,\n",
    "                                             curvature_scaling, number_of_iterations):\n",
    "\n",
    "    input_image = itk.imread('data/BrainProtonDensitySlice.png', itk.ctype('unsigned char'))\n",
    "\n",
    "    # Prepare the initial level set image\n",
    "    binary_mask = itk.imread('data/WhiteMatter.png', itk.ctype('float'))\n",
    "\n",
    "    smoothed_image = itk.smoothing_recursive_gaussian_image_filter(binary_mask)\n",
    "\n",
    "    Dimension = input_image.GetImageDimension()\n",
    "    FloatImageType = itk.Image[itk.ctype('float'), Dimension]\n",
    "    caster = itk.CastImageFilter[input_image, FloatImageType].New()\n",
    "    caster.SetInput(input_image)\n",
    "\n",
    "    # Prepare the speed image\n",
    "    gradient = itk.gradient_magnitude_recursive_gaussian_image_filter(caster, sigma=1.0)\n",
    "\n",
    "    alpha = - (boundary_minimum - basin_minimum) / 3.0\n",
    "    beta = (boundary_minimum + basin_minimum) / 2.0\n",
    "\n",
    "    sigmoid = itk.sigmoid_image_filter(gradient, output_minimum=0.0, output_maximum=1.0, alpha=alpha, beta=beta)\n",
    "\n",
    "    rescaler = itk.IntensityWindowingImageFilter[FloatImageType,FloatImageType].New(smoothed_image)\n",
    "    rescaler.SetWindowMinimum(0)\n",
    "    rescaler.SetWindowMaximum(255)\n",
    "    # Invert the input level set to have negative values inside\n",
    "    rescaler.SetOutputMinimum(5.0)\n",
    "    rescaler.SetOutputMaximum(-5.0)\n",
    "\n",
    "    rescaler.Update()\n",
    "    \n",
    "    shape_detection_image = itk.shape_detection_level_set_image_filter(rescaler,\n",
    "                                                                       feature_image=sigmoid,\n",
    "                                                                       maximum_r_m_s_error=0.001,\n",
    "                                                                       number_of_iterations=number_of_iterations,\n",
    "                                                                       propagation_scaling=propagation_scaling,\n",
    "                                                                       curvature_scaling=curvature_scaling)\n",
    "\n",
    "    thresholded_image = itk.binary_threshold_image_filter(shape_detection_image,\n",
    "                                                          lower_threshold=-1e7,\n",
    "                                                          # Cut at the zero set\n",
    "                                                          upper_threshold=0.0,\n",
    "                                                          outside_value=0,\n",
    "                                                          inside_value=255)\n",
    "    return view(thresholded_image, ui_collapsed=True)\n",
    "\n",
    "\n",
    "basin_minimum = XX\n",
    "boundary_minimum = XX\n",
    "propagation_scaling = XX\n",
    "curvature_scaling = XX\n",
    "number_of_iterations = XX\n",
    "\n",
    "explore_shape_detection_image_parameters(basin_minimum, boundary_minimum, \n",
    "                                         propagation_scaling, curvature_scaling, number_of_iterations)"
   ]
  },
  {
   "cell_type": "code",
   "execution_count": 55,
   "metadata": {
    "slideshow": {
     "slide_type": "fragment"
    }
   },
   "outputs": [],
   "source": [
    "# %load solutions/4_Segmentation_Exercise3.py"
   ]
  },
  {
   "cell_type": "markdown",
   "metadata": {
    "slideshow": {
     "slide_type": "subslide"
    }
   },
   "source": [
    "### Enjoy ITK!"
   ]
  }
 ],
 "metadata": {
  "celltoolbar": "Slideshow",
  "kernelspec": {
   "display_name": "Python 3",
   "language": "python",
   "name": "python3"
  },
  "language_info": {
   "codemirror_mode": {
    "name": "ipython",
    "version": 3
   },
   "file_extension": ".py",
   "mimetype": "text/x-python",
   "name": "python",
   "nbconvert_exporter": "python",
   "pygments_lexer": "ipython3",
   "version": "3.8.2"
  }
 },
 "nbformat": 4,
 "nbformat_minor": 1
}
