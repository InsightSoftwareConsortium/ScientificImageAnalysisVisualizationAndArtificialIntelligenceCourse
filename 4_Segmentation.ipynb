{
 "cells": [
  {
   "cell_type": "markdown",
   "metadata": {
    "slideshow": {
     "slide_type": "slide"
    }
   },
   "source": [
    "# Image Segmentation"
   ]
  },
  {
   "cell_type": "markdown",
   "metadata": {
    "slideshow": {
     "slide_type": "slide"
    }
   },
   "source": [
    "## Overview"
   ]
  },
  {
   "cell_type": "markdown",
   "metadata": {
    "slideshow": {
     "slide_type": "subslide"
    }
   },
   "source": [
    "### Learning Objectives\n",
    "\n",
    "* Gain familiarity with the different categories of segmentation methods available in ITK\n",
    "* Understand the difference between region growing methods and how their parameters change their behavior\n",
    "* Understand the influence of terms in level set segmentation methods"
   ]
  },
  {
   "cell_type": "markdown",
   "metadata": {
    "slideshow": {
     "slide_type": "slide"
    }
   },
   "source": [
    "### ITK Segmentation Method Categories\n",
    "\n",
    "![Segmentation categories](data/segmentation-categories.png)"
   ]
  },
  {
   "cell_type": "markdown",
   "metadata": {
    "slideshow": {
     "slide_type": "slide"
    }
   },
   "source": [
    "### Region Growing Methods\n",
    "\n",
    "The basic approach of a *region growing algorithm* is to **start from a seed region (typically one or more\n",
    "pixels)** that are considered to be inside the object to be segmented. The **pixels neighboring this\n",
    "region are evaluated to determine if they should also be considered part of the object**. If so, **they are\n",
    "added to the region and the process continues as long as new pixels are added to the region**. Region\n",
    "growing algorithms vary depending on the criteria used to decide whether a pixel should be included\n",
    "in the region or not, the type connectivity used to determine neighbors, and the strategy used to visit\n",
    "neighboring pixels."
   ]
  },
  {
   "cell_type": "markdown",
   "metadata": {
    "slideshow": {
     "slide_type": "fragment"
    }
   },
   "source": [
    "Example region growing methods available in ITK:\n",
    "\n",
    "- ConfidenceConnected\n",
    "- ConnectedThreshold\n",
    "- IsolatedConnected"
   ]
  },
  {
   "cell_type": "markdown",
   "metadata": {
    "slideshow": {
     "slide_type": "subslide"
    }
   },
   "source": [
    "#### Confidence Connected\n",
    "\n",
    "![Confidence Connected](data/confidence-connected.png)"
   ]
  },
  {
   "cell_type": "markdown",
   "metadata": {
    "slideshow": {
     "slide_type": "subslide"
    }
   },
   "source": [
    "#### Connected Threshold\n",
    "\n",
    "![Connected Threshold](data/connected-threshold.png)"
   ]
  },
  {
   "cell_type": "markdown",
   "metadata": {
    "slideshow": {
     "slide_type": "subslide"
    }
   },
   "source": [
    "#### Isolated Connected\n",
    "\n",
    "![Isolated Connected](data/isolated-connected.png)"
   ]
  },
  {
   "cell_type": "markdown",
   "metadata": {
    "slideshow": {
     "slide_type": "slide"
    }
   },
   "source": [
    "### Level Set Segmentation Methods"
   ]
  },
  {
   "cell_type": "markdown",
   "metadata": {
    "slideshow": {
     "slide_type": "subslide"
    }
   },
   "source": [
    "### Level Set Concept\n",
    "\n",
    "![Level set concept](data/level-set-concept.png)\n",
    "\n"
   ]
  },
  {
   "cell_type": "markdown",
   "metadata": {
    "slideshow": {
     "slide_type": "subslide"
    }
   },
   "source": [
    "#### Level Set Evolution\n",
    "\n",
    "![Level Set evolution](data/level-set-evolution.png)"
   ]
  },
  {
   "cell_type": "markdown",
   "metadata": {
    "slideshow": {
     "slide_type": "subslide"
    }
   },
   "source": [
    "#### Level Set Function\n",
    "\n",
    "$\\phi_{t} = - \\alpha  \\mathbf{A}(\\mathbf{x})\\cdot\\nabla\\phi - \\beta   P(\\mathbf{x})\\mid\\nabla\\phi\\mid + \\gamma Z(\\mathbf{x})\\kappa\\mid\\nabla\\phi\\mid$\n",
    "\n",
    "- $\\mathbf{A}(\\mathbf{x})$: **Advection**\n",
    "- $P(\\mathbf{x})$: **Propagation**\n",
    "- $Z(\\mathbf{x})$: **Spatial modifier for the mean curvature $\\kappa$**\n",
    "- $\\alpha, \\beta, \\gamma$ are scalar constants"
   ]
  },
  {
   "cell_type": "markdown",
   "metadata": {
    "slideshow": {
     "slide_type": "subslide"
    }
   },
   "source": [
    "- Track the evolution of contours and surfaces by computing the update to the solution $\\phi$ of the PDE\n",
    "- Contour (initial solution) is initialized by the user\n",
    "- Evolve $\\phi$ until\n",
    "  - It fits the form of the segment you are trying to fit (shape detection)\n",
    "  - It segments the features you want (segmentation)\n",
    "- Evolution is uni-directional (inwards or outwards)"
   ]
  },
  {
   "cell_type": "markdown",
   "metadata": {
    "slideshow": {
     "slide_type": "subslide"
    }
   },
   "source": [
    "For more information, see:\n",
    "\n",
    "- The [*Segmentation* chapter](https://itk.org/ITKSoftwareGuide/html/Book2/ITKSoftwareGuide-Book2ch4.html#x37-1770004) of Book 2 of the ITK Software Guide, including the sections on [*Region Growing*](https://itk.org/ITKSoftwareGuide/html/Book2/ITKSoftwareGuide-Book2ch4.html#x37-1780004.1) and [*Level Set Segmentation*](https://itk.org/ITKSoftwareGuide/html/Book2/ITKSoftwareGuide-Book2ch4.html#x37-1890004.3)."
   ]
  },
  {
   "cell_type": "markdown",
   "metadata": {
    "slideshow": {
     "slide_type": "slide"
    }
   },
   "source": [
    "## Tutorial"
   ]
  },
  {
   "cell_type": "code",
   "execution_count": null,
   "metadata": {
    "slideshow": {
     "slide_type": "subslide"
    }
   },
   "outputs": [],
   "source": [
    "import numpy as np\n",
    "import itk\n",
    "from itkwidgets import view\n",
    "from matplotlib import pyplot as plt\n",
    "%matplotlib inline\n",
    "import ipywidgets as widgets\n",
    "from ipywidgets import interactive"
   ]
  },
  {
   "cell_type": "markdown",
   "metadata": {
    "slideshow": {
     "slide_type": "subslide"
    }
   },
   "source": [
    "#### itk.ConfidenceConnectedImageFilter\n",
    "\n",
    "From [itk::ConfidenceConnectedImageFilter documentation](https://itk.org/Doxygen/html/classitk_1_1ConfidenceConnectedImageFilter.html):\n",
    "\n",
    "> Segment pixels with similar statistics using connectivity.\n",
    "\n",
    "> This filter extracts a connected set of pixels whose pixel intensities are consistent with the pixel statistics of a seed point. The mean and variance across a neighborhood (8-connected, 26-connected, etc.) are calculated for a seed point. Then pixels connected to this seed point whose values are within the confidence interval for the seed point are grouped. The width of the confidence interval is controlled by the \"Multiplier\" variable (the confidence interval is the mean plus or minus the \"Multiplier\" times the standard deviation). If the intensity variations across a segment were gaussian, a \"Multiplier\" setting of 2.5 would define a confidence interval wide enough to capture 99% of samples in the segment.\n",
    "\n",
    "> After this initial segmentation is calculated, the mean and variance are re-calculated. All the pixels in the previous segmentation are used to calculate the mean the standard deviation (as opposed to using the pixels in the neighborhood of the seed point). The segmentation is then recalculated using these refined estimates for the mean and variance of the pixel values. This process is repeated for the specified number of iterations. Setting the \"NumberOfIterations\" to zero stops the algorithm after the initial segmentation from the seed point."
   ]
  },
  {
   "cell_type": "code",
   "execution_count": null,
   "metadata": {
    "slideshow": {
     "slide_type": "subslide"
    }
   },
   "outputs": [],
   "source": [
    "# Also observe the help with the Python `help` function\n",
    "input_image = itk.imread('data/BrainProtonDensitySlice.png', itk.ctype('unsigned char'))\n",
    "confidence_connected = itk.ConfidenceConnectedImageFilter.New(input_image)\n",
    "help(confidence_connected)"
   ]
  },
  {
   "cell_type": "code",
   "execution_count": null,
   "metadata": {
    "slideshow": {
     "slide_type": "subslide"
    }
   },
   "outputs": [],
   "source": [
    "# Or, observe the help with IPython `?` operator\n",
    "confidence_connected?"
   ]
  },
  {
   "cell_type": "code",
   "execution_count": null,
   "metadata": {
    "slideshow": {
     "slide_type": "subslide"
    }
   },
   "outputs": [],
   "source": [
    "# Set confidence connected filter parameters\n",
    "confidence_connected.SetMultiplier(2.3)\n",
    "confidence_connected.SetNumberOfIterations(5)\n",
    "confidence_connected.SetInitialNeighborhoodRadius(3)\n",
    "confidence_connected.SetReplaceValue(255)"
   ]
  },
  {
   "cell_type": "code",
   "execution_count": null,
   "metadata": {
    "slideshow": {
     "slide_type": "subslide"
    }
   },
   "outputs": [],
   "source": [
    "# What is the *Multiplier*?\n",
    "confidence_connected.SetMultiplier?"
   ]
  },
  {
   "cell_type": "code",
   "execution_count": null,
   "metadata": {
    "slideshow": {
     "slide_type": "subslide"
    }
   },
   "outputs": [],
   "source": [
    "# View the input image\n",
    "view(input_image)"
   ]
  },
  {
   "cell_type": "code",
   "execution_count": null,
   "metadata": {
    "slideshow": {
     "slide_type": "subslide"
    }
   },
   "outputs": [],
   "source": [
    "# Set the seed points\n",
    "confidence_connected.SetSeed([100, 110])"
   ]
  },
  {
   "cell_type": "code",
   "execution_count": null,
   "metadata": {
    "slideshow": {
     "slide_type": "subslide"
    }
   },
   "outputs": [],
   "source": [
    "confidence_connected.Update()\n",
    "\n",
    "view(confidence_connected)"
   ]
  },
  {
   "cell_type": "code",
   "execution_count": null,
   "metadata": {
    "slideshow": {
     "slide_type": "subslide"
    }
   },
   "outputs": [],
   "source": [
    "# Pre-process to improve the result\n",
    "median_filtered_image = itk.median_image_filter(input_image, radius=1)\n",
    "\n",
    "confidence_connected_image = itk.confidence_connected_image_filter(median_filtered_image,\n",
    "                                                                   seed=[100,110],\n",
    "                                                                   replace_value=255,\n",
    "                                                                   multiplier=3.0,\n",
    "                                                                   number_of_iterations=5,\n",
    "                                                                   initial_neighborhood_radius=3)\n",
    "\n",
    "view(confidence_connected_image)"
   ]
  },
  {
   "cell_type": "markdown",
   "metadata": {
    "slideshow": {
     "slide_type": "subslide"
    }
   },
   "source": [
    "#### Fast Marching Segmentation\n",
    "\n",
    "When the differential equation governing the level set evolution has a very simple form, a fast evolution algorithm called fast marching can be used."
   ]
  },
  {
   "cell_type": "markdown",
   "metadata": {
    "slideshow": {
     "slide_type": "fragment"
    }
   },
   "source": [
    "Front propagation: $\\Delta x = V \\Delta t$\n",
    "\n",
    "![Fast marching speed image](data/fast-marching-speed-image.png)"
   ]
  },
  {
   "cell_type": "markdown",
   "metadata": {
    "slideshow": {
     "slide_type": "subslide"
    }
   },
   "source": [
    "#### Fast Marching Time Crossing\n",
    "\n",
    "![Fast marching time crossing](data/fast-marching-time-crossing.png)"
   ]
  },
  {
   "cell_type": "markdown",
   "metadata": {
    "slideshow": {
     "slide_type": "subslide"
    }
   },
   "source": [
    "First, let's smooth the input."
   ]
  },
  {
   "cell_type": "code",
   "execution_count": null,
   "metadata": {
    "slideshow": {
     "slide_type": "subslide"
    }
   },
   "outputs": [],
   "source": [
    "# What image types are supported by our smoothing filter?\n",
    "itk.CurvatureAnisotropicDiffusionImageFilter.GetTypes()"
   ]
  },
  {
   "cell_type": "code",
   "execution_count": null,
   "metadata": {
    "slideshow": {
     "slide_type": "subslide"
    }
   },
   "outputs": [],
   "source": [
    "# Cast to the supported image type\n",
    "Dimension = input_image.GetImageDimension()\n",
    "FloatImageType = itk.Image[itk.ctype('float'), Dimension]\n",
    "caster = itk.CastImageFilter[input_image, FloatImageType].New()\n",
    "caster.SetInput(input_image)"
   ]
  },
  {
   "cell_type": "code",
   "execution_count": null,
   "metadata": {
    "slideshow": {
     "slide_type": "subslide"
    }
   },
   "outputs": [],
   "source": [
    "smoothed_image = itk.curvature_anisotropic_diffusion_image_filter(caster, \n",
    "                                                                  time_step=0.125, \n",
    "                                                                  number_of_iterations=5,\n",
    "                                                                  conductance_parameter=3.0)\n",
    "\n",
    "view(smoothed_image)"
   ]
  },
  {
   "cell_type": "markdown",
   "metadata": {
    "slideshow": {
     "slide_type": "subslide"
    }
   },
   "source": [
    "Our speed image will be based off the local gradient magnitude."
   ]
  },
  {
   "cell_type": "code",
   "execution_count": null,
   "metadata": {
    "slideshow": {
     "slide_type": "fragment"
    }
   },
   "outputs": [],
   "source": [
    "gradient = itk.gradient_magnitude_recursive_gaussian_image_filter(smoothed_image, sigma=1.0)\n",
    "view(gradient)"
   ]
  },
  {
   "cell_type": "markdown",
   "metadata": {
    "slideshow": {
     "slide_type": "subslide"
    }
   },
   "source": [
    "For more information on the strategy for sigmoid parameter selection, see the [itk::SigmoidImageFilter documentation](https://itk.org/Doxygen/html/classitk_1_1SigmoidImageFilter.html) and the [discussion of the FastMarchingImageFilter in the ITK Software Guide](https://itk.org/ITKSoftwareGuide/html/Book2/ITKSoftwareGuide-Book2ch4.html#x37-1890004.3)."
   ]
  },
  {
   "cell_type": "code",
   "execution_count": null,
   "metadata": {
    "slideshow": {
     "slide_type": "subslide"
    }
   },
   "outputs": [],
   "source": [
    "basin_minimum = 2.25\n",
    "border_minimum = 3.75\n",
    "\n",
    "alpha = - (border_minimum - basin_minimum) / 3.0\n",
    "beta = (border_minimum + basin_minimum) / 2.0\n",
    "\n",
    "sigmoid = itk.sigmoid_image_filter(gradient, output_minimum=0.0, output_maximum=1.0, alpha=alpha, beta=beta)\n",
    "view(sigmoid)"
   ]
  },
  {
   "cell_type": "code",
   "execution_count": null,
   "metadata": {
    "slideshow": {
     "slide_type": "subslide"
    }
   },
   "outputs": [],
   "source": [
    "fast_marching = itk.FastMarchingImageFilter.New(sigmoid)\n",
    "\n",
    "seed_value = 0.0\n",
    "NodeType = itk.LevelSetNode[itk.ctype('float'), Dimension]\n",
    "node = NodeType()\n",
    "node.SetIndex([100,110])\n",
    "node.SetValue(seed_value)\n",
    "\n",
    "NodeContainerType = itk.VectorContainer[itk.ctype('unsigned int'), NodeType]\n",
    "nodes = NodeContainerType.New()\n",
    "nodes.Initialize()\n",
    "nodes.InsertElement(0, node)"
   ]
  },
  {
   "cell_type": "code",
   "execution_count": null,
   "metadata": {
    "slideshow": {
     "slide_type": "subslide"
    }
   },
   "outputs": [],
   "source": [
    "fast_marching_image = itk.fast_marching_image_filter(sigmoid, trial_points=nodes, stopping_value=400.0)"
   ]
  },
  {
   "cell_type": "code",
   "execution_count": null,
   "metadata": {
    "slideshow": {
     "slide_type": "subslide"
    }
   },
   "outputs": [],
   "source": [
    "time_threshold = 100\n",
    "thresholded_image = itk.binary_threshold_image_filter(fast_marching_image,\n",
    "                                                      lower_threshold = 0,\n",
    "                                                      upper_threshold=time_threshold,\n",
    "                                                      outside_value=0,\n",
    "                                                      inside_value=255)\n",
    "viewer = view(thresholded_image, ui_collapsed=True)"
   ]
  },
  {
   "cell_type": "code",
   "execution_count": null,
   "metadata": {
    "slideshow": {
     "slide_type": "subslide"
    }
   },
   "outputs": [],
   "source": [
    "time_threshold = 100\n",
    "def show_thresholded(time_threshold=100.0):\n",
    "    thresholded_image = itk.binary_threshold_image_filter(fast_marching_image,\n",
    "                                                          lower_threshold = 0,\n",
    "                                                          upper_threshold=time_threshold,\n",
    "                                                          outside_value=0,\n",
    "                                                          inside_value=255)\n",
    "    viewer.image = thresholded_image\n",
    "    \n",
    "slider = interactive(show_thresholded, time_threshold=(1.0,400.0,10.0))\n",
    "\n",
    "widgets.VBox([viewer, slider])"
   ]
  },
  {
   "cell_type": "markdown",
   "metadata": {
    "slideshow": {
     "slide_type": "subslide"
    }
   },
   "source": [
    "#### Shape Detection Level Set\n",
    "\n",
    "![Shape detection level set](data/shape-detection-level-set.png)"
   ]
  },
  {
   "cell_type": "markdown",
   "metadata": {
    "slideshow": {
     "slide_type": "subslide"
    }
   },
   "source": [
    "#### Shape Detection Level Set Pipeline\n",
    "\n",
    "\n",
    "![Shape detection level set pipeline](data/shape-detection-pipeline.png)"
   ]
  },
  {
   "cell_type": "code",
   "execution_count": null,
   "metadata": {
    "slideshow": {
     "slide_type": "subslide"
    }
   },
   "outputs": [],
   "source": [
    "# Prepare the initial level set image\n",
    "binary_mask = itk.imread('data/WhiteMatter.png', itk.ctype('float'))\n",
    "\n",
    "smoothed_image = itk.smoothing_recursive_gaussian_image_filter(binary_mask)\n",
    "\n",
    "rescaler = itk.IntensityWindowingImageFilter[FloatImageType,FloatImageType].New(smoothed_image)\n",
    "rescaler.SetWindowMinimum(0)\n",
    "rescaler.SetWindowMaximum(255)\n",
    "# Invert the input level set to have negative values inside\n",
    "rescaler.SetOutputMinimum(5.0)\n",
    "rescaler.SetOutputMaximum(-5.0)\n",
    "\n",
    "rescaler.Update()\n",
    "view(rescaler)"
   ]
  },
  {
   "cell_type": "code",
   "execution_count": null,
   "metadata": {
    "slideshow": {
     "slide_type": "subslide"
    }
   },
   "outputs": [],
   "source": [
    "# Prepare the speed image\n",
    "gradient = itk.gradient_magnitude_recursive_gaussian_image_filter(caster, sigma=1.0)\n",
    "\n",
    "basin_minimum = 1\n",
    "border_minimum = 5.0\n",
    "\n",
    "alpha = - (border_minimum - basin_minimum) / 3.0\n",
    "beta = (border_minimum + basin_minimum) / 2.0\n",
    "\n",
    "sigmoid = itk.sigmoid_image_filter(gradient, output_minimum=0.0, output_maximum=1.0, alpha=alpha, beta=beta)\n",
    "view(sigmoid)"
   ]
  },
  {
   "cell_type": "code",
   "execution_count": null,
   "metadata": {
    "slideshow": {
     "slide_type": "subslide"
    }
   },
   "outputs": [],
   "source": [
    "shape_detection_image = itk.shape_detection_level_set_image_filter(rescaler,\n",
    "                                                                   feature_image=sigmoid,\n",
    "                                                                   maximum_r_m_s_error=0.001,\n",
    "                                                                   number_of_iterations=100,\n",
    "                                                                   propagation_scaling=1.0,\n",
    "                                                                   curvature_scaling=2.0)"
   ]
  },
  {
   "cell_type": "code",
   "execution_count": null,
   "metadata": {
    "slideshow": {
     "slide_type": "fragment"
    }
   },
   "outputs": [],
   "source": [
    "thresholded_image = itk.binary_threshold_image_filter(shape_detection_image,\n",
    "                                                      lower_threshold=-1e7,\n",
    "                                                      # Cut at the zero set\n",
    "                                                      upper_threshold=0.0,\n",
    "                                                      outside_value=0,\n",
    "                                                      inside_value=255)\n",
    "view(thresholded_image)"
   ]
  },
  {
   "cell_type": "markdown",
   "metadata": {
    "slideshow": {
     "slide_type": "slide"
    }
   },
   "source": [
    "## Exercises"
   ]
  },
  {
   "cell_type": "markdown",
   "metadata": {
    "slideshow": {
     "slide_type": "subslide"
    }
   },
   "source": [
    "### Exercise 1: ConnectedThresholdImageFilter vs ConfidenceConnectedmageFilter\n",
    "\n",
    "Use [itk::ConnectedThresholdImageFilter](https://itk.org/Doxygen/html/classitk_1_1ConnectedThresholdImageFilter.html) instead of *itk::ConfidenceConnectedImageFilter*.\n",
    "\n",
    "- Can the brain's ventricle be segmented with this filter?\n",
    "\n",
    "**Hint:** Instead of `SetMultiplier()`, `SetInitialNeighborhoodRadius()`, and `SetNumberOfIterations()`, the new filter has methods `SetLower()` and `SetUpper()`."
   ]
  },
  {
   "cell_type": "code",
   "execution_count": null,
   "metadata": {},
   "outputs": [],
   "source": []
  },
  {
   "cell_type": "code",
   "execution_count": null,
   "metadata": {
    "slideshow": {
     "slide_type": "fragment"
    }
   },
   "outputs": [],
   "source": [
    "# %load solutions/4_Segmentation_Exercise1.py"
   ]
  },
  {
   "cell_type": "markdown",
   "metadata": {
    "slideshow": {
     "slide_type": "subslide"
    }
   },
   "source": [
    "### Exercise 2: IsolatedConnectedImageFilter vs ConfidenceConnectedmageFilter\n",
    "\n",
    "Use [itk::IsolatedConnectedImageFilter](https://itk.org/Doxygen/html/classitk_1_1IsolatedConnectedImageFilter.html) instead of *itk::ConfidenceConnectedImageFilter*.\n",
    "\n",
    "- Can the brain's ventricle be segmented with this filter?\n",
    "\n",
    "**Hint:** Instead of `SetMultiplier()`, `SetInitialNeighborhoodRadius()`, `SetSeed()`, and `NumberOfIterations()`, the new filter has methods `SetSeed1()`, `SetSeed2()`, `SetUpperValueLimit()`, `FindUpperThresholdOff()`."
   ]
  },
  {
   "cell_type": "code",
   "execution_count": null,
   "metadata": {},
   "outputs": [],
   "source": []
  },
  {
   "cell_type": "code",
   "execution_count": null,
   "metadata": {
    "slideshow": {
     "slide_type": "fragment"
    }
   },
   "outputs": [],
   "source": [
    "# %load solutions/4_Segmentation_Exercise2.py"
   ]
  },
  {
   "cell_type": "markdown",
   "metadata": {
    "slideshow": {
     "slide_type": "subslide"
    }
   },
   "source": [
    "### Exercise 3: Level Set Curvature and Propagation Terms\n",
    "\n",
    "Investigate the following parameters for the shape detection level set image filter.\n",
    "\n",
    "| Min Basin | Min Boundary | Propagation Scaling | Curvature Scaling | Number of Iterations |\n",
    "|-----------|--------------|---------------------|-------------------|----------------------|\n",
    "| 1.0       | 5.0          | 1.0                 | 2.0               | 100                  |\n",
    "| 1.0       | 5.0          | 1.0                 | 2.0               | 500                  |\n",
    "| 1.0       | 5.0          | 1.0                 | 4.0               | 100                  |\n",
    "| 1.0       | 20.0         | 1.0                 | 1.0               | 100                  |\n",
    "\n",
    "- What explains the observed behavior?\n",
    "- How could we stop the level set from propagating too far?"
   ]
  },
  {
   "cell_type": "code",
   "execution_count": null,
   "metadata": {
    "slideshow": {
     "slide_type": "-"
    }
   },
   "outputs": [],
   "source": [
    "def explore_shape_detection_image_parameters(basin_minimum, boundary_minimum, propagation_scaling,\n",
    "                                             curvature_scaling, number_of_iterations):\n",
    "\n",
    "    input_image = itk.imread('data/BrainProtonDensitySlice.png', itk.ctype('unsigned char'))\n",
    "\n",
    "    # Prepare the initial level set image\n",
    "    binary_mask = itk.imread('data/WhiteMatter.png', itk.ctype('float'))\n",
    "\n",
    "    smoothed_image = itk.smoothing_recursive_gaussian_image_filter(binary_mask)\n",
    "\n",
    "    Dimension = input_image.GetImageDimension()\n",
    "    FloatImageType = itk.Image[itk.ctype('float'), Dimension]\n",
    "    caster = itk.CastImageFilter[input_image, FloatImageType].New()\n",
    "    caster.SetInput(input_image)\n",
    "\n",
    "    # Prepare the speed image\n",
    "    gradient = itk.gradient_magnitude_recursive_gaussian_image_filter(caster, sigma=1.0)\n",
    "\n",
    "    alpha = - (boundary_minimum - basin_minimum) / 3.0\n",
    "    beta = (boundary_minimum + basin_minimum) / 2.0\n",
    "\n",
    "    sigmoid = itk.sigmoid_image_filter(gradient, output_minimum=0.0, output_maximum=1.0, alpha=alpha, beta=beta)\n",
    "\n",
    "    rescaler = itk.IntensityWindowingImageFilter[FloatImageType,FloatImageType].New(smoothed_image)\n",
    "    rescaler.SetWindowMinimum(0)\n",
    "    rescaler.SetWindowMaximum(255)\n",
    "    # Invert the input level set to have negative values inside\n",
    "    rescaler.SetOutputMinimum(5.0)\n",
    "    rescaler.SetOutputMaximum(-5.0)\n",
    "\n",
    "    rescaler.Update()\n",
    "    \n",
    "    shape_detection_image = itk.shape_detection_level_set_image_filter(rescaler,\n",
    "                                                                       feature_image=sigmoid,\n",
    "                                                                       maximum_r_m_s_error=0.001,\n",
    "                                                                       number_of_iterations=number_of_iterations,\n",
    "                                                                       propagation_scaling=propagation_scaling,\n",
    "                                                                       curvature_scaling=curvature_scaling)\n",
    "\n",
    "    thresholded_image = itk.binary_threshold_image_filter(shape_detection_image,\n",
    "                                                          lower_threshold=-1e7,\n",
    "                                                          # Cut at the zero set\n",
    "                                                          upper_threshold=0.0,\n",
    "                                                          outside_value=0,\n",
    "                                                          inside_value=255)\n",
    "    return view(thresholded_image, ui_collapsed=True)\n",
    "\n",
    "\n",
    "basin_minimum = XX\n",
    "boundary_minimum = XX\n",
    "propagation_scaling = XX\n",
    "curvature_scaling = XX\n",
    "number_of_iterations = XX\n",
    "\n",
    "explore_shape_detection_image_parameters(basin_minimum, boundary_minimum, \n",
    "                                         propagation_scaling, curvature_scaling, number_of_iterations)"
   ]
  },
  {
   "cell_type": "code",
   "execution_count": null,
   "metadata": {
    "slideshow": {
     "slide_type": "fragment"
    }
   },
   "outputs": [],
   "source": [
    "# %load solutions/4_Segmentation_Exercise3.py"
   ]
  },
  {
   "cell_type": "markdown",
   "metadata": {
    "slideshow": {
     "slide_type": "subslide"
    }
   },
   "source": [
    "### Enjoy ITK!"
   ]
  }
 ],
 "metadata": {
  "celltoolbar": "Slideshow",
  "kernelspec": {
   "display_name": "Python 3 (ipykernel)",
   "language": "python",
   "name": "python3"
  },
  "language_info": {
   "codemirror_mode": {
    "name": "ipython",
    "version": 3
   },
   "file_extension": ".py",
   "mimetype": "text/x-python",
   "name": "python",
   "nbconvert_exporter": "python",
   "pygments_lexer": "ipython3",
   "version": "3.9.16"
  }
 },
 "nbformat": 4,
 "nbformat_minor": 4
}
