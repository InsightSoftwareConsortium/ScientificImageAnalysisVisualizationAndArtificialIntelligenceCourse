{
 "cells": [
  {
   "cell_type": "markdown",
   "metadata": {},
   "source": [
    "# Tutorial Software Development Environment Check\n",
    "\n",
    "This will verify the presence of required tools on your development system for the tutorial.\n",
    "\n",
    "For more information on installation, see the [tutorial README](./README.md)."
   ]
  },
  {
   "cell_type": "markdown",
   "metadata": {},
   "source": [
    "## Python environment checks"
   ]
  },
  {
   "cell_type": "code",
   "execution_count": 4,
   "metadata": {
    "tags": []
   },
   "outputs": [
    {
     "name": "stdout",
     "output_type": "stream",
     "text": [
      "Using python in /home/matt/bin/micromamba/envs/itk-course\n",
      "3.11.7 | packaged by conda-forge | (main, Dec 23 2023, 14:43:09) [GCC 12.3.0]\n",
      "\n",
      "\u001b[1;32m[ OK ]\u001b[0m numpy found\n",
      "\u001b[1;32m[ OK ]\u001b[0m scipy found\n",
      "\u001b[1;32m[ OK ]\u001b[0m matplotlib found\n",
      "\u001b[1;32m[ OK ]\u001b[0m IPython found\n",
      "\u001b[1;32m[ OK ]\u001b[0m scikit-learn found\n",
      "\u001b[1;32m[ OK ]\u001b[0m itk found\n",
      "\u001b[1;32m[ OK ]\u001b[0m itkwidgets found\n",
      "\u001b[1;32m[ OK ]\u001b[0m ipywidgets found\n",
      "\u001b[1;32m[ OK ]\u001b[0m jupyterlab found\n",
      "\u001b[1;32m[ OK ]\u001b[0m monai found\n",
      "\u001b[1;32m[ OK ]\u001b[0m ngff-zarr found\n",
      "\u001b[1;32m[ OK ]\u001b[0m itkwasm-image-io found\n",
      "Python checks finished.\n"
     ]
    }
   ],
   "source": [
    "from packaging.version import parse\n",
    "import sys\n",
    "\n",
    "try:\n",
    "    import curses\n",
    "    curses.setupterm()\n",
    "    assert curses.tigetnum(\"colors\") > 2\n",
    "    OK = \"\\x1b[1;%dm[ OK ]\\x1b[0m\" % (30 + curses.COLOR_GREEN)\n",
    "    FAIL = \"\\x1b[1;%dm[FAIL]\\x1b[0m\" % (30 + curses.COLOR_RED)\n",
    "except:\n",
    "    OK = '[ OK ]'\n",
    "    FAIL = '[FAIL]'\n",
    "\n",
    "try:\n",
    "    from importlib.metadata import version\n",
    "except ImportError:\n",
    "    print(FAIL, f\"Python version 3.11 is required,\"\n",
    "                f\" but {sys.version} is installed.\")\n",
    "\n",
    "\n",
    "def import_version(pkg, min_ver, fail_msg=\"\"):\n",
    "    try:\n",
    "        ver = version(pkg)\n",
    "        if parse(ver) < parse(min_ver):\n",
    "            print(FAIL, f\"{pkg} version {ver} is less than the minimum required version, {min_ver}.\")\n",
    "    except ImportError:\n",
    "        print(FAIL, f'{pkg} not installed. {fail_msg}')\n",
    "    else:\n",
    "        print(OK, f'{pkg} found')\n",
    "\n",
    "# first check the python version\n",
    "print(f'Using python in {sys.prefix}')\n",
    "print(sys.version)\n",
    "if not ( sys.version_info.major >= 3 and sys.version_info.minor >= 11 ):\n",
    "        print(f\"{FAIL} Python version > 3.11 is required, but {sys.version} is installed.\")\n",
    "print(\"\")\n",
    "requirements = {'numpy': \"1.6.1\", 'scipy': \"0.9\", 'matplotlib': \"2.0\",\n",
    "                'IPython': \"3.0\", 'scikit-learn': \"0.20\", 'itk': \"5.3\",\n",
    "                'itkwidgets': \"1.0a48\", 'ipywidgets': '7.4', 'jupyterlab': '3.0',\n",
    "                'monai': '1.3', 'ngff-zarr': '0.7', 'itkwasm-image-io': '1.0'}\n",
    "\n",
    "# now the dependencies\n",
    "for lib, required_version in list(requirements.items()):\n",
    "    import_version(lib, required_version)\n",
    "print('Python checks finished.')"
   ]
  },
  {
   "cell_type": "markdown",
   "metadata": {},
   "source": [
    "## Command line executable checks"
   ]
  },
  {
   "cell_type": "code",
   "execution_count": 5,
   "metadata": {
    "tags": []
   },
   "outputs": [
    {
     "name": "stdout",
     "output_type": "stream",
     "text": [
      "\u001b[1;32m[ OK ]\u001b[0m docker found\n",
      "\u001b[1;32m[ OK ]\u001b[0m wasmtime found\n",
      "\u001b[1;32m[ OK ]\u001b[0m pnpm found\n",
      "\u001b[1;32m[ OK ]\u001b[0m node found\n",
      "Executable checks finished.\n"
     ]
    }
   ],
   "source": [
    "import subprocess\n",
    "import shlex\n",
    "from typing import List, Dict\n",
    "import platform\n",
    "\n",
    "def check_executable(executables: List[str]) -> Dict[str,str]:\n",
    "    \"\"\"\n",
    "    Check if a list of executables can be executed by invoking them with the --help flag.\n",
    "    \"\"\"\n",
    "    results = {}\n",
    "    is_windows = platform.system() == 'Windows'\n",
    "    \n",
    "    for exe in executables:\n",
    "        if is_windows and not exe.endswith('.exe'):\n",
    "            exe += '.exe'\n",
    "            \n",
    "        try:\n",
    "            command = shlex.split(f\"{exe} --help\", posix=not is_windows)\n",
    "            # Execute the command with --help flag\n",
    "            result = subprocess.run(command, stdout=subprocess.PIPE, stderr=subprocess.PIPE)\n",
    "            results[exe] = (result.returncode == 0)\n",
    "        except Exception as e:\n",
    "            results[exe] = False\n",
    "    return results\n",
    "\n",
    "# Example usage\n",
    "executables = [\"docker\", \"wasmtime\", \"pnpm\", \"node\"]\n",
    "results = check_executable(executables)\n",
    "for exe, can_run in results.items():\n",
    "    if can_run:\n",
    "        print(OK, f\"{exe} found\")\n",
    "    else:\n",
    "        print(FAIL, f\"{exe} could not run\")\n",
    "\n",
    "print('Executable checks finished.')"
   ]
  }
 ],
 "metadata": {
  "anaconda-cloud": {},
  "kernelspec": {
   "display_name": "Python 3 (ipykernel)",
   "language": "python",
   "name": "python3"
  },
  "language_info": {
   "codemirror_mode": {
    "name": "ipython",
    "version": 3
   },
   "file_extension": ".py",
   "mimetype": "text/x-python",
   "name": "python",
   "nbconvert_exporter": "python",
   "pygments_lexer": "ipython3",
   "version": "3.11.7"
  }
 },
 "nbformat": 4,
 "nbformat_minor": 4
}
