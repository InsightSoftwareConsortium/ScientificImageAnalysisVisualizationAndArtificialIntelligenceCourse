{
 "cells": [
  {
   "cell_type": "markdown",
   "metadata": {
    "slideshow": {
     "slide_type": "slide"
    }
   },
   "source": [
    "# ITK in Python"
   ]
  },
  {
   "cell_type": "markdown",
   "metadata": {
    "slideshow": {
     "slide_type": "slide"
    }
   },
   "source": [
    "### Learning Objectives\n",
    "\n",
    "* Learn how to write simple Python code with ITK\n",
    "* Become familiar with the functional and object-oriented interfaces to ITK in Python\n",
    "* Understand how to bridge ITK with machine learning libraries with [NumPy](https://numpy.org/)"
   ]
  },
  {
   "cell_type": "markdown",
   "metadata": {
    "slideshow": {
     "slide_type": "slide"
    }
   },
   "source": [
    "# Working with NumPy and friends\n",
    "\n",
    "* ITK is great at reading and processing images\n",
    "* Some algorithms are not available in ITK\n",
    "* NumPy is great at processing arrays in simple ways\n",
    "* NumPy arrays can be read by many other Python packages\n",
    "    * [matplotlib](https://matplotlib.org)\n",
    "    * [scikit-learn](https://scikit-learn.org)\n",
    "    * [PyTorch](https://pytorch.org)\n",
    "    * [TensorFlow](https://www.tensorflow.org)\n",
    "    * [scikit-image](https://scikit-image.org)\n",
    "    * [OpenCV](https://opencv.org)"
   ]
  },
  {
   "cell_type": "code",
   "execution_count": null,
   "metadata": {
    "slideshow": {
     "slide_type": "subslide"
    },
    "tags": []
   },
   "outputs": [],
   "source": [
    "import itk\n",
    "from itkwidgets import view\n",
    "\n",
    "import numpy as np\n",
    "\n",
    "import matplotlib.pyplot as plt\n",
    "%matplotlib inline"
   ]
  },
  {
   "cell_type": "code",
   "execution_count": null,
   "metadata": {
    "slideshow": {
     "slide_type": "subslide"
    }
   },
   "outputs": [],
   "source": [
    "image = itk.imread(\"data/KitwareITK.jpg\")\n",
    "view(image, ui_collapsed=True)"
   ]
  },
  {
   "cell_type": "code",
   "execution_count": null,
   "metadata": {
    "slideshow": {
     "slide_type": "fragment"
    }
   },
   "outputs": [],
   "source": [
    "array = itk.array_from_image(image)\n",
    "print(array[1,1])"
   ]
  },
  {
   "cell_type": "markdown",
   "metadata": {
    "slideshow": {
     "slide_type": "subslide"
    }
   },
   "source": [
    "Let go the other way around: NumPy array to an ITK image. First, we create an array with some values."
   ]
  },
  {
   "cell_type": "code",
   "execution_count": null,
   "metadata": {
    "slideshow": {
     "slide_type": "fragment"
    }
   },
   "outputs": [],
   "source": [
    "def make_gaussian(size, fwhm=3, center=None):\n",
    "    \"\"\" Make a square gaussian kernel.\n",
    "\n",
    "    size is the length of a side of the square\n",
    "    fwhm is full-width-half-maximum, which\n",
    "    can be considered an effective radius.\n",
    "    \"\"\"\n",
    "\n",
    "    x = np.arange(0, size, 1, np.float32)\n",
    "    y = x[:,np.newaxis]\n",
    "\n",
    "    if center is None:\n",
    "        x0 = y0 = size // 2\n",
    "    else:\n",
    "        x0 = center[0]\n",
    "        y0 = center[1]\n",
    "\n",
    "    return np.exp(-4*np.log(2) * ((x-x0)**2 + (y-y0)**2) / fwhm**2)\n",
    "\n",
    "\n",
    "array = make_gaussian(11)"
   ]
  },
  {
   "cell_type": "markdown",
   "metadata": {
    "slideshow": {
     "slide_type": "subslide"
    }
   },
   "source": [
    "Let's look at the array. We use `matplotlib` or `itkwidgets.view` to do this."
   ]
  },
  {
   "cell_type": "code",
   "execution_count": null,
   "metadata": {
    "slideshow": {
     "slide_type": "fragment"
    }
   },
   "outputs": [],
   "source": [
    "plt.gray()\n",
    "plt.imshow(array)\n",
    "plt.axis('off')"
   ]
  },
  {
   "cell_type": "code",
   "execution_count": null,
   "metadata": {
    "slideshow": {
     "slide_type": "subslide"
    }
   },
   "outputs": [],
   "source": [
    "image = itk.image_from_array(array)\n",
    "view(image, cmap='Grayscale', interpolation=False)"
   ]
  },
  {
   "cell_type": "markdown",
   "metadata": {
    "slideshow": {
     "slide_type": "slide"
    }
   },
   "source": [
    "## Exercises"
   ]
  },
  {
   "cell_type": "markdown",
   "metadata": {
    "slideshow": {
     "slide_type": "subslide"
    }
   },
   "source": [
    "### Exercise 1: Visualize an image\n",
    "* Read an image with ITK\n",
    "* Apply a filter\n",
    "* Show both original image and filtered images with matplotlib"
   ]
  },
  {
   "cell_type": "code",
   "execution_count": null,
   "metadata": {
    "slideshow": {
     "slide_type": "subslide"
    }
   },
   "outputs": [],
   "source": [
    "image = itk.imread('data/CBCT-TextureInput.png', itk.F)"
   ]
  },
  {
   "cell_type": "code",
   "execution_count": null,
   "metadata": {
    "slideshow": {
     "slide_type": "subslide"
    }
   },
   "outputs": [],
   "source": [
    "# %load solutions/2_ITK_in_Python_answers_Exercise1.py"
   ]
  },
  {
   "cell_type": "code",
   "execution_count": null,
   "metadata": {},
   "outputs": [],
   "source": []
  },
  {
   "cell_type": "markdown",
   "metadata": {
    "slideshow": {
     "slide_type": "slide"
    }
   },
   "source": [
    "## Views vs Copies"
   ]
  },
  {
   "cell_type": "markdown",
   "metadata": {
    "slideshow": {
     "slide_type": "subslide"
    }
   },
   "source": [
    "So far we have used\n",
    "\n",
    "- `itk.array_from_image()`\n",
    "- `itk.image_from_array()`.\n",
    "\n",
    "Also available:\n",
    "\n",
    "- `itk.array_view_from_image()`\n",
    "- `itk.image_view_from_array()`\n",
    "\n",
    "You can see the keyword **view** in both the names of these functions.\n",
    "\n",
    "How to they differ in their behavior?"
   ]
  },
  {
   "cell_type": "markdown",
   "metadata": {
    "slideshow": {
     "slide_type": "subslide"
    }
   },
   "source": [
    "Let's compare the result of `itk.array_view_from_image()` and `itk.array_from_image()`."
   ]
  },
  {
   "cell_type": "code",
   "execution_count": null,
   "metadata": {
    "slideshow": {
     "slide_type": "subslide"
    }
   },
   "outputs": [],
   "source": [
    "gaussian = itk.gaussian_image_source(size=11, sigma=3, scale=100, mean=[5,5])\n",
    "\n",
    "arr_view_gaussian = itk.array_view_from_image(gaussian)\n",
    "arr_gaussian = itk.array_from_image(gaussian)\n",
    "\n",
    "gaussian.SetPixel([5,5], 0)\n",
    "\n",
    "plt.subplot(1, 2, 1)\n",
    "plt.imshow(arr_view_gaussian)\n",
    "plt.title(\"View\")\n",
    "\n",
    "plt.subplot(1, 2, 2)\n",
    "plt.imshow(arr_gaussian)\n",
    "plt.title(\"Copy\")"
   ]
  },
  {
   "cell_type": "markdown",
   "metadata": {
    "slideshow": {
     "slide_type": "subslide"
    }
   },
   "source": [
    "### Exercise 2: ITK image to NumPy array\n",
    "\n",
    "* Read an image with ITK\n",
    "\n",
    "--\n",
    "\n",
    "* Convert image to NumPy array as a view\n",
    "* Modify a pixel in the image\n",
    "* Has the array been modified?\n",
    "\n",
    "--\n",
    "\n",
    "* Convert image to NumPy array as a copy\n",
    "* Modify a pixel in the image\n",
    "* Has the array been modified?"
   ]
  },
  {
   "cell_type": "code",
   "execution_count": null,
   "metadata": {},
   "outputs": [],
   "source": [
    "# %load solutions/2_ITK_and_NumPy_answers_Exercise2.py"
   ]
  },
  {
   "cell_type": "markdown",
   "metadata": {
    "slideshow": {
     "slide_type": "slide"
    }
   },
   "source": [
    "## Templated Types\n",
    "\n",
    "* Is my ITK type templated? (hint: usually, yes)"
   ]
  },
  {
   "cell_type": "code",
   "execution_count": null,
   "metadata": {
    "slideshow": {
     "slide_type": "fragment"
    }
   },
   "outputs": [],
   "source": [
    "help(itk.Image)"
   ]
  },
  {
   "cell_type": "markdown",
   "metadata": {
    "slideshow": {
     "slide_type": "subslide"
    }
   },
   "source": [
    "* If so, you need to specify the data type\n",
    "* This is similar to `dtype` in NumPy"
   ]
  },
  {
   "cell_type": "code",
   "execution_count": null,
   "metadata": {
    "slideshow": {
     "slide_type": "fragment"
    }
   },
   "outputs": [],
   "source": [
    "import numpy\n",
    "numpy.array([0,0], dtype=numpy.float)"
   ]
  },
  {
   "cell_type": "markdown",
   "metadata": {
    "slideshow": {
     "slide_type": "subslide"
    }
   },
   "source": [
    "* Define and create a simple object"
   ]
  },
  {
   "cell_type": "code",
   "execution_count": null,
   "metadata": {
    "slideshow": {
     "slide_type": "fragment"
    }
   },
   "outputs": [],
   "source": [
    "# A pixel Index is templated over the image dimension\n",
    "IndexType = itk.Index[3]\n",
    "index = IndexType()\n",
    "print(index)"
   ]
  },
  {
   "cell_type": "markdown",
   "metadata": {
    "slideshow": {
     "slide_type": "fragment"
    }
   },
   "source": [
    "* Define and use smart pointer object"
   ]
  },
  {
   "cell_type": "code",
   "execution_count": null,
   "metadata": {
    "slideshow": {
     "slide_type": "fragment"
    }
   },
   "outputs": [],
   "source": [
    "ImageType = itk.Image[itk.ctype('float'), 2]\n",
    "my_image = ImageType.New()\n",
    "print(my_image)"
   ]
  },
  {
   "cell_type": "markdown",
   "metadata": {
    "slideshow": {
     "slide_type": "subslide"
    }
   },
   "source": [
    "* Print list of available types"
   ]
  },
  {
   "cell_type": "code",
   "execution_count": null,
   "metadata": {
    "slideshow": {
     "slide_type": "fragment"
    }
   },
   "outputs": [],
   "source": [
    "itk.Image.GetTypes()"
   ]
  },
  {
   "cell_type": "markdown",
   "metadata": {
    "slideshow": {
     "slide_type": "subslide"
    }
   },
   "source": [
    "## Non-templated Types\n",
    "\n",
    "* `MetaDataDictionary`"
   ]
  },
  {
   "cell_type": "code",
   "execution_count": null,
   "metadata": {
    "slideshow": {
     "slide_type": "fragment"
    }
   },
   "outputs": [],
   "source": [
    "d = itk.MetaDataDictionary()\n",
    "d['new_key'] = 5\n",
    "print(\"'new_key' value: %d\" % d['new_key'])"
   ]
  },
  {
   "cell_type": "markdown",
   "metadata": {
    "slideshow": {
     "slide_type": "subslide"
    }
   },
   "source": [
    "## Python Sequences for of ITK Objects\n",
    "\n",
    "* Some ITK objects expect inputs of a certain ITK type. However, it is often more convenient to directly provide Python sequences, i.e. a `list` or `tuple`."
   ]
  },
  {
   "cell_type": "code",
   "execution_count": null,
   "metadata": {
    "slideshow": {
     "slide_type": "fragment"
    }
   },
   "outputs": [],
   "source": [
    "image = ImageType.New()\n",
    "help(image.SetOrigin)"
   ]
  },
  {
   "cell_type": "markdown",
   "metadata": {
    "slideshow": {
     "slide_type": "subslide"
    }
   },
   "source": [
    "* Use a Python `list` where an `itk.Index`, `itk.Point`, or `itk.Vector` is requested."
   ]
  },
  {
   "cell_type": "code",
   "execution_count": null,
   "metadata": {
    "slideshow": {
     "slide_type": "fragment"
    }
   },
   "outputs": [],
   "source": [
    "image.SetOrigin([2, 10])\n",
    "print(\"Image origin: %s\" % str(image.GetOrigin()))\n",
    "print(\"Image origin: %s\" % str(list(image.GetOrigin())))\n",
    "print(\"Image origin: %s\" % str(tuple(image.GetOrigin())))"
   ]
  },
  {
   "cell_type": "markdown",
   "metadata": {
    "slideshow": {
     "slide_type": "slide"
    }
   },
   "source": [
    "# scikit-learn"
   ]
  },
  {
   "cell_type": "markdown",
   "metadata": {
    "slideshow": {
     "slide_type": "subslide"
    }
   },
   "source": [
    "* *scikit-learn* is a machine learning package in Python.\n",
    "* scikit-learn is used to illustrate solving a problem using ITK and *NumPy* arrays."
   ]
  },
  {
   "cell_type": "code",
   "execution_count": null,
   "metadata": {
    "slideshow": {
     "slide_type": "subslide"
    }
   },
   "outputs": [],
   "source": [
    "import sklearn"
   ]
  },
  {
   "cell_type": "markdown",
   "metadata": {
    "slideshow": {
     "slide_type": "subslide"
    }
   },
   "source": [
    "First, we load 10 2D-images of circles with different radii and center position to which noise has been added and their corresponding ground truth segmentations."
   ]
  },
  {
   "cell_type": "code",
   "execution_count": null,
   "metadata": {
    "slideshow": {
     "slide_type": "fragment"
    }
   },
   "outputs": [],
   "source": [
    "l_label = []\n",
    "l_image = []\n",
    "\n",
    "for i in range(0,10):\n",
    "    image_name = 'data/sklearn/im%d.nrrd' % i\n",
    "    image = itk.imread(image_name, itk.F)\n",
    "    array = itk.array_from_image(image)\n",
    "    l_image.append(array)\n",
    "    \n",
    "    label_name = 'data/sklearn/im%d_label.nrrd' % i\n",
    "    image = itk.imread(label_name, itk.UC)\n",
    "    array = itk.array_from_image(image)\n",
    "    l_label.append(array)\n",
    "    \n",
    "size = itk.size(image)\n",
    "print(size)\n",
    "\n",
    "plt.subplot(1, 2, 1)\n",
    "plt.imshow(l_image[0])\n",
    "plt.title(\"Image\")\n",
    "\n",
    "plt.subplot(1, 2, 2)\n",
    "plt.imshow(l_label[0])\n",
    "plt.title(\"Segmentation\")"
   ]
  },
  {
   "cell_type": "markdown",
   "metadata": {
    "slideshow": {
     "slide_type": "subslide"
    }
   },
   "source": [
    "The goal is to find the segmentation based on the input image."
   ]
  },
  {
   "cell_type": "markdown",
   "metadata": {
    "slideshow": {
     "slide_type": "subslide"
    }
   },
   "source": [
    "We create arrays of data:\n",
    "* X - the input samples\n",
    "* Y - the target values"
   ]
  },
  {
   "cell_type": "code",
   "execution_count": null,
   "metadata": {
    "slideshow": {
     "slide_type": "fragment"
    }
   },
   "outputs": [],
   "source": [
    "X0 = l_image[0].flatten()\n",
    "X = X0\n",
    "\n",
    "Y = l_label[0].flatten()\n",
    "\n",
    "for i in range(1,10):\n",
    "    X = np.concatenate((X, l_image[i].flatten()))\n",
    "    Y = np.concatenate((Y, l_label[i].flatten()))"
   ]
  },
  {
   "cell_type": "markdown",
   "metadata": {
    "slideshow": {
     "slide_type": "subslide"
    }
   },
   "source": [
    "* We use a supervised learning methods based on Bayes’ theorem.\n",
    "* The only information provided to the algorithm is the image intensity value."
   ]
  },
  {
   "cell_type": "code",
   "execution_count": null,
   "metadata": {
    "slideshow": {
     "slide_type": "fragment"
    }
   },
   "outputs": [],
   "source": [
    "from sklearn.naive_bayes import GaussianNB\n",
    "\n",
    "clf = GaussianNB()\n",
    "clf.fit(X.reshape(-1,1), Y)\n",
    "\n",
    "result = clf.predict(X0.reshape(-1,1)).reshape(size[0],size[1])\n",
    "plt.imshow(result)"
   ]
  },
  {
   "cell_type": "markdown",
   "metadata": {
    "slideshow": {
     "slide_type": "subslide"
    }
   },
   "source": [
    "To improve our segmentation, we filter the input image with a median image filter and add this information as a second sample vector.\n",
    "\n",
    "ITK is often used to read, reformat, denoise, and augment medical imaging data to improve the effectiveness of medical imaging models."
   ]
  },
  {
   "cell_type": "code",
   "execution_count": null,
   "metadata": {
    "slideshow": {
     "slide_type": "fragment"
    }
   },
   "outputs": [],
   "source": [
    "l_median = []\n",
    "for i in range(0,10):\n",
    "    image_name = 'data/sklearn/im%d.nrrd' % i\n",
    "    image = itk.imread(image_name, itk.F)\n",
    "    \n",
    "    median=itk.median_image_filter(image, radius=3)\n",
    "    \n",
    "    array = itk.array_from_image(median)\n",
    "    l_median.append(array)\n",
    "    \n",
    "plt.gray()\n",
    "plt.imshow(l_median[0])\n",
    "plt.title(\"Median Filtered Image\")"
   ]
  },
  {
   "cell_type": "code",
   "execution_count": null,
   "metadata": {
    "slideshow": {
     "slide_type": "fragment"
    }
   },
   "outputs": [],
   "source": [
    "M0 = l_median[0].flatten()\n",
    "M = M0\n",
    "X0 = np.concatenate((X0.reshape(-1,1),M0.reshape(-1,1)), axis=1)\n",
    "for i in range(1,10):\n",
    "    M = np.concatenate((M, l_median[i].flatten()))\n",
    "\n",
    "X = np.concatenate((X.reshape(-1,1),M.reshape(-1,1)), axis=1)"
   ]
  },
  {
   "cell_type": "code",
   "execution_count": null,
   "metadata": {
    "slideshow": {
     "slide_type": "subslide"
    }
   },
   "outputs": [],
   "source": [
    "clf.fit(X, Y)\n",
    "result = clf.predict(X0).reshape(50,50)\n",
    "plt.imshow(result)"
   ]
  },
  {
   "cell_type": "markdown",
   "metadata": {
    "slideshow": {
     "slide_type": "slide"
    }
   },
   "source": [
    "## Typical processing\n",
    "\n",
    "* Resampling for consistent pixel grid size and spacing\n",
    "* Image preprocessing\n",
    "    * Bias field correction, e.g. `n4_bias_field_correction_image_filter`\n",
    "    * Noise reduction, e.g. `smoothing_recursive_gaussian_image_filter`\n",
    "    * Feature computation, e.g. texture, wavelet, or edge detector\n",
    "* Converting ITK data to NumPy and organize the data as needed\n",
    "* Train classifier\n",
    "* Use classifier on new data\n",
    "* Convert classifier result to ITK data\n",
    "* Apply post processing filters\n",
    "    * Fill holes, e.g. `binary_fillhole_image_filter`\n",
    "    * Smoothing, e.g. `median_image_filter`"
   ]
  },
  {
   "cell_type": "markdown",
   "metadata": {
    "slideshow": {
     "slide_type": "subslide"
    }
   },
   "source": [
    "## Two ways of using ITK in Python\n",
    "\n",
    "* Functional programming API\n",
    " * *Pythonic*\n",
    " * Eager execution\n",
    " * More concise\n",
    " * A few functions and filters are not available\n",
    "* Object-oriented way\n",
    " * Set up processing pipelines\n",
    " * Delayed execution\n",
    " * Full access to ITK\n",
    " * Conserve memory\n",
    "   * Optimally re-use and release pixel buffer memory\n",
    "   * Stream process pipelines in chunks"
   ]
  },
  {
   "cell_type": "markdown",
   "metadata": {
    "slideshow": {
     "slide_type": "slide"
    }
   },
   "source": [
    "## Let's start with the Pythonic way"
   ]
  },
  {
   "cell_type": "code",
   "execution_count": null,
   "metadata": {
    "slideshow": {
     "slide_type": "fragment"
    }
   },
   "outputs": [],
   "source": [
    "image = itk.imread(\"data/CBCT-TextureInput.png\", itk.ctype('float'))"
   ]
  },
  {
   "cell_type": "code",
   "execution_count": null,
   "metadata": {
    "slideshow": {
     "slide_type": "fragment"
    }
   },
   "outputs": [],
   "source": [
    "filtered_image = itk.median_image_filter(image, radius = 3)"
   ]
  },
  {
   "cell_type": "code",
   "execution_count": null,
   "metadata": {
    "slideshow": {
     "slide_type": "fragment"
    }
   },
   "outputs": [],
   "source": [
    "view(filtered_image, ui_collapsed=True)"
   ]
  },
  {
   "cell_type": "markdown",
   "metadata": {
    "slideshow": {
     "slide_type": "subslide"
    }
   },
   "source": [
    "### Pythonic exercises\n",
    "\n",
    "* In the example above, change the radius of the filter and observe the result.\n",
    "* Replace filter with `mean_image_filter`\n",
    "* Replace filter with `otsu_threshold_image_filter`\n",
    "* Visualize results"
   ]
  },
  {
   "cell_type": "markdown",
   "metadata": {
    "slideshow": {
     "slide_type": "subslide"
    }
   },
   "source": [
    "Uncomment and change the radius of the filter and observe the result."
   ]
  },
  {
   "cell_type": "code",
   "execution_count": null,
   "metadata": {
    "slideshow": {
     "slide_type": "-"
    }
   },
   "outputs": [],
   "source": [
    "# median_filtered_image = itk.median_image_filter(image, radius = XX)\n",
    "# view(median_filtered_image)"
   ]
  },
  {
   "cell_type": "code",
   "execution_count": null,
   "metadata": {
    "slideshow": {
     "slide_type": "-"
    }
   },
   "outputs": [],
   "source": [
    "# %load solutions/2_Using_ITK_in_Python_real_world_filters_median.py"
   ]
  },
  {
   "cell_type": "markdown",
   "metadata": {
    "slideshow": {
     "slide_type": "subslide"
    }
   },
   "source": [
    "Uncomment and replace filter with `mean_image_filter`"
   ]
  },
  {
   "cell_type": "code",
   "execution_count": null,
   "metadata": {
    "slideshow": {
     "slide_type": "-"
    }
   },
   "outputs": [],
   "source": [
    "# mean_filtered_image = itk.filter(image, radius = 5)\n",
    "# view(mean_filtered_image)"
   ]
  },
  {
   "cell_type": "code",
   "execution_count": null,
   "metadata": {
    "slideshow": {
     "slide_type": "-"
    }
   },
   "outputs": [],
   "source": [
    "# %load solutions/2_Using_ITK_in_Python_real_world_filters_mean.py"
   ]
  },
  {
   "cell_type": "markdown",
   "metadata": {
    "slideshow": {
     "slide_type": "subslide"
    }
   },
   "source": [
    "Uncomment and replace filter with `otsu_threshold_image_filter`"
   ]
  },
  {
   "cell_type": "code",
   "execution_count": null,
   "metadata": {
    "slideshow": {
     "slide_type": "-"
    }
   },
   "outputs": [],
   "source": [
    "# otsu_filtered_image = itk.filter(image)\n",
    "# view(otsu_filtered_image)"
   ]
  },
  {
   "cell_type": "code",
   "execution_count": null,
   "metadata": {
    "slideshow": {
     "slide_type": "-"
    }
   },
   "outputs": [],
   "source": [
    "# %load solutions/2_Using_ITK_in_Python_real_world_filters_otsu.py"
   ]
  },
  {
   "cell_type": "markdown",
   "metadata": {
    "slideshow": {
     "slide_type": "slide"
    }
   },
   "source": [
    "## Object-oriented\n",
    "\n",
    "* Two types of C++ ITK objects\n",
    " * Smart pointers (hint: most ITK objects are smart pointers)\n",
    " * \"Simple\" objects\n",
    "* Translates in two ways of creating objects in Python\n",
    " * `obj = itk.SmartPointerObjectType.New()` (use auto-completion to see if `New()` method exists)\n",
    " * `obj = itk.SimpleObjectType()`"
   ]
  },
  {
   "cell_type": "markdown",
   "metadata": {
    "slideshow": {
     "slide_type": "fragment"
    }
   },
   "source": [
    "## Examples of objects\n",
    "\n",
    "* With `New()` method:\n",
    " * `itk.Image`\n",
    " * `itk.MedianImageFilter`\n",
    "* Without `New()` method:\n",
    " * `itk.Index`\n",
    " * `itk.RGBPixel`\n"
   ]
  },
  {
   "cell_type": "markdown",
   "metadata": {
    "slideshow": {
     "slide_type": "slide"
    }
   },
   "source": [
    "## Filters with object-oriented syntax"
   ]
  },
  {
   "cell_type": "code",
   "execution_count": null,
   "metadata": {
    "slideshow": {
     "slide_type": "fragment"
    }
   },
   "outputs": [],
   "source": [
    "PixelType = itk.ctype('float')\n",
    "image = itk.imread(\"data/CBCT-TextureInput.png\", PixelType)\n",
    "\n",
    "ImageType = itk.Image[PixelType, 2]\n",
    "median_filter = itk.MedianImageFilter[ImageType, ImageType].New()\n",
    "median_filter.SetInput(image)\n",
    "median_filter.SetRadius(4)\n",
    "median_filter.Update()\n",
    "view(median_filter.GetOutput(), ui_collapsed=True)"
   ]
  },
  {
   "cell_type": "markdown",
   "metadata": {
    "slideshow": {
     "slide_type": "subslide"
    }
   },
   "source": [
    "### Object-oriented exercises\n",
    "\n",
    "* In the example above, change the radius of the filter and observe the result.\n",
    "* Replace filter with `MeanImageFilter`\n",
    "* Replace filter with `OtsuThresholdImageFilter`\n",
    "* Visualize results"
   ]
  },
  {
   "cell_type": "markdown",
   "metadata": {
    "slideshow": {
     "slide_type": "subslide"
    }
   },
   "source": [
    "Uncomment and change the radius of the filter and observe the result."
   ]
  },
  {
   "cell_type": "code",
   "execution_count": null,
   "metadata": {
    "slideshow": {
     "slide_type": "-"
    }
   },
   "outputs": [],
   "source": [
    "# median_filter = itk.MedianImageFilter[ImageType, ImageType].New()\n",
    "# median_filter.SetInput(image)\n",
    "# median_filter.SetRadius(XX)\n",
    "# median_filter.Update()\n",
    "# median_filtered_image = median_filter.GetOutput()\n",
    "# view(median_filtered_image)"
   ]
  },
  {
   "cell_type": "code",
   "execution_count": null,
   "metadata": {
    "slideshow": {
     "slide_type": "-"
    }
   },
   "outputs": [],
   "source": [
    "# %load solutions/2_Using_ITK_in_Python_real_world_filters_MedianFilter.py"
   ]
  },
  {
   "cell_type": "markdown",
   "metadata": {
    "slideshow": {
     "slide_type": "subslide"
    }
   },
   "source": [
    "Uncomment and edit to use `MeanImageFilter`"
   ]
  },
  {
   "cell_type": "code",
   "execution_count": null,
   "metadata": {
    "slideshow": {
     "slide_type": "-"
    }
   },
   "outputs": [],
   "source": [
    "# mean_filter = itk.XX[ImageType, ImageType].New()\n",
    "# mean_filter.SetInput(XX)\n",
    "# mean_filter.SetRadius(XX)\n",
    "# mean_filter.Update()\n",
    "# mean_filtered_image = mean_filter.GetOutput()\n",
    "# view(mean_filtered_image)"
   ]
  },
  {
   "cell_type": "code",
   "execution_count": null,
   "metadata": {
    "slideshow": {
     "slide_type": "-"
    }
   },
   "outputs": [],
   "source": [
    "# %load solutions/2_Using_ITK_in_Python_real_world_filters_MeanFilter.py"
   ]
  },
  {
   "cell_type": "markdown",
   "metadata": {
    "slideshow": {
     "slide_type": "subslide"
    }
   },
   "source": [
    "Uncomment and replace filter with `OtsuThresholdImageFilter`"
   ]
  },
  {
   "cell_type": "code",
   "execution_count": null,
   "metadata": {
    "slideshow": {
     "slide_type": "-"
    }
   },
   "outputs": [],
   "source": [
    "# InputImageType = itk.Image[itk.ctype('float'), 2]\n",
    "# OutputImageType = itk.Image[itk.ctype('short'), 2]\n",
    "\n",
    "# otsu_filter = itk.OtsuThresholdImageFilter[XX]\n",
    "# XX"
   ]
  },
  {
   "cell_type": "code",
   "execution_count": null,
   "metadata": {
    "slideshow": {
     "slide_type": "-"
    }
   },
   "outputs": [],
   "source": [
    "# %load solutions/2_Using_ITK_in_Python_real_world_filters_OtsuFilter.py"
   ]
  },
  {
   "cell_type": "markdown",
   "metadata": {
    "slideshow": {
     "slide_type": "subslide"
    }
   },
   "source": [
    "## ITK Object-oriented Summary\n",
    "* Has `New()` method?\n",
    "  * Call `Update()` with filters!"
   ]
  },
  {
   "cell_type": "markdown",
   "metadata": {
    "slideshow": {
     "slide_type": "slide"
    }
   },
   "source": [
    "## Supported Image Types"
   ]
  },
  {
   "cell_type": "markdown",
   "metadata": {
    "slideshow": {
     "slide_type": "subslide"
    }
   },
   "source": [
    "### Unsupported (image) types\n",
    "\n",
    "ITK filters have compile-time performance optimized for a specific image types and dimensions.\n",
    "\n",
    "When an attempt is made to use a filter with an image type that is not supported, a error will occur like:"
   ]
  },
  {
   "cell_type": "markdown",
   "metadata": {
    "slideshow": {
     "slide_type": "fragment"
    }
   },
   "source": [
    "`KeyError: \"itkTemplate : No template [<class 'itkImagePython.itkImageD2'>] for the itk::ImageFileReader class\"`"
   ]
  },
  {
   "cell_type": "code",
   "execution_count": null,
   "metadata": {
    "slideshow": {
     "slide_type": "fragment"
    }
   },
   "outputs": [],
   "source": [
    "# image = itk.imread(\"data/BrainProtonDensitySlice.png\", itk.D)\n",
    "# print(image)"
   ]
  },
  {
   "cell_type": "markdown",
   "metadata": {},
   "source": [
    "To find the supported types for a filter, call `.GetTypes()` on the filter. `itk.imread` wraps, the `itk.ImageFileReader` filter."
   ]
  },
  {
   "cell_type": "code",
   "execution_count": null,
   "metadata": {},
   "outputs": [],
   "source": [
    "itk.ImageFileReader.GetTypes()"
   ]
  },
  {
   "cell_type": "markdown",
   "metadata": {
    "slideshow": {
     "slide_type": "fragment"
    }
   },
   "source": [
    "One approach to handle this type of error is is to read the image into a supported pixel type:"
   ]
  },
  {
   "cell_type": "code",
   "execution_count": null,
   "metadata": {
    "slideshow": {
     "slide_type": "fragment"
    }
   },
   "outputs": [],
   "source": [
    "image = itk.imread(\"data/KitwareITK.jpg\", itk.F)"
   ]
  },
  {
   "cell_type": "markdown",
   "metadata": {
    "slideshow": {
     "slide_type": "fragment"
    }
   },
   "source": [
    "Another approach is to cast the image to a supported image type:"
   ]
  },
  {
   "cell_type": "code",
   "execution_count": null,
   "metadata": {
    "slideshow": {
     "slide_type": "fragment"
    }
   },
   "outputs": [],
   "source": [
    "InputImageType = itk.Image[itk.F, 2]\n",
    "OutputImageType = itk.Image[itk.UC, 2]\n",
    "cast_filter = itk.CastImageFilter[InputImageType, OutputImageType].New(image)\n",
    "cast_filter.Update()"
   ]
  },
  {
   "cell_type": "markdown",
   "metadata": {
    "slideshow": {
     "slide_type": "subslide"
    }
   },
   "source": [
    "## Appendix"
   ]
  },
  {
   "cell_type": "markdown",
   "metadata": {
    "slideshow": {
     "slide_type": "fragment"
    }
   },
   "source": [
    "### Functions to know\n",
    "* `itk.imread(file_name [, pixel_type])`\n",
    "* `itk.imwrite(image, file_name [, compression])`\n",
    "* `itk.array_from_image(image)` and `itk.array_view_from_image(image)`\n",
    "* `itk.image_from_array(arr)` and `itk.image_view_from_array(arr)`"
   ]
  },
  {
   "cell_type": "markdown",
   "metadata": {
    "slideshow": {
     "slide_type": "fragment"
    }
   },
   "source": [
    "### Pixel types - Two options\n",
    "* itk.ctype('float'), itk.ctype('unsigned char')\n",
    "* itk.F, itk.UC"
   ]
  },
  {
   "cell_type": "markdown",
   "metadata": {
    "slideshow": {
     "slide_type": "skip"
    }
   },
   "source": [
    "### Convenience functions\n",
    "* `itk.size(image)`\n",
    "* `itk.spacing(image)`\n",
    "* `itk.origin(image)`\n",
    "* `itk.index(image)`\n",
    "* `itk.physical_size(image)`"
   ]
  },
  {
   "cell_type": "markdown",
   "metadata": {
    "slideshow": {
     "slide_type": "slide"
    }
   },
   "source": [
    "### Type names in C++, ITK Python and Numpy\n",
    "| C++            | ITK Python   | Numpy        |\n",
    "| :------------- | :----------: | -----------: |\n",
    "|  float         | itk.F        | numpy.float32|\n",
    "| double         | itk.D        | numpy.float64|\n",
    "| unsigned char  | itk.UC       | numpy.uint8  |\n",
    "| bool           | itk.B        | bool         |\n"
   ]
  },
  {
   "cell_type": "markdown",
   "metadata": {
    "slideshow": {
     "slide_type": "notes"
    }
   },
   "source": [
    "The complete list of types can be found in the [ITK Software Guide](https://itk.org/ITKSoftwareGuide/html/Book1/ITKSoftwareGuide-Book1ch9.html#x48-1530009.5).\n",
    "Alternatively, such correspondence can be obtained by the following methods."
   ]
  },
  {
   "cell_type": "code",
   "execution_count": null,
   "metadata": {},
   "outputs": [],
   "source": [
    "# names in C++ and ITK python\n",
    "print(itk.F == itk.ctype('float')) # True\n",
    "print(itk.B == itk.ctype('bool'))  # True"
   ]
  },
  {
   "cell_type": "code",
   "execution_count": null,
   "metadata": {},
   "outputs": [],
   "source": [
    "# print the numpy names of ITK python data types\n",
    "print(itk.D.dtype)  # <class 'numpy.float64'>\n",
    "print(itk.UC.dtype) # <class 'numpy.uint8'>\n",
    "print(itk.B.dtype)  # <class 'bool'>"
   ]
  },
  {
   "cell_type": "markdown",
   "metadata": {},
   "source": [
    "#### Specify pixel types\n",
    "* `Some ITK functions (e.g., imread()) will automatically detect the pixel type and dimensions of the image.`\n",
    "* `However, in certain cases, you want to choose the pixel type of the image that is read. `"
   ]
  },
  {
   "cell_type": "code",
   "execution_count": null,
   "metadata": {},
   "outputs": [],
   "source": [
    "# Automatically detect \n",
    "image = itk.imread(\"data/KitwareITK.jpg\")\n",
    "print(type(image))  # <class 'itkImagePython.itkImageRGBUC2'>\n",
    "\n",
    "# specify pixel type\n",
    "image = itk.imread(\"data/KitwareITK.jpg\", itk.ctype(\"unsigned char\"))\n",
    "print(type(image))  # <class 'itkImagePython.itkImageUC2'>"
   ]
  },
  {
   "cell_type": "markdown",
   "metadata": {},
   "source": [
    "See also: the **[ITK Python Quick Start Guide](https://itkpythonpackage.readthedocs.io/en/latest/Quick_start_guide.html)**"
   ]
  },
  {
   "cell_type": "markdown",
   "metadata": {},
   "source": [
    "### Enjoy ITK!"
   ]
  }
 ],
 "metadata": {
  "celltoolbar": "Slideshow",
  "kernelspec": {
   "display_name": "Python 3 (ipykernel)",
   "language": "python",
   "name": "python3"
  },
  "language_info": {
   "codemirror_mode": {
    "name": "ipython",
    "version": 3
   },
   "file_extension": ".py",
   "mimetype": "text/x-python",
   "name": "python",
   "nbconvert_exporter": "python",
   "pygments_lexer": "ipython3",
   "version": "3.9.16"
  }
 },
 "nbformat": 4,
 "nbformat_minor": 4
}
