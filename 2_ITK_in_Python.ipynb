{
 "cells": [
  {
   "cell_type": "markdown",
   "metadata": {
    "slideshow": {
     "slide_type": "slide"
    }
   },
   "source": [
    "# ITK in Python"
   ]
  },
  {
   "cell_type": "markdown",
   "metadata": {
    "slideshow": {
     "slide_type": "slide"
    }
   },
   "source": [
    "### Learning Objectives\n",
    "\n",
    "* Learn how to write simple Python code with ITK\n",
    "* Become familiar with the functional and object-oriented interfaces to ITK in Python\n",
    "* Understand how to bridge ITK with machine learning libraries with [NumPy](https://numpy.org/)"
   ]
  },
  {
   "cell_type": "markdown",
   "metadata": {
    "slideshow": {
     "slide_type": "slide"
    }
   },
   "source": [
    "# Working with NumPy and friends\n",
    "\n",
    "* ITK is great at reading and processing images\n",
    "* Some algorithms are not available in ITK\n",
    "* NumPy is great at processing arrays in simple ways\n",
    "* NumPy arrays can be read by many other Python packages\n",
    "    * [matplotlib](https://matplotlib.org)\n",
    "    * [scikit-learn](https://scikit-learn.org)\n",
    "    * [PyTorch](https://pytorch.org)\n",
    "    * [TensorFlow](https://www.tensorflow.org)\n",
    "    * [scikit-image](https://scikit-image.org)\n",
    "    * [OpenCV](https://opencv.org)"
   ]
  },
  {
   "cell_type": "code",
   "execution_count": 1,
   "metadata": {
    "slideshow": {
     "slide_type": "subslide"
    }
   },
   "outputs": [],
   "source": [
    "import itk\n",
    "from itkwidgets import view\n",
    "\n",
    "import numpy as np\n",
    "\n",
    "import matplotlib.pyplot as plt\n",
    "%matplotlib inline"
   ]
  },
  {
   "cell_type": "code",
   "execution_count": 2,
   "metadata": {
    "slideshow": {
     "slide_type": "subslide"
    }
   },
   "outputs": [
    {
     "data": {
      "application/vnd.jupyter.widget-view+json": {
       "model_id": "9f2f7b5769f64825a5a5a846dcea6cd9",
       "version_major": 2,
       "version_minor": 0
      },
      "text/plain": [
       "Viewer(geometries=[], gradient_opacity=0.22, point_sets=[], rendered_image=<itkImagePython.itkImageRGBUC2; pro…"
      ]
     },
     "metadata": {},
     "output_type": "display_data"
    }
   ],
   "source": [
    "image = itk.imread(\"data/KitwareITK.jpg\")\n",
    "view(image, ui_collapsed=True)"
   ]
  },
  {
   "cell_type": "code",
   "execution_count": 3,
   "metadata": {
    "slideshow": {
     "slide_type": "fragment"
    }
   },
   "outputs": [
    {
     "name": "stdout",
     "output_type": "stream",
     "text": [
      "[51 56 60]\n"
     ]
    }
   ],
   "source": [
    "array = itk.array_from_image(image)\n",
    "print(array[1,1])"
   ]
  },
  {
   "cell_type": "markdown",
   "metadata": {
    "slideshow": {
     "slide_type": "subslide"
    }
   },
   "source": [
    "Let go the other way around: NumPy array to an ITK image. First, we create an array with some values."
   ]
  },
  {
   "cell_type": "code",
   "execution_count": 4,
   "metadata": {
    "slideshow": {
     "slide_type": "fragment"
    }
   },
   "outputs": [],
   "source": [
    "def make_gaussian(size, fwhm=3, center=None):\n",
    "    \"\"\" Make a square gaussian kernel.\n",
    "\n",
    "    size is the length of a side of the square\n",
    "    fwhm is full-width-half-maximum, which\n",
    "    can be considered an effective radius.\n",
    "    \"\"\"\n",
    "\n",
    "    x = np.arange(0, size, 1, np.float32)\n",
    "    y = x[:,np.newaxis]\n",
    "\n",
    "    if center is None:\n",
    "        x0 = y0 = size // 2\n",
    "    else:\n",
    "        x0 = center[0]\n",
    "        y0 = center[1]\n",
    "\n",
    "    return np.exp(-4*np.log(2) * ((x-x0)**2 + (y-y0)**2) / fwhm**2)\n",
    "\n",
    "\n",
    "array = make_gaussian(11)"
   ]
  },
  {
   "cell_type": "markdown",
   "metadata": {
    "slideshow": {
     "slide_type": "subslide"
    }
   },
   "source": [
    "Let's look at the array. We use `matplotlib` or `itkwidgets.view` to do this."
   ]
  },
  {
   "cell_type": "code",
   "execution_count": 5,
   "metadata": {
    "slideshow": {
     "slide_type": "fragment"
    }
   },
   "outputs": [
    {
     "data": {
      "text/plain": [
       "(-0.5, 10.5, 10.5, -0.5)"
      ]
     },
     "execution_count": 5,
     "metadata": {},
     "output_type": "execute_result"
    },
    {
     "data": {
      "image/png": "[encoded data removed]",
      "text/plain": [
       "<Figure size 432x288 with 1 Axes>"
      ]
     },
     "metadata": {
      "needs_background": "light"
     },
     "output_type": "display_data"
    }
   ],
   "source": [
    "plt.gray()\n",
    "plt.imshow(array)\n",
    "plt.axis('off')"
   ]
  },
  {
   "cell_type": "code",
   "execution_count": 6,
   "metadata": {
    "slideshow": {
     "slide_type": "subslide"
    }
   },
   "outputs": [
    {
     "data": {
      "application/vnd.jupyter.widget-view+json": {
       "model_id": "882654811a744f57b1baf1d7c9efd080",
       "version_major": 2,
       "version_minor": 0
      },
      "text/plain": [
       "Viewer(cmap='Grayscale', geometries=[], gradient_opacity=0.22, interpolation=False, point_sets=[], rendered_im…"
      ]
     },
     "metadata": {},
     "output_type": "display_data"
    }
   ],
   "source": [
    "image = itk.image_from_array(array)\n",
    "view(image, cmap='Grayscale', interpolation=False)"
   ]
  },
  {
   "cell_type": "markdown",
   "metadata": {
    "slideshow": {
     "slide_type": "slide"
    }
   },
   "source": [
    "## Exercises"
   ]
  },
  {
   "cell_type": "markdown",
   "metadata": {
    "slideshow": {
     "slide_type": "subslide"
    }
   },
   "source": [
    "### Exercise 1: Visualize an image\n",
    "* Read an image with ITK\n",
    "* Apply a filter\n",
    "* Show both original image and filtered images with matplotlib"
   ]
  },
  {
   "cell_type": "code",
   "execution_count": 7,
   "metadata": {
    "slideshow": {
     "slide_type": "subslide"
    }
   },
   "outputs": [],
   "source": [
    "image = itk.imread('data/CBCT-TextureInput.png', itk.F)"
   ]
  },
  {
   "cell_type": "code",
   "execution_count": 8,
   "metadata": {
    "slideshow": {
     "slide_type": "subslide"
    }
   },
   "outputs": [],
   "source": [
    "# %load solutions/2_ITK_in_Python_answers_Exercise1.py"
   ]
  },
  {
   "cell_type": "code",
   "execution_count": null,
   "metadata": {},
   "outputs": [],
   "source": []
  },
  {
   "cell_type": "markdown",
   "metadata": {
    "collapsed": true,
    "slideshow": {
     "slide_type": "slide"
    }
   },
   "source": [
    "## Views vs Copies"
   ]
  },
  {
   "cell_type": "markdown",
   "metadata": {
    "slideshow": {
     "slide_type": "subslide"
    }
   },
   "source": [
    "So far we have used\n",
    "\n",
    "- `itk.array_from_image()`\n",
    "- `itk.image_from_array()`.\n",
    "\n",
    "Also available:\n",
    "\n",
    "- `itk.array_view_from_image()`\n",
    "- `itk.image_view_from_array()`\n",
    "\n",
    "You can see the keyword **view** in both the names of these functions.\n",
    "\n",
    "How to they differ in their behavior?"
   ]
  },
  {
   "cell_type": "markdown",
   "metadata": {
    "slideshow": {
     "slide_type": "subslide"
    }
   },
   "source": [
    "Let's compare the result of `itk.array_view_from_image()` and `itk.array_from_image()`."
   ]
  },
  {
   "cell_type": "code",
   "execution_count": 9,
   "metadata": {
    "slideshow": {
     "slide_type": "subslide"
    }
   },
   "outputs": [
    {
     "data": {
      "text/plain": [
       "Text(0.5, 1.0, 'Copy')"
      ]
     },
     "execution_count": 9,
     "metadata": {},
     "output_type": "execute_result"
    },
    {
     "data": {
      "image/png": "[encoded data removed]",
      "text/plain": [
       "<Figure size 432x288 with 2 Axes>"
      ]
     },
     "metadata": {
      "needs_background": "light"
     },
     "output_type": "display_data"
    }
   ],
   "source": [
    "gaussian = itk.gaussian_image_source(size=11, sigma=3, scale=100, mean=[5,5])\n",
    "\n",
    "arr_view_gaussian = itk.array_view_from_image(gaussian)\n",
    "arr_gaussian = itk.array_from_image(gaussian)\n",
    "\n",
    "gaussian.SetPixel([5,5], 0)\n",
    "\n",
    "plt.subplot(1, 2, 1)\n",
    "plt.imshow(arr_view_gaussian)\n",
    "plt.title(\"View\")\n",
    "\n",
    "plt.subplot(1, 2, 2)\n",
    "plt.imshow(arr_gaussian)\n",
    "plt.title(\"Copy\")"
   ]
  },
  {
   "cell_type": "markdown",
   "metadata": {
    "slideshow": {
     "slide_type": "subslide"
    }
   },
   "source": [
    "### Exercise 2: ITK image to NumPy array\n",
    "\n",
    "* Read an image with ITK\n",
    "\n",
    "--\n",
    "\n",
    "* Convert image to NumPy array as a view\n",
    "* Modify a pixel in the image\n",
    "* Has the array been modified?\n",
    "\n",
    "--\n",
    "\n",
    "* Convert image to NumPy array as a copy\n",
    "* Modify a pixel in the image\n",
    "* Has the array been modified?"
   ]
  },
  {
   "cell_type": "code",
   "execution_count": 10,
   "metadata": {},
   "outputs": [],
   "source": [
    "# %load solutions/2_ITK_and_NumPy_answers_Exercise2.py"
   ]
  },
  {
   "cell_type": "markdown",
   "metadata": {
    "slideshow": {
     "slide_type": "slide"
    }
   },
   "source": [
    "## Templated Types\n",
    "\n",
    "* Is my ITK type templated? (hint: usually, yes)"
   ]
  },
  {
   "cell_type": "code",
   "execution_count": 11,
   "metadata": {
    "slideshow": {
     "slide_type": "fragment"
    }
   },
   "outputs": [
    {
     "name": "stdout",
     "output_type": "stream",
     "text": [
      "Help on itkTemplate in module itkTemplate object:\n",
      "\n",
      "itk::Image = class itkTemplate(builtins.object)\n",
      " |  This class manages access to available template arguments of a C++ class.\n",
      " |  \n",
      " |  This class is generic and does not give help on the methods available in\n",
      " |  the instantiated class. To get help on a specific ITK class, instantiate an\n",
      " |  object of that class.\n",
      " |  \n",
      " |  e.g.: median = itk.MedianImageFilter[ImageType, ImageType].New()\n",
      " |        help(median)\n",
      " |  \n",
      " |  There are two ways to access types:\n",
      " |  \n",
      " |  1. With a dict interface. The user can manipulate template parameters\n",
      " |  similarly to C++, with the exception that the available parameters sets are\n",
      " |  chosen at compile time. It is also possible, with the dict interface, to\n",
      " |  explore the available parameters sets.\n",
      " |  2. With object attributes. The user can easily find the available parameters\n",
      " |  sets by pressing tab in interperter like ipython\n",
      " |  \n",
      " |  Methods defined here:\n",
      " |  \n",
      " |  GetTypes(self)\n",
      " |      Helper method which prints out the available template parameters.\n",
      " |  \n",
      " |  GetTypesAsList(self)\n",
      " |      Helper method which returns the available template parameters.\n",
      " |  \n",
      " |  New(self, *args, **kwargs)\n",
      " |      Instantiate the template with a type implied from its input.\n",
      " |      \n",
      " |      Template type specification can be avoided by assuming that the type's\n",
      " |      first template argument should have the same type as its primary input.\n",
      " |      This is generally true. If it is not true, then specify the types\n",
      " |      explicitly.\n",
      " |      \n",
      " |      For example, instead of the explicit type specification::\n",
      " |      \n",
      " |        median = itk.MedianImageFilter[ImageType, ImageType].New()\n",
      " |        median.SetInput(reader.GetOutput())\n",
      " |      \n",
      " |      call::\n",
      " |      \n",
      " |        median = itk.MedianImageFilter.New(Input=reader.GetOutput())\n",
      " |      \n",
      " |      or, the shortened::\n",
      " |      \n",
      " |        median = itk.MedianImageFilter.New(reader.GetOutput())\n",
      " |      \n",
      " |      or:\n",
      " |      \n",
      " |        median = itk.MedianImageFilter.New(reader)\n",
      " |  \n",
      " |  __add__(self, paramSetString, cl)\n",
      " |      Add a new argument set and the resulting class to the template.\n",
      " |      \n",
      " |      paramSetString is the C++ string which defines the parameters set.\n",
      " |      cl is the class which corresponds to the couple template-argument set.\n",
      " |  \n",
      " |  __call__(self, *args, **kwargs)\n",
      " |      Deprecated procedural interface function.\n",
      " |      \n",
      " |      Use snake case function instead. This function is now\n",
      " |      merely a wrapper around the snake case function (more\n",
      " |      specifically around `__internal_call__()` to avoid\n",
      " |      creating a new instance twice).\n",
      " |      \n",
      " |      Create a process object, update with the inputs and\n",
      " |      attributes, and return the result.\n",
      " |      \n",
      " |      The syntax is the same as the one used in New().\n",
      " |      \n",
      " |      UpdateLargestPossibleRegion() is execute and the current output,\n",
      " |      or tuple of outputs if there is more than one, is returned.\n",
      " |      \n",
      " |      For example,\n",
      " |      \n",
      " |        outputImage = itk.MedianImageFilter(inputImage, Radius=(1,2))\n",
      " |  \n",
      " |  __contains__(self, key)\n",
      " |  \n",
      " |  __dir__(self)\n",
      " |      Returns the list of the attributes available in the current template.\n",
      " |      \n",
      " |      This loads all the modules that might be required by this template first,\n",
      " |      and then returns the list of attributes. It is used when dir() is called\n",
      " |      or when it tries to autocomplete attribute names.\n",
      " |  \n",
      " |  __find_param__(self, paramSetString)\n",
      " |      Find the parameters of the template.\n",
      " |      \n",
      " |      paramSetString is the C++ string which defines the parameters set.\n",
      " |      \n",
      " |      __find_param__ returns a list of itk classes, itkCType, and/or numbers\n",
      " |      which correspond to the parameters described in paramSetString.\n",
      " |      The parameters MUST have been registered before calling this method,\n",
      " |      or __find_param__ will return a string and not the wanted object, and\n",
      " |      will display a warning. Registration order is important.\n",
      " |      \n",
      " |      This method is not static only to be able to display the template name\n",
      " |      in the warning.\n",
      " |  \n",
      " |  __getattr__(self, attr)\n",
      " |      Support for lazy loading.\n",
      " |  \n",
      " |  __getitem__(self, parameters)\n",
      " |      Return the class which corresponds to the given template parameters.\n",
      " |      \n",
      " |      parameters can be:\n",
      " |          - a single parameter (Ex: itk.Index[2])\n",
      " |          - a list of elements (Ex: itk.Image[itk.UC, 2])\n",
      " |  \n",
      " |  __instancecheck__(self, instance)\n",
      " |      Overloads `isinstance()` when called on an `itkTemplate` object.\n",
      " |      \n",
      " |      This function allows to compare an object to a filter without\n",
      " |      specifying the actual template arguments of the class. It will\n",
      " |      test all available template parameters that have been wrapped\n",
      " |      and return `True` if one that corresponds to the object is found.\n",
      " |  \n",
      " |  __iter__(self)\n",
      " |      # everything after this comment is for dict interface\n",
      " |      # and is a copy/paste from DictMixin\n",
      " |      # only methods to edit dictionary are not there\n",
      " |  \n",
      " |  __len__(self)\n",
      " |  \n",
      " |  __repr__(self)\n",
      " |      Return repr(self).\n",
      " |  \n",
      " |  get(self, key, default=None)\n",
      " |  \n",
      " |  items(self)\n",
      " |  \n",
      " |  iteritems(self)\n",
      " |      # third level takes advantage of second level definitions\n",
      " |  \n",
      " |  iterkeys(self)\n",
      " |  \n",
      " |  itervalues(self)\n",
      " |      # fourth level uses definitions from lower levels\n",
      " |  \n",
      " |  keys(self)\n",
      " |  \n",
      " |  values(self)\n",
      " |  \n",
      " |  ----------------------------------------------------------------------\n",
      " |  Static methods defined here:\n",
      " |  \n",
      " |  __new__(cls, name)\n",
      " |      Create and return a new object.  See help(type) for accurate signature.\n",
      " |  \n",
      " |  ----------------------------------------------------------------------\n",
      " |  Data descriptors defined here:\n",
      " |  \n",
      " |  __dict__\n",
      " |      dictionary for instance variables (if defined)\n",
      " |  \n",
      " |  __weakref__\n",
      " |      list of weak references to the object (if defined)\n",
      " |  \n",
      " |  ----------------------------------------------------------------------\n",
      " |  Data and other attributes defined here:\n",
      " |  \n",
      " |  __class_to_template__ = {<class 'pyBasePython.mapBB'>: (<itkTemplate s...\n",
      " |  \n",
      " |  __doxygen_root__ = '/home/matt/bin/venvs/CourseInBiomedicalImageAnalys...\n",
      " |  \n",
      " |  __named_templates__ = {'itk::Array': <itkTemplate itk::Array>, 'itk::A...\n",
      " |  \n",
      " |  __templates__ = OrderedDict([('std::cerr', <pyBasePython.ostream...Sou...\n",
      "\n"
     ]
    }
   ],
   "source": [
    "help(itk.Image)"
   ]
  },
  {
   "cell_type": "markdown",
   "metadata": {
    "slideshow": {
     "slide_type": "subslide"
    }
   },
   "source": [
    "* If so, you need to specify the data type\n",
    "* This is similar to `dtype` in NumPy"
   ]
  },
  {
   "cell_type": "code",
   "execution_count": 12,
   "metadata": {
    "slideshow": {
     "slide_type": "fragment"
    }
   },
   "outputs": [
    {
     "data": {
      "text/plain": [
       "array([0., 0.])"
      ]
     },
     "execution_count": 12,
     "metadata": {},
     "output_type": "execute_result"
    }
   ],
   "source": [
    "import numpy\n",
    "numpy.array([0,0], dtype=numpy.float)"
   ]
  },
  {
   "cell_type": "markdown",
   "metadata": {
    "slideshow": {
     "slide_type": "subslide"
    }
   },
   "source": [
    "* Define and create a simple object"
   ]
  },
  {
   "cell_type": "code",
   "execution_count": 14,
   "metadata": {
    "slideshow": {
     "slide_type": "fragment"
    }
   },
   "outputs": [
    {
     "name": "stdout",
     "output_type": "stream",
     "text": [
      "itkIndex3 ([0, 0, 0])\n"
     ]
    }
   ],
   "source": [
    "# A pixel Index is templated over the image dimension\n",
    "IndexType = itk.Index[3]\n",
    "index = IndexType()\n",
    "print(index)"
   ]
  },
  {
   "cell_type": "markdown",
   "metadata": {
    "slideshow": {
     "slide_type": "fragment"
    }
   },
   "source": [
    "* Define and use smart pointer object"
   ]
  },
  {
   "cell_type": "code",
   "execution_count": 15,
   "metadata": {
    "slideshow": {
     "slide_type": "fragment"
    }
   },
   "outputs": [
    {
     "name": "stdout",
     "output_type": "stream",
     "text": [
      "Image (0x1410e40)\n",
      "  RTTI typeinfo:   itk::Image<float, 2u>\n",
      "  Reference Count: 1\n",
      "  Modified Time: 93\n",
      "  Debug: Off\n",
      "  Object Name: \n",
      "  Observers: \n",
      "    none\n",
      "  Source: (none)\n",
      "  Source output name: (none)\n",
      "  Release Data: Off\n",
      "  Data Released: False\n",
      "  Global Release Data: Off\n",
      "  PipelineMTime: 0\n",
      "  UpdateMTime: 0\n",
      "  RealTimeStamp: 0 seconds \n",
      "  LargestPossibleRegion: \n",
      "    Dimension: 2\n",
      "    Index: [0, 0]\n",
      "    Size: [0, 0]\n",
      "  BufferedRegion: \n",
      "    Dimension: 2\n",
      "    Index: [0, 0]\n",
      "    Size: [0, 0]\n",
      "  RequestedRegion: \n",
      "    Dimension: 2\n",
      "    Index: [0, 0]\n",
      "    Size: [0, 0]\n",
      "  Spacing: [1, 1]\n",
      "  Origin: [0, 0]\n",
      "  Direction: \n",
      "1 0\n",
      "0 1\n",
      "\n",
      "  IndexToPointMatrix: \n",
      "1 0\n",
      "0 1\n",
      "\n",
      "  PointToIndexMatrix: \n",
      "1 0\n",
      "0 1\n",
      "\n",
      "  Inverse Direction: \n",
      "1 0\n",
      "0 1\n",
      "\n",
      "  PixelContainer: \n",
      "    ImportImageContainer (0x38f6820)\n",
      "      RTTI typeinfo:   itk::ImportImageContainer<unsigned long, float>\n",
      "      Reference Count: 1\n",
      "      Modified Time: 94\n",
      "      Debug: Off\n",
      "      Object Name: \n",
      "      Observers: \n",
      "        none\n",
      "      Pointer: 0\n",
      "      Container manages memory: true\n",
      "      Size: 0\n",
      "      Capacity: 0\n",
      "\n"
     ]
    }
   ],
   "source": [
    "ImageType = itk.Image[itk.ctype('float'), 2]\n",
    "my_image = ImageType.New()\n",
    "print(my_image)"
   ]
  },
  {
   "cell_type": "markdown",
   "metadata": {
    "slideshow": {
     "slide_type": "subslide"
    }
   },
   "source": [
    "* Print list of available types"
   ]
  },
  {
   "cell_type": "code",
   "execution_count": 16,
   "metadata": {
    "slideshow": {
     "slide_type": "fragment"
    }
   },
   "outputs": [
    {
     "name": "stdout",
     "output_type": "stream",
     "text": [
      "<itkTemplate itk::Image>\n",
      "Options:\n",
      "  [<itkCType bool>, 2]\n",
      "  [<itkCType bool>, 3]\n",
      "  [<itkCType double>, 2]\n",
      "  [<itkCType double>, 3]\n",
      "  [<itkCType float>, 2]\n",
      "  [<itkCType float>, 3]\n",
      "  [<itkCType signed short>, 2]\n",
      "  [<itkCType signed short>, 3]\n",
      "  [<itkCType unsigned char>, 2]\n",
      "  [<itkCType unsigned char>, 3]\n",
      "  [<itkCType unsigned long long>, 2]\n",
      "  [<itkCType unsigned long long>, 3]\n",
      "  [<itkCType unsigned long>, 2]\n",
      "  [<itkCType unsigned long>, 3]\n",
      "  [<itkCType unsigned short>, 2]\n",
      "  [<itkCType unsigned short>, 3]\n",
      "  [<class 'itkCovariantVectorPython.itkCovariantVectorD2'>, 2]\n",
      "  [<class 'itkCovariantVectorPython.itkCovariantVectorD2'>, 3]\n",
      "  [<class 'itkCovariantVectorPython.itkCovariantVectorD3'>, 2]\n",
      "  [<class 'itkCovariantVectorPython.itkCovariantVectorD3'>, 3]\n",
      "  [<class 'itkCovariantVectorPython.itkCovariantVectorD4'>, 2]\n",
      "  [<class 'itkCovariantVectorPython.itkCovariantVectorD4'>, 3]\n",
      "  [<class 'itkCovariantVectorPython.itkCovariantVectorF2'>, 2]\n",
      "  [<class 'itkCovariantVectorPython.itkCovariantVectorF2'>, 3]\n",
      "  [<class 'itkCovariantVectorPython.itkCovariantVectorF3'>, 2]\n",
      "  [<class 'itkCovariantVectorPython.itkCovariantVectorF3'>, 3]\n",
      "  [<class 'itkCovariantVectorPython.itkCovariantVectorF4'>, 2]\n",
      "  [<class 'itkCovariantVectorPython.itkCovariantVectorF4'>, 3]\n",
      "  [<class 'itkFixedArrayPython.itkFixedArrayF2'>, 2]\n",
      "  [<class 'itkFixedArrayPython.itkFixedArrayF3'>, 3]\n",
      "  [<class 'itkOffsetPython.itkOffset2'>, 2]\n",
      "  [<class 'itkOffsetPython.itkOffset3'>, 3]\n",
      "  [<class 'itkRGBAPixelPython.itkRGBAPixelUC'>, 2]\n",
      "  [<class 'itkRGBAPixelPython.itkRGBAPixelUC'>, 3]\n",
      "  [<class 'itkRGBPixelPython.itkRGBPixelUC'>, 2]\n",
      "  [<class 'itkRGBPixelPython.itkRGBPixelUC'>, 3]\n",
      "  [<class 'itkSymmetricSecondRankTensorPython.itkSymmetricSecondRankTensorD2'>, 2]\n",
      "  [<class 'itkSymmetricSecondRankTensorPython.itkSymmetricSecondRankTensorD3'>, 3]\n",
      "  [<class 'itkVectorPython.itkVectorD2'>, 2]\n",
      "  [<class 'itkVectorPython.itkVectorD2'>, 3]\n",
      "  [<class 'itkVectorPython.itkVectorD2'>, 4]\n",
      "  [<class 'itkVectorPython.itkVectorD3'>, 2]\n",
      "  [<class 'itkVectorPython.itkVectorD3'>, 3]\n",
      "  [<class 'itkVectorPython.itkVectorD3'>, 4]\n",
      "  [<class 'itkVectorPython.itkVectorD4'>, 2]\n",
      "  [<class 'itkVectorPython.itkVectorD4'>, 3]\n",
      "  [<class 'itkVectorPython.itkVectorD4'>, 4]\n",
      "  [<class 'itkVectorPython.itkVectorF1'>, 2]\n",
      "  [<class 'itkVectorPython.itkVectorF1'>, 3]\n",
      "  [<class 'itkVectorPython.itkVectorF2'>, 2]\n",
      "  [<class 'itkVectorPython.itkVectorF2'>, 3]\n",
      "  [<class 'itkVectorPython.itkVectorF3'>, 2]\n",
      "  [<class 'itkVectorPython.itkVectorF3'>, 3]\n",
      "  [<class 'itkVectorPython.itkVectorF4'>, 2]\n",
      "  [<class 'itkVectorPython.itkVectorF4'>, 3]\n",
      "  [<class 'stdcomplexPython.stdcomplexF'>, 2]\n",
      "  [<class 'stdcomplexPython.stdcomplexF'>, 3]\n"
     ]
    }
   ],
   "source": [
    "itk.Image.GetTypes()"
   ]
  },
  {
   "cell_type": "markdown",
   "metadata": {
    "slideshow": {
     "slide_type": "subslide"
    }
   },
   "source": [
    "## Non-templated Types\n",
    "\n",
    "* `MetaDataDictionary`"
   ]
  },
  {
   "cell_type": "code",
   "execution_count": 17,
   "metadata": {
    "slideshow": {
     "slide_type": "fragment"
    }
   },
   "outputs": [
    {
     "name": "stdout",
     "output_type": "stream",
     "text": [
      "'new_key' value: 5\n"
     ]
    }
   ],
   "source": [
    "d = itk.MetaDataDictionary()\n",
    "d['new_key'] = 5\n",
    "print(\"'new_key' value: %d\" % d['new_key'])"
   ]
  },
  {
   "cell_type": "markdown",
   "metadata": {
    "slideshow": {
     "slide_type": "subslide"
    }
   },
   "source": [
    "## Python Sequences for of ITK Objects\n",
    "\n",
    "* Some ITK objects expect inputs of a certain ITK type. However, it is often more convenient to directly provide Python sequences, i.e. a `list` or `tuple`."
   ]
  },
  {
   "cell_type": "code",
   "execution_count": 18,
   "metadata": {
    "slideshow": {
     "slide_type": "fragment"
    }
   },
   "outputs": [
    {
     "name": "stdout",
     "output_type": "stream",
     "text": [
      "Help on method itkImageBase2_SetOrigin in module _itkImagePython:\n",
      "\n",
      "itkImageBase2_SetOrigin(...) method of itkImagePython.itkImageF2 instance\n",
      "    SetOrigin(itkPointD2 _arg)\n",
      "    SetOrigin(double const * origin)\n",
      "    itkImageBase2_SetOrigin(itkImageBase2 self, float const * origin)\n",
      "    \n",
      "    Set the origin of the\n",
      "    image. The origin is the geometric coordinates of the image origin\n",
      "    (pixel [0,0]). It is stored internally as SpacePrecisionType but may\n",
      "    be set from float or double. See:   GetOrigin()\n",
      "\n"
     ]
    }
   ],
   "source": [
    "image = ImageType.New()\n",
    "help(image.SetOrigin)"
   ]
  },
  {
   "cell_type": "markdown",
   "metadata": {
    "slideshow": {
     "slide_type": "subslide"
    }
   },
   "source": [
    "* Use a Python `list` where an `itk.Index`, `itk.Point`, or `itk.Vector` is requested."
   ]
  },
  {
   "cell_type": "code",
   "execution_count": 20,
   "metadata": {
    "slideshow": {
     "slide_type": "fragment"
    }
   },
   "outputs": [
    {
     "name": "stdout",
     "output_type": "stream",
     "text": [
      "Image origin: itkPointD2 ([2, 10])\n",
      "Image origin: [2.0, 10.0]\n",
      "Image origin: (2.0, 10.0)\n"
     ]
    }
   ],
   "source": [
    "image.SetOrigin([2, 10])\n",
    "print(\"Image origin: %s\" % str(image.GetOrigin()))\n",
    "print(\"Image origin: %s\" % str(list(image.GetOrigin())))\n",
    "print(\"Image origin: %s\" % str(tuple(image.GetOrigin())))"
   ]
  },
  {
   "cell_type": "markdown",
   "metadata": {
    "slideshow": {
     "slide_type": "slide"
    }
   },
   "source": [
    "# scikit-learn"
   ]
  },
  {
   "cell_type": "markdown",
   "metadata": {
    "slideshow": {
     "slide_type": "subslide"
    }
   },
   "source": [
    "* *scikit-learn* is a machine learning package in Python.\n",
    "* scikit-learn is used to illustrate solving a problem using ITK and *NumPy* arrays."
   ]
  },
  {
   "cell_type": "code",
   "execution_count": 15,
   "metadata": {
    "slideshow": {
     "slide_type": "subslide"
    }
   },
   "outputs": [],
   "source": [
    "import sklearn"
   ]
  },
  {
   "cell_type": "markdown",
   "metadata": {
    "slideshow": {
     "slide_type": "subslide"
    }
   },
   "source": [
    "First, we load 10 2D-images of circles with different radii and center position to which noise has been added and their corresponding ground truth segmentations."
   ]
  },
  {
   "cell_type": "code",
   "execution_count": 16,
   "metadata": {
    "slideshow": {
     "slide_type": "fragment"
    }
   },
   "outputs": [
    {
     "name": "stdout",
     "output_type": "stream",
     "text": [
      "itkSize2 ([50, 50])\n"
     ]
    },
    {
     "data": {
      "text/plain": [
       "Text(0.5, 1.0, 'Segmentation')"
      ]
     },
     "execution_count": 16,
     "metadata": {},
     "output_type": "execute_result"
    },
    {
     "data": {
      "image/png": "[encoded data removed]",
      "text/plain": [
       "<Figure size 432x288 with 2 Axes>"
      ]
     },
     "metadata": {
      "needs_background": "light"
     },
     "output_type": "display_data"
    }
   ],
   "source": [
    "l_label = []\n",
    "l_image = []\n",
    "\n",
    "for i in range(0,10):\n",
    "    image_name = 'data/sklearn/im%d.nrrd' % i\n",
    "    image = itk.imread(image_name, itk.F)\n",
    "    array = itk.array_from_image(image)\n",
    "    l_image.append(array)\n",
    "    \n",
    "    label_name = 'data/sklearn/im%d_label.nrrd' % i\n",
    "    image = itk.imread(label_name, itk.UC)\n",
    "    array = itk.array_from_image(image)\n",
    "    l_label.append(array)\n",
    "    \n",
    "size = itk.size(image)\n",
    "print(size)\n",
    "\n",
    "plt.subplot(1, 2, 1)\n",
    "plt.imshow(l_image[0])\n",
    "plt.title(\"Image\")\n",
    "\n",
    "plt.subplot(1, 2, 2)\n",
    "plt.imshow(l_label[0])\n",
    "plt.title(\"Segmentation\")"
   ]
  },
  {
   "cell_type": "markdown",
   "metadata": {
    "slideshow": {
     "slide_type": "subslide"
    }
   },
   "source": [
    "The goal is to find the segmentation based on the input image."
   ]
  },
  {
   "cell_type": "markdown",
   "metadata": {
    "slideshow": {
     "slide_type": "subslide"
    }
   },
   "source": [
    "We create arrays of data:\n",
    "* X - the input samples\n",
    "* Y - the target values"
   ]
  },
  {
   "cell_type": "code",
   "execution_count": 17,
   "metadata": {
    "slideshow": {
     "slide_type": "fragment"
    }
   },
   "outputs": [],
   "source": [
    "X0 = l_image[0].flatten()\n",
    "X = X0\n",
    "\n",
    "Y = l_label[0].flatten()\n",
    "\n",
    "for i in range(1,10):\n",
    "    X = np.concatenate((X, l_image[i].flatten()))\n",
    "    Y = np.concatenate((Y, l_label[i].flatten()))"
   ]
  },
  {
   "cell_type": "markdown",
   "metadata": {
    "slideshow": {
     "slide_type": "subslide"
    }
   },
   "source": [
    "* We use a supervised learning methods based on Bayes’ theorem.\n",
    "* The only information provided to the algorithm is the image intensity value."
   ]
  },
  {
   "cell_type": "code",
   "execution_count": 18,
   "metadata": {
    "slideshow": {
     "slide_type": "fragment"
    }
   },
   "outputs": [
    {
     "data": {
      "text/plain": [
       "<matplotlib.image.AxesImage at 0x7f327428b4e0>"
      ]
     },
     "execution_count": 18,
     "metadata": {},
     "output_type": "execute_result"
    },
    {
     "data": {
      "image/png": "[encoded data removed]",
      "text/plain": [
       "<Figure size 432x288 with 1 Axes>"
      ]
     },
     "metadata": {
      "needs_background": "light"
     },
     "output_type": "display_data"
    }
   ],
   "source": [
    "from sklearn.naive_bayes import GaussianNB\n",
    "\n",
    "clf = GaussianNB()\n",
    "clf.fit(X.reshape(-1,1), Y)\n",
    "\n",
    "result = clf.predict(X0.reshape(-1,1)).reshape(size[0],size[1])\n",
    "plt.imshow(result)"
   ]
  },
  {
   "cell_type": "markdown",
   "metadata": {
    "slideshow": {
     "slide_type": "subslide"
    }
   },
   "source": [
    "To improve our segmentation, we filter the input image with a median image filter and add this information as a second sample vector.\n",
    "\n",
    "ITK is often used to read, reformat, denoise, and augment medical imaging data to improve the effectiveness of medical imaging models."
   ]
  },
  {
   "cell_type": "code",
   "execution_count": 19,
   "metadata": {
    "slideshow": {
     "slide_type": "fragment"
    }
   },
   "outputs": [
    {
     "data": {
      "text/plain": [
       "Text(0.5, 1.0, 'Median Filtered Image')"
      ]
     },
     "execution_count": 19,
     "metadata": {},
     "output_type": "execute_result"
    },
    {
     "data": {
      "image/png": "[encoded data removed]",
      "text/plain": [
       "<Figure size 432x288 with 1 Axes>"
      ]
     },
     "metadata": {
      "needs_background": "light"
     },
     "output_type": "display_data"
    }
   ],
   "source": [
    "l_median = []\n",
    "for i in range(0,10):\n",
    "    image_name = 'data/sklearn/im%d.nrrd' % i\n",
    "    image = itk.imread(image_name, itk.F)\n",
    "    \n",
    "    median=itk.median_image_filter(image, radius=3)\n",
    "    \n",
    "    array = itk.array_from_image(median)\n",
    "    l_median.append(array)\n",
    "    \n",
    "plt.gray()\n",
    "plt.imshow(l_median[0])\n",
    "plt.title(\"Median Filtered Image\")"
   ]
  },
  {
   "cell_type": "code",
   "execution_count": 20,
   "metadata": {
    "slideshow": {
     "slide_type": "fragment"
    }
   },
   "outputs": [],
   "source": [
    "M0 = l_median[0].flatten()\n",
    "M = M0\n",
    "X0 = np.concatenate((X0.reshape(-1,1),M0.reshape(-1,1)), axis=1)\n",
    "for i in range(1,10):\n",
    "    M = np.concatenate((M, l_median[i].flatten()))\n",
    "\n",
    "X = np.concatenate((X.reshape(-1,1),M.reshape(-1,1)), axis=1)"
   ]
  },
  {
   "cell_type": "code",
   "execution_count": 21,
   "metadata": {
    "slideshow": {
     "slide_type": "subslide"
    }
   },
   "outputs": [
    {
     "data": {
      "text/plain": [
       "<matplotlib.image.AxesImage at 0x7f3275f306a0>"
      ]
     },
     "execution_count": 21,
     "metadata": {},
     "output_type": "execute_result"
    },
    {
     "data": {
      "image/png": "[encoded data removed]",
      "text/plain": [
       "<Figure size 432x288 with 1 Axes>"
      ]
     },
     "metadata": {
      "needs_background": "light"
     },
     "output_type": "display_data"
    }
   ],
   "source": [
    "clf.fit(X, Y)\n",
    "result = clf.predict(X0).reshape(50,50)\n",
    "plt.imshow(result)"
   ]
  },
  {
   "cell_type": "markdown",
   "metadata": {
    "slideshow": {
     "slide_type": "slide"
    }
   },
   "source": [
    "## Typical processing\n",
    "\n",
    "* Resampling for consistent pixel grid size and spacing\n",
    "* Image preprocessing\n",
    "    * Bias field correction, e.g. `n4_bias_field_correction_image_filter`\n",
    "    * Noise reduction, e.g. `smoothing_recursive_gaussian_image_filter`\n",
    "    * Feature computation, e.g. texture, wavelet, or edge detector\n",
    "* Converting ITK data to NumPy and organize the data as needed\n",
    "* Train classifier\n",
    "* Use classifier on new data\n",
    "* Convert classifier result to ITK data\n",
    "* Apply post processing filters\n",
    "    * Fill holes, e.g. `binary_fillhole_image_filter`\n",
    "    * Smoothing, e.g. `median_image_filter`"
   ]
  },
  {
   "cell_type": "markdown",
   "metadata": {
    "slideshow": {
     "slide_type": "subslide"
    }
   },
   "source": [
    "## Two ways of using ITK in Python\n",
    "\n",
    "* Functional programming API\n",
    " * *Pythonic*\n",
    " * Eager execution\n",
    " * More concise\n",
    " * A few functions and filters are not available\n",
    "* Object-oriented way\n",
    " * Set up processing pipelines\n",
    " * Delayed execution\n",
    " * Full access to ITK\n",
    " * Conserve memory\n",
    "   * Optimally re-use and release pixel buffer memory\n",
    "   * Stream process pipelines in chunks"
   ]
  },
  {
   "cell_type": "markdown",
   "metadata": {
    "slideshow": {
     "slide_type": "slide"
    }
   },
   "source": [
    "## Let's start with the Pythonic way"
   ]
  },
  {
   "cell_type": "code",
   "execution_count": 22,
   "metadata": {
    "slideshow": {
     "slide_type": "fragment"
    }
   },
   "outputs": [],
   "source": [
    "image = itk.imread(\"data/CBCT-TextureInput.png\", itk.ctype('float'))"
   ]
  },
  {
   "cell_type": "code",
   "execution_count": 23,
   "metadata": {
    "slideshow": {
     "slide_type": "fragment"
    }
   },
   "outputs": [],
   "source": [
    "filtered_image = itk.median_image_filter(image, radius = 3)"
   ]
  },
  {
   "cell_type": "code",
   "execution_count": 25,
   "metadata": {
    "scrolled": true,
    "slideshow": {
     "slide_type": "fragment"
    }
   },
   "outputs": [
    {
     "data": {
      "application/vnd.jupyter.widget-view+json": {
       "model_id": "81b0b49c99a14ae28d523762b6c9a37c",
       "version_major": 2,
       "version_minor": 0
      },
      "text/plain": [
       "Viewer(geometries=[], gradient_opacity=0.22, point_sets=[], rendered_image=<itkImagePython.itkImageF2; proxy o…"
      ]
     },
     "metadata": {},
     "output_type": "display_data"
    }
   ],
   "source": [
    "view(filtered_image, ui_collapsed=True)"
   ]
  },
  {
   "cell_type": "markdown",
   "metadata": {
    "slideshow": {
     "slide_type": "subslide"
    }
   },
   "source": [
    "### Pythonic exercises\n",
    "\n",
    "* In the example above, change the radius of the filter and observe the result.\n",
    "* Replace filter with `mean_image_filter`\n",
    "* Replace filter with `otsu_threshold_image_filter`\n",
    "* Visualize results"
   ]
  },
  {
   "cell_type": "markdown",
   "metadata": {
    "slideshow": {
     "slide_type": "subslide"
    }
   },
   "source": [
    "Uncomment and change the radius of the filter and observe the result."
   ]
  },
  {
   "cell_type": "code",
   "execution_count": 5,
   "metadata": {
    "slideshow": {
     "slide_type": "-"
    }
   },
   "outputs": [],
   "source": [
    "# median_filtered_image = itk.median_image_filter(image, radius = XX)\n",
    "# view(median_filtered_image)"
   ]
  },
  {
   "cell_type": "code",
   "execution_count": 35,
   "metadata": {
    "slideshow": {
     "slide_type": "-"
    }
   },
   "outputs": [],
   "source": [
    "# %load solutions/2_Using_ITK_in_Python_real_world_filters_median.py"
   ]
  },
  {
   "cell_type": "markdown",
   "metadata": {
    "slideshow": {
     "slide_type": "subslide"
    }
   },
   "source": [
    "Uncomment and replace filter with `mean_image_filter`"
   ]
  },
  {
   "cell_type": "code",
   "execution_count": 36,
   "metadata": {
    "slideshow": {
     "slide_type": "-"
    }
   },
   "outputs": [],
   "source": [
    "# mean_filtered_image = itk.filter(image, radius = 5)\n",
    "# view(mean_filtered_image)"
   ]
  },
  {
   "cell_type": "code",
   "execution_count": 39,
   "metadata": {
    "slideshow": {
     "slide_type": "-"
    }
   },
   "outputs": [],
   "source": [
    "# %load solutions/2_Using_ITK_in_Python_real_world_filters_mean.py"
   ]
  },
  {
   "cell_type": "markdown",
   "metadata": {
    "slideshow": {
     "slide_type": "subslide"
    }
   },
   "source": [
    "Uncomment and replace filter with `otsu_threshold_image_filter`"
   ]
  },
  {
   "cell_type": "code",
   "execution_count": 44,
   "metadata": {
    "slideshow": {
     "slide_type": "-"
    }
   },
   "outputs": [],
   "source": [
    "# otsu_filtered_image = itk.filter(image)\n",
    "# view(otsu_filtered_image)"
   ]
  },
  {
   "cell_type": "code",
   "execution_count": 45,
   "metadata": {
    "slideshow": {
     "slide_type": "-"
    }
   },
   "outputs": [],
   "source": [
    "# %load solutions/2_Using_ITK_in_Python_real_world_filters_otsu.py"
   ]
  },
  {
   "cell_type": "markdown",
   "metadata": {
    "slideshow": {
     "slide_type": "slide"
    }
   },
   "source": [
    "## Object-oriented\n",
    "\n",
    "* Two types of C++ ITK objects\n",
    " * Smart pointers (hint: most ITK objects are smart pointers)\n",
    " * \"Simple\" objects\n",
    "* Translates in two ways of creating objects in Python\n",
    " * `obj = itk.SmartPointerObjectType.New()` (use auto-completion to see if `New()` method exists)\n",
    " * `obj = itk.SimpleObjectType()`"
   ]
  },
  {
   "cell_type": "markdown",
   "metadata": {
    "slideshow": {
     "slide_type": "fragment"
    }
   },
   "source": [
    "## Examples of objects\n",
    "\n",
    "* With `New()` method:\n",
    " * `itk.Image`\n",
    " * `itk.MedianImageFilter`\n",
    "* Without `New()` method:\n",
    " * `itk.Index`\n",
    " * `itk.RGBPixel`\n"
   ]
  },
  {
   "cell_type": "markdown",
   "metadata": {
    "slideshow": {
     "slide_type": "slide"
    }
   },
   "source": [
    "## Filters with object-oriented syntax"
   ]
  },
  {
   "cell_type": "code",
   "execution_count": 47,
   "metadata": {
    "slideshow": {
     "slide_type": "fragment"
    }
   },
   "outputs": [
    {
     "data": {
      "application/vnd.jupyter.widget-view+json": {
       "model_id": "10fc7515a1574338890bc9da53571f30",
       "version_major": 2,
       "version_minor": 0
      },
      "text/plain": [
       "Viewer(geometries=[], gradient_opacity=0.22, point_sets=[], rendered_image=<itkImagePython.itkImageF2; proxy o…"
      ]
     },
     "metadata": {},
     "output_type": "display_data"
    }
   ],
   "source": [
    "PixelType = itk.ctype('float')\n",
    "image = itk.imread(\"data/CBCT-TextureInput.png\", PixelType)\n",
    "\n",
    "ImageType = itk.Image[PixelType, 2]\n",
    "median_filter = itk.MedianImageFilter[ImageType, ImageType].New()\n",
    "median_filter.SetInput(image)\n",
    "median_filter.SetRadius(4)\n",
    "median_filter.Update()\n",
    "view(median_filter.GetOutput(), ui_collapsed=True)"
   ]
  },
  {
   "cell_type": "markdown",
   "metadata": {
    "slideshow": {
     "slide_type": "subslide"
    }
   },
   "source": [
    "### Object-oriented exercises\n",
    "\n",
    "* In the example above, change the radius of the filter and observe the result.\n",
    "* Replace filter with `MeanImageFilter`\n",
    "* Replace filter with `OtsuThresholdImageFilter`\n",
    "* Visualize results"
   ]
  },
  {
   "cell_type": "markdown",
   "metadata": {
    "slideshow": {
     "slide_type": "subslide"
    }
   },
   "source": [
    "Uncomment and change the radius of the filter and observe the result."
   ]
  },
  {
   "cell_type": "code",
   "execution_count": 26,
   "metadata": {
    "slideshow": {
     "slide_type": "-"
    }
   },
   "outputs": [],
   "source": [
    "# median_filter = itk.MedianImageFilter[ImageType, ImageType].New()\n",
    "# median_filter.SetInput(image)\n",
    "# median_filter.SetRadius(XX)\n",
    "# median_filter.Update()\n",
    "# median_filtered_image = median_filter.GetOutput()\n",
    "# view(median_filtered_image)"
   ]
  },
  {
   "cell_type": "code",
   "execution_count": 50,
   "metadata": {
    "slideshow": {
     "slide_type": "-"
    }
   },
   "outputs": [],
   "source": [
    "# %load solutions/2_Using_ITK_in_Python_real_world_filters_MedianFilter.py"
   ]
  },
  {
   "cell_type": "markdown",
   "metadata": {
    "slideshow": {
     "slide_type": "subslide"
    }
   },
   "source": [
    "Uncomment and edit to use `MeanImageFilter`"
   ]
  },
  {
   "cell_type": "code",
   "execution_count": 30,
   "metadata": {
    "slideshow": {
     "slide_type": "-"
    }
   },
   "outputs": [],
   "source": [
    "# mean_filter = itk.XX[ImageType, ImageType].New()\n",
    "# mean_filter.SetInput(XX)\n",
    "# mean_filter.SetRadius(XX)\n",
    "# mean_filter.Update()\n",
    "# mean_filtered_image = mean_filter.GetOutput()\n",
    "# view(mean_filtered_image)"
   ]
  },
  {
   "cell_type": "code",
   "execution_count": 54,
   "metadata": {
    "slideshow": {
     "slide_type": "-"
    }
   },
   "outputs": [],
   "source": [
    "# %load solutions/2_Using_ITK_in_Python_real_world_filters_MeanFilter.py"
   ]
  },
  {
   "cell_type": "markdown",
   "metadata": {
    "slideshow": {
     "slide_type": "subslide"
    }
   },
   "source": [
    "Uncomment and replace filter with `OtsuThresholdImageFilter`"
   ]
  },
  {
   "cell_type": "code",
   "execution_count": 34,
   "metadata": {
    "slideshow": {
     "slide_type": "-"
    }
   },
   "outputs": [],
   "source": [
    "# InputImageType = itk.Image[itk.ctype('float'), 2]\n",
    "# OutputImageType = itk.Image[itk.ctype('short'), 2]\n",
    "\n",
    "# otsu_filter = itk.OtsuThresholdImageFilter[XX]\n",
    "# XX"
   ]
  },
  {
   "cell_type": "code",
   "execution_count": 56,
   "metadata": {
    "slideshow": {
     "slide_type": "-"
    }
   },
   "outputs": [
    {
     "data": {
      "application/vnd.jupyter.widget-view+json": {
       "model_id": "829c493d2747449092c853362c5a4bb4",
       "version_major": 2,
       "version_minor": 0
      },
      "text/plain": [
       "Viewer(geometries=[], gradient_opacity=0.22, point_sets=[], rendered_image=<itkImagePython.itkImageSS2; proxy …"
      ]
     },
     "metadata": {},
     "output_type": "display_data"
    }
   ],
   "source": [
    "# %load solutions/2_Using_ITK_in_Python_real_world_filters_OtsuFilter.py"
   ]
  },
  {
   "cell_type": "markdown",
   "metadata": {
    "slideshow": {
     "slide_type": "subslide"
    }
   },
   "source": [
    "## ITK Object-oriented Summary\n",
    "* Has `New()` method?\n",
    "  * Call `Update()` with filters!"
   ]
  },
  {
   "cell_type": "markdown",
   "metadata": {
    "slideshow": {
     "slide_type": "slide"
    }
   },
   "source": [
    "## Supported Image Types"
   ]
  },
  {
   "cell_type": "markdown",
   "metadata": {
    "slideshow": {
     "slide_type": "subslide"
    }
   },
   "source": [
    "### Unsupported (image) types\n",
    "\n",
    "ITK filters have compile-time performance optimized for a specific image types and dimensions.\n",
    "\n",
    "When an attempt is made to use a filter with an image type that is not supported, a error will occur like:"
   ]
  },
  {
   "cell_type": "markdown",
   "metadata": {
    "slideshow": {
     "slide_type": "fragment"
    }
   },
   "source": [
    "`KeyError: \"itkTemplate : No template [<class 'itkImagePython.itkImageD2'>] for the itk::ImageFileReader class\"`"
   ]
  },
  {
   "cell_type": "code",
   "execution_count": 30,
   "metadata": {
    "slideshow": {
     "slide_type": "fragment"
    }
   },
   "outputs": [],
   "source": [
    "# image = itk.imread(\"data/BrainProtonDensitySlice.png\", itk.D)\n",
    "# print(image)"
   ]
  },
  {
   "cell_type": "markdown",
   "metadata": {},
   "source": [
    "To find the supported types for a filter, call `.GetTypes()` on the filter. `itk.imread` wraps, the `itk.ImageFileReader` filter."
   ]
  },
  {
   "cell_type": "code",
   "execution_count": 25,
   "metadata": {},
   "outputs": [
    {
     "name": "stdout",
     "output_type": "stream",
     "text": [
      "<itkTemplate itk::ImageFileReader>\n",
      "Options:\n",
      "  [<class 'itkCoocurrenceTextureFeaturesImageFilterPython.itkImageVF82'>,]\n",
      "  [<class 'itkCoocurrenceTextureFeaturesImageFilterPython.itkImageVF83'>,]\n",
      "  [<class 'itkImagePython.itkImageCF2'>,]\n",
      "  [<class 'itkImagePython.itkImageCF3'>,]\n",
      "  [<class 'itkImagePython.itkImageCVF22'>,]\n",
      "  [<class 'itkImagePython.itkImageCVF23'>,]\n",
      "  [<class 'itkImagePython.itkImageCVF32'>,]\n",
      "  [<class 'itkImagePython.itkImageCVF33'>,]\n",
      "  [<class 'itkImagePython.itkImageCVF42'>,]\n",
      "  [<class 'itkImagePython.itkImageCVF43'>,]\n",
      "  [<class 'itkImagePython.itkImageF2'>,]\n",
      "  [<class 'itkImagePython.itkImageF3'>,]\n",
      "  [<class 'itkImagePython.itkImageRGBAUC2'>,]\n",
      "  [<class 'itkImagePython.itkImageRGBAUC3'>,]\n",
      "  [<class 'itkImagePython.itkImageRGBUC2'>,]\n",
      "  [<class 'itkImagePython.itkImageRGBUC3'>,]\n",
      "  [<class 'itkImagePython.itkImageSS2'>,]\n",
      "  [<class 'itkImagePython.itkImageSS3'>,]\n",
      "  [<class 'itkImagePython.itkImageUC2'>,]\n",
      "  [<class 'itkImagePython.itkImageUC3'>,]\n",
      "  [<class 'itkImagePython.itkImageUS2'>,]\n",
      "  [<class 'itkImagePython.itkImageUS3'>,]\n",
      "  [<class 'itkImagePython.itkImageVF22'>,]\n",
      "  [<class 'itkImagePython.itkImageVF23'>,]\n",
      "  [<class 'itkImagePython.itkImageVF32'>,]\n",
      "  [<class 'itkImagePython.itkImageVF33'>,]\n",
      "  [<class 'itkImagePython.itkImageVF42'>,]\n",
      "  [<class 'itkImagePython.itkImageVF43'>,]\n",
      "  [<class 'itkRunLengthTextureFeaturesImageFilterPython.itkImageVF102'>,]\n",
      "  [<class 'itkRunLengthTextureFeaturesImageFilterPython.itkImageVF103'>,]\n",
      "  [<class 'itkVectorImagePython.itkVectorImageF2'>,]\n",
      "  [<class 'itkVectorImagePython.itkVectorImageF3'>,]\n",
      "  [<class 'itkVectorImagePython.itkVectorImageSS2'>,]\n",
      "  [<class 'itkVectorImagePython.itkVectorImageSS3'>,]\n",
      "  [<class 'itkVectorImagePython.itkVectorImageUC2'>,]\n",
      "  [<class 'itkVectorImagePython.itkVectorImageUC3'>,]\n",
      "  [<class 'itkVectorImagePython.itkVectorImageUS2'>,]\n",
      "  [<class 'itkVectorImagePython.itkVectorImageUS3'>,]\n"
     ]
    }
   ],
   "source": [
    "itk.ImageFileReader.GetTypes()"
   ]
  },
  {
   "cell_type": "markdown",
   "metadata": {
    "slideshow": {
     "slide_type": "fragment"
    }
   },
   "source": [
    "One approach to handle this type of error is is to read the image into a supported pixel type:"
   ]
  },
  {
   "cell_type": "code",
   "execution_count": 27,
   "metadata": {
    "slideshow": {
     "slide_type": "fragment"
    }
   },
   "outputs": [],
   "source": [
    "image = itk.imread(\"data/KitwareITK.jpg\", itk.F)"
   ]
  },
  {
   "cell_type": "markdown",
   "metadata": {
    "slideshow": {
     "slide_type": "fragment"
    }
   },
   "source": [
    "Another approach is to cast the image to a supported image type:"
   ]
  },
  {
   "cell_type": "code",
   "execution_count": 28,
   "metadata": {
    "slideshow": {
     "slide_type": "fragment"
    }
   },
   "outputs": [],
   "source": [
    "InputImageType = itk.Image[itk.F, 2]\n",
    "OutputImageType = itk.Image[itk.UC, 2]\n",
    "cast_filter = itk.CastImageFilter[InputImageType, OutputImageType].New(image)\n",
    "cast_filter.Update()"
   ]
  },
  {
   "cell_type": "markdown",
   "metadata": {
    "slideshow": {
     "slide_type": "subslide"
    }
   },
   "source": [
    "## Appendix"
   ]
  },
  {
   "cell_type": "markdown",
   "metadata": {
    "slideshow": {
     "slide_type": "fragment"
    }
   },
   "source": [
    "### Functions to know\n",
    "* `itk.imread(file_name [, pixel_type])`\n",
    "* `itk.imwrite(image, file_name [, compression])`\n",
    "* `itk.array_from_image(image)` and `itk.array_view_from_image(image)`\n",
    "* `itk.image_from_array(arr)` and `itk.image_view_from_array(arr)`"
   ]
  },
  {
   "cell_type": "markdown",
   "metadata": {
    "slideshow": {
     "slide_type": "fragment"
    }
   },
   "source": [
    "### Pixel types - Two options\n",
    "* itk.ctype('float'), itk.ctype('unsigned char')\n",
    "* itk.F, itk.UC"
   ]
  },
  {
   "cell_type": "markdown",
   "metadata": {
    "slideshow": {
     "slide_type": "skip"
    }
   },
   "source": [
    "### Convenience functions\n",
    "* `itk.size(image)`\n",
    "* `itk.spacing(image)`\n",
    "* `itk.origin(image)`\n",
    "* `itk.index(image)`\n",
    "* `itk.physical_size(image)`"
   ]
  },
  {
   "cell_type": "markdown",
   "metadata": {},
   "source": [
    "See also: the **[ITK Python Quick Start Guide](https://itkpythonpackage.readthedocs.io/en/latest/Quick_start_guide.html)**"
   ]
  },
  {
   "cell_type": "markdown",
   "metadata": {},
   "source": [
    "### Enjoy ITK!"
   ]
  }
 ],
 "metadata": {
  "celltoolbar": "Slideshow",
  "kernelspec": {
   "display_name": "Python 3",
   "language": "python",
   "name": "python3"
  },
  "language_info": {
   "codemirror_mode": {
    "name": "ipython",
    "version": 3
   },
   "file_extension": ".py",
   "mimetype": "text/x-python",
   "name": "python",
   "nbconvert_exporter": "python",
   "pygments_lexer": "ipython3",
   "version": "3.6.8"
  }
 },
 "nbformat": 4,
 "nbformat_minor": 2
}
