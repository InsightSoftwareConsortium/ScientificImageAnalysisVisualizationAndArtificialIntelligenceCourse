{
 "cells": [
  {
   "cell_type": "markdown",
   "metadata": {
    "slideshow": {
     "slide_type": "slide"
    }
   },
   "source": [
    "# Registration Framework Components"
   ]
  },
  {
   "cell_type": "markdown",
   "metadata": {
    "slideshow": {
     "slide_type": "subslide"
    }
   },
   "source": [
    "### Learning Objectives\n",
    "\n",
    "* Get exposure to the different components in a registration optimization framework and how they are connected\n",
    "* Set up and run a complete registration pipeline"
   ]
  },
  {
   "cell_type": "markdown",
   "metadata": {
    "slideshow": {
     "slide_type": "subslide"
    }
   },
   "source": [
    "## Registration Optimization Framework Overview\n",
    "\n",
    "![Optimization framework](figures/ITKv4RegistrationComponentsDiagram.svg)"
   ]
  },
  {
   "cell_type": "markdown",
   "metadata": {
    "slideshow": {
     "slide_type": "slide"
    }
   },
   "source": [
    "## Exercise: Components of the registration framework\n",
    "\n",
    "Study the image registration pipeline below, and replace the `fixMe` the components with their correct values.\n"
   ]
  },
  {
   "cell_type": "code",
   "execution_count": null,
   "metadata": {
    "slideshow": {
     "slide_type": "subslide"
    }
   },
   "outputs": [],
   "source": [
    "import itk\n",
    "\n",
    "itkversionmajor: int = int(itk.Version.GetITKMajorVersion())\n",
    "itkversionminor: int = int(itk.Version.GetITKMinorVersion())\n",
    "if itkversionmajor < 5 or (itkversionmajor >= 5 and itkversionminor < 3):\n",
    "    raise ValueError(\"ITK greater than version 5.3.0 is required for this notebook\")\n",
    "\n",
    "import numpy as np\n",
    "from itkwidgets import view\n",
    "from matplotlib import pyplot as plt\n",
    "\n",
    "%matplotlib inline\n",
    "from ipywidgets import interact"
   ]
  },
  {
   "cell_type": "code",
   "execution_count": null,
   "metadata": {
    "slideshow": {
     "slide_type": "subslide"
    }
   },
   "outputs": [],
   "source": [
    "# Load and examine our input images\n",
    "\n",
    "PixelType = itk.ctype(\"float\")\n",
    "\n",
    "fixed_image = itk.imread(\"data/BrainProtonDensitySliceBorder20.png\", PixelType)\n",
    "# itk 5.1b1\n",
    "# plt.imshow(np.asarray(fixed_image))\n",
    "plt.imshow(itk.array_from_image(fixed_image))"
   ]
  },
  {
   "cell_type": "code",
   "execution_count": null,
   "metadata": {
    "slideshow": {
     "slide_type": "subslide"
    }
   },
   "outputs": [],
   "source": [
    "moving_image = itk.imread(\"data/BrainProtonDensitySliceShifted13x17y.png\", PixelType)\n",
    "\n",
    "plt.imshow(itk.array_from_image(fixed_image))"
   ]
  },
  {
   "cell_type": "code",
   "execution_count": null,
   "metadata": {
    "slideshow": {
     "slide_type": "subslide"
    }
   },
   "outputs": [],
   "source": [
    "# Define our registration components\n",
    "\n",
    "Dimension = fixed_image.GetImageDimension()\n",
    "FixedImageType = type(fixed_image)\n",
    "MovingImageType = type(moving_image)\n",
    "\n",
    "# itk.D is the 'double' C type\n",
    "TransformType = itk.TranslationTransform[itk.D, Dimension]\n",
    "initial_transform = TransformType.New()\n",
    "\n",
    "optimizer = itk.RegularStepGradientDescentOptimizerv4.New(\n",
    "    learning_rate=4,\n",
    "    minimum_step_length=0.001,\n",
    "    relaxation_factor=0.5,\n",
    "    number_of_iterations=200,\n",
    ")\n",
    "\n",
    "metric = itk.MeanSquaresImageToImageMetricv4[FixedImageType, MovingImageType].New()"
   ]
  },
  {
   "cell_type": "code",
   "execution_count": null,
   "metadata": {
    "slideshow": {
     "slide_type": "subslide"
    }
   },
   "outputs": [],
   "source": [
    "# Set up our registration method with its components\n",
    "\n",
    "registration = itk.ImageRegistrationMethodv4.New(\n",
    "    fixed_image=fixMe,\n",
    "    moving_image=fixMe,\n",
    "    metric=fixMe,\n",
    "    optimizer=fixMe,\n",
    "    initial_transform=fixMe,\n",
    ")"
   ]
  },
  {
   "cell_type": "code",
   "execution_count": null,
   "metadata": {
    "slideshow": {
     "slide_type": "fragment"
    }
   },
   "outputs": [],
   "source": [
    "# %load solutions/6_Registration_Framework_answer1.py"
   ]
  },
  {
   "cell_type": "code",
   "execution_count": null,
   "metadata": {
    "slideshow": {
     "slide_type": "subslide"
    }
   },
   "outputs": [],
   "source": [
    "# Set the initial parameters for the optimization problem\n",
    "\n",
    "moving_initial_transform = TransformType.New()\n",
    "initial_parameters = moving_initial_transform.GetParameters()\n",
    "# X translation\n",
    "initial_parameters[0] = 0.0\n",
    "# X translation\n",
    "initial_parameters[1] = 0.0\n",
    "moving_initial_transform.SetParameters(initial_parameters)\n",
    "registration.SetMovingInitialTransform(moving_initial_transform)\n",
    "\n",
    "identity_transform = TransformType.New()\n",
    "identity_transform.SetIdentity()\n",
    "registration.SetFixedInitialTransform(identity_transform)"
   ]
  },
  {
   "cell_type": "code",
   "execution_count": null,
   "metadata": {
    "slideshow": {
     "slide_type": "subslide"
    }
   },
   "outputs": [],
   "source": [
    "# Set up multi-resolution registration parameters\n",
    "\n",
    "# In multi-resolution registration, registration is first performed\n",
    "# on an image with reduced content. Then the resulting spatial transformation\n",
    "# is used at the start of optimization at the next level.\n",
    "\n",
    "# This improves robustness and speed\n",
    "\n",
    "registration.SetNumberOfLevels(1)\n",
    "registration.SetSmoothingSigmasPerLevel([0])\n",
    "registration.SetShrinkFactorsPerLevel([1])"
   ]
  },
  {
   "cell_type": "code",
   "execution_count": null,
   "metadata": {
    "slideshow": {
     "slide_type": "subslide"
    }
   },
   "outputs": [],
   "source": [
    "# Run the registration!\n",
    "\n",
    "registration.Update()"
   ]
  },
  {
   "cell_type": "code",
   "execution_count": null,
   "metadata": {
    "slideshow": {
     "slide_type": "subslide"
    }
   },
   "outputs": [],
   "source": [
    "# Examine the result\n",
    "\n",
    "transform = registration.GetTransform()\n",
    "final_parameters = transform.GetParameters()\n",
    "x_translation = final_parameters[0]\n",
    "y_translation = final_parameters[1]\n",
    "\n",
    "number_of_iterations = optimizer.GetCurrentIteration()\n",
    "\n",
    "best_value = optimizer.GetValue()\n",
    "\n",
    "print(\"Result:\")\n",
    "print(\" Translation X = \" + str(x_translation))\n",
    "print(\" Translation Y = \" + str(y_translation))\n",
    "print(\" Iterations    = \" + str(number_of_iterations))\n",
    "print(\" Metric value  = \" + str(best_value))"
   ]
  },
  {
   "cell_type": "code",
   "execution_count": null,
   "metadata": {
    "slideshow": {
     "slide_type": "subslide"
    }
   },
   "outputs": [],
   "source": [
    "# Our resulting transform is a composition, or chaining,\n",
    "# of the initial transform and the optimized transform\n",
    "output_transform = itk.CompositeTransform[itk.D, Dimension].New()\n",
    "output_transform.AddTransform(moving_initial_transform)\n",
    "output_transform.AddTransform(registration.GetModifiableTransform())"
   ]
  },
  {
   "cell_type": "code",
   "execution_count": null,
   "metadata": {
    "slideshow": {
     "slide_type": "subslide"
    }
   },
   "outputs": [],
   "source": [
    "resampled_moving_image = itk.resample_image_filter(\n",
    "    fixMe,\n",
    "    transform=fixMe,\n",
    "    use_reference_image=True,\n",
    "    default_pixel_value=1,\n",
    "    reference_image=fixMe,\n",
    ")"
   ]
  },
  {
   "cell_type": "code",
   "execution_count": null,
   "metadata": {
    "slideshow": {
     "slide_type": "fragment"
    }
   },
   "outputs": [],
   "source": [
    "# %load solutions/6_Registration_Framework_answer2.py"
   ]
  },
  {
   "cell_type": "code",
   "execution_count": null,
   "metadata": {
    "slideshow": {
     "slide_type": "subslide"
    }
   },
   "outputs": [],
   "source": [
    "view(resampled_moving_image, ui_collapsed=True)"
   ]
  },
  {
   "cell_type": "code",
   "execution_count": null,
   "metadata": {
    "slideshow": {
     "slide_type": "subslide"
    }
   },
   "outputs": [],
   "source": [
    "difference = itk.subtract_image_filter(fixed_image, resampled_moving_image)\n",
    "\n",
    "view(difference, ui_collapsed=True)"
   ]
  },
  {
   "cell_type": "code",
   "execution_count": null,
   "metadata": {
    "slideshow": {
     "slide_type": "subslide"
    }
   },
   "outputs": [],
   "source": [
    "original_difference = itk.subtract_image_filter(fixed_image, moving_image)\n",
    "\n",
    "view(original_difference, ui_collapsed=True)"
   ]
  },
  {
   "cell_type": "markdown",
   "metadata": {
    "slideshow": {
     "slide_type": "slide"
    }
   },
   "source": [
    "## Volumetric Image Registration that Just Works in Python\n",
    "\n",
    "[ITK_Example01_SimpleRegistration.ipynb](https://github.com/InsightSoftwareConsortium/ITKElastix/blob/master/examples/ITK_Example01_SimpleRegistration.ipynb)\n",
    "[also as a binder](https://mybinder.org/v2/gh/InsightSoftwareConsortium/ITKElastix/master?urlpath=lab/tree/examples%2FITK_Example01_SimpleRegistration.ipynb)\n",
    "\n",
    "Featuring:\n",
    "\n",
    "- Easily install, cross-platform Python packages\n",
    "- Proven registration method and settings that **just works** for most use cases:\n",
    "\n",
    "  * Multi-resolution\n",
    "  * Fast mutual-information similarity metric\n",
    "  * Rigid -> affine -> deformable b-spline transformations\n",
    "  * Fast adaptive stocastic gradient decent optimization, automatic parameter estimation\n",
    "  * Also generates resampled moving image by default\n",
    "  * Intelligent sampling\n",
    "  * Adjustable to new problems\n",
    "  \n",
    "Install:\n",
    "\n",
    "```\n",
    "pip install itk-elastix\t\n",
    "```\n",
    "\n",
    "Use:\n",
    "\n",
    "```\n",
    "import itk\t\n",
    "\n",
    "# The fixed and moving image can be an itk.Image or a numpy.ndarray\t\n",
    "fixed_image = itk.imread('path/to/fixed_image.mha')\t\n",
    "moving_image = itk.imread('path/to/moving_image.mha')\t\n",
    "\n",
    "result_image, result_transform_parameters = itk.elastix_registration_method(fixed_image, moving_image)\n",
    "```"
   ]
  },
  {
   "cell_type": "markdown",
   "metadata": {},
   "source": [
    "### Enjoy ITK!"
   ]
  }
 ],
 "metadata": {
  "celltoolbar": "Slideshow",
  "kernelspec": {
   "display_name": "Python 3 (ipykernel)",
   "language": "python",
   "name": "python3"
  },
  "language_info": {
   "codemirror_mode": {
    "name": "ipython",
    "version": 3
   },
   "file_extension": ".py",
   "mimetype": "text/x-python",
   "name": "python",
   "nbconvert_exporter": "python",
   "pygments_lexer": "ipython3",
   "version": "3.9.16"
  }
 },
 "nbformat": 4,
 "nbformat_minor": 4
}
