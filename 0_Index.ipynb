{
 "cells": [
  {
   "cell_type": "markdown",
   "metadata": {
    "slideshow": {
     "slide_type": "slide"
    }
   },
   "source": [
    "# Scientific Image Analysis, Visualization and Artificial Intelligence Course\n",
    "\n",
    "### Kitware, Carrboro, North Carolina\n",
    "### May, 2021\n",
    "\n",
    "Instructors:\n",
    "\n",
    "- Matt McCormick, PhD\n",
    "- Dženan Zukić, PhD\n",
    "\n",
    "[![Kitware](data/kitware-logo.png)](https//www.kitware.com)"
   ]
  },
  {
   "cell_type": "markdown",
   "metadata": {
    "slideshow": {
     "slide_type": "slide"
    }
   },
   "source": [
    "## Abstract\n",
    "\n",
    "[![ITK](data/itk-logo.png)](https://www.itk.org/)\n",
    "\n",
    "\n",
    "The [Insight Toolkit (ITK) (www.itk.org)](\n",
    "http://www.itk.org) has become a standard in academia and industry for\n",
    "medical image analysis. In recent years, the ITK community has\n",
    "focused on providing programming interfaces to ITK from Python and JavaScript\n",
    "and making ITK available via leading applications such as Slicer and ImageJ.\n",
    "In this course we present best practices for taking advantage of ITK in your\n",
    "imaging research and commercial products. We demonstrate how script writing\n",
    "and can be used to access the algorithms in ITK and the\n",
    "multitude of ITK extensions that are freely available on the web."
   ]
  },
  {
   "cell_type": "markdown",
   "metadata": {
    "slideshow": {
     "slide_type": "slide"
    }
   },
   "source": [
    "## Tutorials\n",
    "\n",
    "1. [Introduction to the Insight Toolkit (ITK)](1_Introduction_to_the_Insight_Toolkit.ipynb)\n",
    "2. [ITK in Python](2_ITK_in_Python.ipynb)\n",
    "3. [Image Filtering](3_Image_Filtering.ipynb)\n",
    "4. [Segmentation](4_Segmentation.ipynb)\n",
    "5. [Physical Space and the Image Grid](5_Physical_Space_and_the_Image_Grid.ipynb)\n",
    "6. [Registration Framework Components](6_Registration_Framework_Components.ipynb)\n",
    "7. [Extending the Toolkit](7_Extending_the_Toolkit-Part1.ipynb)\n",
    "8. [Machine Learning](8_Machine_Learning.ipynb)\n",
    "9. [Introduction to itk.js](https://bit.ly/itkjsKitwareBiomedical2019)"
   ]
  }
 ],
 "metadata": {
  "celltoolbar": "Slideshow",
  "kernelspec": {
   "display_name": "Python 3",
   "language": "python",
   "name": "python3"
  },
  "language_info": {
   "codemirror_mode": {
    "name": "ipython",
    "version": 3
   },
   "file_extension": ".py",
   "mimetype": "text/x-python",
   "name": "python",
   "nbconvert_exporter": "python",
   "pygments_lexer": "ipython3",
   "version": "3.7.1"
  }
 },
 "nbformat": 4,
 "nbformat_minor": 1
}
