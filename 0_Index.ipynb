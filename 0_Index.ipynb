{
 "cells": [
  {
   "cell_type": "markdown",
   "metadata": {
    "slideshow": {
     "slide_type": "slide"
    }
   },
   "source": [
    "# Scientific Image Analysis, Visualization, and Artificial Intelligence Course\n",
    "\n",
    "### February, 2024\n",
    "\n",
    "<img src=\"figures/course-logo.webp\" width=\"400\">\n",
    "\n",
    "Authors:\n",
    "\n",
    "- Matt McCormick, PhD\n",
    "- Francois Budin\n",
    "- Dženan Zukić, PhD\n",
    "- Hans J. Johnson, PhD\n",
    "\n",
    "[![Kitware](figures/kitware-logo.png)](https//www.kitware.com)"
   ]
  },
  {
   "cell_type": "markdown",
   "metadata": {
    "slideshow": {
     "slide_type": "slide"
    }
   },
   "source": [
    "## Abstract\n",
    "\n",
    "[![ITK](data/itk-logo.png)](https://www.itk.org/)\n",
    "\n",
    "\n",
    "The [Insight Toolkit (ITK) (www.itk.org)](\n",
    "http://www.itk.org) has become a\n",
    "standard in academia and industry for medical image analysis. In recent years,\n",
    "the ITK community has focused on providing programming interfaces to ITK from\n",
    "Python or JavaScript and making ITK available via leading applications such as\n",
    "Slicer, ImageJ, and Napari. Moreover, the toolkit has transformed into a\n",
    "accessible foundation for advanced, progressive bioimaging web applications.\n",
    "In this course, we present best practices for taking advantage of ITK in your\n",
    "imaging research and commercial products. We demonstrate how to utilize the\n",
    "algorithms in ITK, including the multitude of ITK extensions that are freely\n",
    "available on the web, and how to leverage with the broader open source\n",
    "technological ecosystem for scientific image analysis, visualization, and\n",
    "artificial intelligence.\n"
   ]
  },
  {
   "cell_type": "markdown",
   "metadata": {
    "slideshow": {
     "slide_type": "slide"
    }
   },
   "source": [
    "## Tutorials\n",
    "\n",
    "1. [Introduction to the Insight Toolkit (ITK)](1_Introduction_to_the_Insight_Toolkit.ipynb)\n",
    "2. [ITK in Python](2_ITK_in_Python.ipynb)\n",
    "3. [Image Filtering](3_Image_Filtering.ipynb)\n",
    "4. [Segmentation](4_Segmentation.ipynb)\n",
    "5. [Physical Space and the Image Grid](5_Physical_Space_and_the_Image_Grid.ipynb)\n",
    "6. [Registration Framework Components](6_Registration_Framework_Components.ipynb)\n",
    "7. [Extending the Toolkit](7_Extending_the_Toolkit-Part1.ipynb)\n",
    "8. [Medical Machine Learning](8_Medical_Machine_Learning.ipynb)\n",
    "9. [Introduction to ITK-Wasm](https://bit.ly/itkjsKitwareBiomedical2019)"
   ]
  }
 ],
 "metadata": {
  "celltoolbar": "Slideshow",
  "kernelspec": {
   "display_name": "Python 3 (ipykernel)",
   "language": "python",
   "name": "python3"
  },
  "language_info": {
   "codemirror_mode": {
    "name": "ipython",
    "version": 3
   },
   "file_extension": ".py",
   "mimetype": "text/x-python",
   "name": "python",
   "nbconvert_exporter": "python",
   "pygments_lexer": "ipython3",
   "version": "3.11.7"
  }
 },
 "nbformat": 4,
 "nbformat_minor": 4
}
